{
 "cells": [
  {
   "cell_type": "code",
   "execution_count": null,
   "metadata": {},
   "outputs": [],
   "source": [
    "import pandas as pd\n",
    "import numpy as np\n",
    "from snowflake.snowpark.session import Session\n",
    "from snowflake.snowpark.functions import udf, avg, col\n",
    "from snowflake.snowpark.types import IntegerType, FloatType, StringType, BooleanType\n",
    "from snowflake.snowpark.files import SnowflakeFile\n",
    "import sys\n",
    "sys.path.append('..')\n",
    "from credentials import Credentials"
   ]
  },
  {
   "cell_type": "code",
   "execution_count": null,
   "metadata": {},
   "outputs": [],
   "source": [
    "cred = Credentials()\n",
    "session = Session.builder.configs(cred.__dict__).create()"
   ]
  },
  {
   "cell_type": "markdown",
   "metadata": {},
   "source": [
    "# Connecting"
   ]
  },
  {
   "cell_type": "code",
   "execution_count": null,
   "metadata": {},
   "outputs": [],
   "source": [
    "# conecting to environment\n",
    "session.use_role('SYSADMIN')\n",
    "session.use_database('EXTERNAL_ACCESS_DB')\n",
    "session.use_schema('PUBLIC')\n",
    "session.use_warehouse('EXTERNAL_ACCESS_WH')"
   ]
  },
  {
   "cell_type": "markdown",
   "metadata": {},
   "source": [
    "# Creating a stage that will hold the stored procedure"
   ]
  },
  {
   "cell_type": "code",
   "execution_count": null,
   "metadata": {},
   "outputs": [],
   "source": [
    "stage_name = 'STORED_PROC_STAGE'\n",
    "session.sql(f'CREATE OR REPLACE STAGE {stage_name}').collect()"
   ]
  },
  {
   "cell_type": "markdown",
   "metadata": {},
   "source": [
    "# Creating a table"
   ]
  },
  {
   "cell_type": "code",
   "execution_count": null,
   "metadata": {},
   "outputs": [],
   "source": [
    "df1 = session.create_dataframe([[1, 'This is some text that will be translate'], [2, 'One of my travels was in a place call Geneva']], schema=[\"ROWNUM\", \"TEXT_TO_TRANSLATE\"])\n",
    "df1.write.save_as_table(\"TABLE_TO_TRANSLATE\", mode=\"overwrite\", table_type=\"transient\")"
   ]
  },
  {
   "cell_type": "markdown",
   "metadata": {},
   "source": [
    "## Creating Stored procedure"
   ]
  },
  {
   "cell_type": "code",
   "execution_count": null,
   "metadata": {},
   "outputs": [],
   "source": [
    "database_name = 'EXTERNAL_ACCESS_DB'\n",
    "schema_name = 'PUBLIC'\n",
    "table_name = 'TABLE_TO_TRANSLATE'\n",
    "column_to_translate_name = 'TEXT_TO_TRANSLATE'"
   ]
  },
  {
   "cell_type": "code",
   "execution_count": null,
   "metadata": {},
   "outputs": [],
   "source": [
    "def sp_translate_table(session: Session, database_name: str, schema_name: str, table_name: str, column_to_translate_name: str, target_language: str) -> str:\n",
    "\timport _snowflake\n",
    "\timport requests as rq\n",
    "\timport json\n",
    "\t\n",
    "\ttable_to_translate = session.sql(f\"SELECT * FROM {database_name}.{schema_name}.{table_name}\").collect()\n",
    "\ttable_translated = []\n",
    "\n",
    "\ttoken = _snowflake.get_oauth_access_token('cred')\n",
    "\turl = \"https://translation.googleapis.com/language/translate/v2\"\n",
    "  \t\n",
    "\tfor row in table_to_translate:\n",
    "\t\tsentence = row[column_to_translate_name]\n",
    "\t\t\n",
    "\t\tdata = {'q': sentence,'target': target_language}\n",
    "\n",
    "\t\tresponse = rq.session.post(url, json = data, headers = {\"Authorization\": \"Bearer \" + token})\n",
    "\t\t\n",
    "\t\ttable_translated.append([row[0], response.json()['data']['translations'][0]['translatedText']])\n",
    "\t\n",
    "\tdf1 = session.create_dataframe(table_translated, schema=[\"rownum\", \"text_translated\"])\n",
    "\tdf1.write.save_as_table(\"TABLE_TRANSLATED\", mode=\"overwrite\", table_type=\"transient\")\n",
    "\n",
    "\treturn 'SUCCESS'"
   ]
  },
  {
   "cell_type": "code",
   "execution_count": null,
   "metadata": {},
   "outputs": [],
   "source": [
    "session.sproc.register(\n",
    "\tfunc = sp_translate_table,\n",
    "\tname = \"sp_translate_table\",\n",
    "\tpackages = [\"snowflake-snowpark-python\", \"requests\"],\n",
    "\tis_permanent = True,\n",
    "\tstage_location = \"@EXTERNAL_ACCESS_DB.PUBLIC.STORED_PROC_STAGE\",\n",
    "\tsource_code_display = False,\n",
    "\texecute_as = 'owner',\n",
    "\treplace = True,\n",
    "\texternal_access_integrations = ['google_apis_access_integration'],\n",
    "\tsecrets = {'cred': 'oauth_token'}\n",
    ")"
   ]
  },
  {
   "cell_type": "code",
   "execution_count": null,
   "metadata": {},
   "outputs": [],
   "source": [
    "session.call(\"sp_translate_table\", database_name, schema_name, table_name, column_to_translate_name, 'es')"
   ]
  },
  {
   "cell_type": "code",
   "execution_count": null,
   "metadata": {},
   "outputs": [],
   "source": [
    "session.close()"
   ]
  }
 ],
 "metadata": {
  "kernelspec": {
   "display_name": "snowpark",
   "language": "python",
   "name": "python3"
  },
  "language_info": {
   "codemirror_mode": {
    "name": "ipython",
    "version": 3
   },
   "file_extension": ".py",
   "mimetype": "text/x-python",
   "name": "python",
   "nbconvert_exporter": "python",
   "pygments_lexer": "ipython3",
   "version": "3.10.12"
  },
  "orig_nbformat": 4
 },
 "nbformat": 4,
 "nbformat_minor": 2
}
