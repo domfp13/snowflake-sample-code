{
 "cells": [
  {
   "cell_type": "markdown",
   "metadata": {},
   "source": [
    "# Importing libs"
   ]
  },
  {
   "cell_type": "code",
   "execution_count": null,
   "metadata": {},
   "outputs": [],
   "source": [
    "import pandas as pd\n",
    "import numpy as np\n",
    "from snowflake.snowpark.session import Session\n",
    "from snowflake.snowpark.functions import udf, avg, col\n",
    "from snowflake.snowpark.types import IntegerType, FloatType, StringType, BooleanType\n",
    "from snowflake.snowpark.files import SnowflakeFile\n",
    "import sys\n",
    "import logging\n",
    "sys.path.append('..')\n",
    "from credentials import Credentials"
   ]
  },
  {
   "cell_type": "code",
   "execution_count": null,
   "metadata": {},
   "outputs": [],
   "source": [
    "cred = Credentials()\n",
    "session = Session.builder.configs(cred.__dict__).create()"
   ]
  },
  {
   "cell_type": "code",
   "execution_count": null,
   "metadata": {},
   "outputs": [],
   "source": [
    "session.use_role(\"SYSADMIN\")\n",
    "session.use_database(\"ACCOUNTADMIN_MGMT\")\n",
    "session.use_warehouse(\"ACCOUNTADMIN_MGMT\")\n",
    "session.use_schema(\"UTILITIES\")"
   ]
  },
  {
   "cell_type": "markdown",
   "metadata": {},
   "source": [
    "# Working with individual table"
   ]
  },
  {
   "cell_type": "markdown",
   "metadata": {},
   "source": [
    "## Individual table"
   ]
  },
  {
   "cell_type": "code",
   "execution_count": null,
   "metadata": {},
   "outputs": [],
   "source": [
    "# Getting name of the table\n",
    "db_name = 'STITCH'\n",
    "schema_name = 'SALESFORCEQASIT'\n",
    "table_name:str = 'CASE'"
   ]
  },
  {
   "cell_type": "code",
   "execution_count": null,
   "metadata": {},
   "outputs": [],
   "source": [
    "def transform_name(name, type, name_alias):\n",
    "    \"\"\"\n",
    "    Transforms the given name and type into a formatted string with an alias.\n",
    "\n",
    "    Parameters:\n",
    "    name (str): The name of the column.\n",
    "    type (str): The data type of the column.\n",
    "    name_alias (str): The alias for the column.\n",
    "\n",
    "    Returns:\n",
    "    str: The formatted string with the alias.\n",
    "    \"\"\"\n",
    "    if isinstance(type, str) and 'VARCHAR' in type:\n",
    "        return f\"CAST(SUBSTR({name},1,2000) AS VARCHAR(2000)) AS {name_alias}\".format(name, name_alias)\n",
    "    else:\n",
    "        return f\"{name} AS {name_alias}\".format(name, name_alias)"
   ]
  },
  {
   "cell_type": "markdown",
   "metadata": {},
   "source": [
    "### Getting information from the ACCOUNTADMIN_MGMT.UTILITIES.SALESFORCE_TABLE_VIEW_MAPPING"
   ]
  },
  {
   "cell_type": "code",
   "execution_count": null,
   "metadata": {},
   "outputs": [],
   "source": [
    "table_view_mapping = session.sql(f\"SELECT * FROM ACCOUNTADMIN_MGMT.UTILITIES.SALESFORCE_TABLE_VIEW_MAPPING WHERE NAME_SALESFORCE_ENVIRONMENT = '{schema_name}' AND NAME_SALESFORCE_TABLE_ORIGINAL = '{table_name}'\".format(schema_name, table_name)).collect()\n",
    "table_view_mapping_dic = [row.asDict() for row in table_view_mapping][0]\n",
    "table_name = table_view_mapping_dic['NAME_SALESFORCE_TABLE_ORIGINAL']\n",
    "table_for_desc_name = table_view_mapping_dic['NAME_SNOWFLAKE_RESERVED_WORD']\n",
    "view_name = table_view_mapping_dic['NAME_SALESFORCE_VIEW_ALIAS']"
   ]
  },
  {
   "cell_type": "markdown",
   "metadata": {},
   "source": [
    "### Gets all the columns from the Metadata of the table"
   ]
  },
  {
   "cell_type": "code",
   "execution_count": null,
   "metadata": {},
   "outputs": [],
   "source": [
    "result_describe_table = [row.as_dict() for row in session.sql(f\"DESCRIBE TABLE {db_name}.{schema_name}.{table_for_desc_name};\".format(db_name, schema_name, table_for_desc_name)).collect()]\n",
    "df_describe_table = pd.DataFrame(result_describe_table)\n",
    "df_describe_table.drop(columns=['null?', 'default','primary key', 'unique key',\n",
    "'check', 'expression', 'comment', 'policy name'], inplace=True)\n",
    "df_describe_table"
   ]
  },
  {
   "cell_type": "markdown",
   "metadata": {},
   "source": [
    "### Gets the columns from the mapping table"
   ]
  },
  {
   "cell_type": "code",
   "execution_count": null,
   "metadata": {},
   "outputs": [],
   "source": [
    "result_salesforce_mapping = [row.as_dict() for row in session.sql(f\"SELECT NAME_SALESFORCE_ATTRIBUTE, NAME_ALIAS FROM ACCOUNTADMIN_MGMT.UTILITIES.SALESFORCE_COLUMN_MAPPING WHERE NAME_SALESFORCE_OBJECT = '{table_name}'\".format()).collect()]\n",
    "df_salesforce_mapping = pd.DataFrame(result_salesforce_mapping)\n",
    "df_salesforce_mapping"
   ]
  },
  {
   "cell_type": "code",
   "execution_count": null,
   "metadata": {},
   "outputs": [],
   "source": [
    "if df_salesforce_mapping.empty:\n",
    "\tfinal_df = df_describe_table\n",
    "\tfinal_df['NAME_ALIAS'] = final_df['name']\n",
    "else:\n",
    "\tfinal_df = pd.merge(df_describe_table, df_salesforce_mapping, left_on='name', right_on='NAME_SALESFORCE_ATTRIBUTE', how='left')\n",
    "\tfinal_df['NAME_ALIAS'] = final_df.apply(lambda x: x['name'] if pd.isna(x['NAME_ALIAS']) else x['NAME_ALIAS'], axis=1)"
   ]
  },
  {
   "cell_type": "code",
   "execution_count": null,
   "metadata": {},
   "outputs": [],
   "source": [
    "final_df"
   ]
  },
  {
   "cell_type": "code",
   "execution_count": null,
   "metadata": {},
   "outputs": [],
   "source": [
    "final_df['name_new'] = final_df.apply(lambda x: transform_name(x['name'], x['type'], x['NAME_ALIAS']), axis=1)"
   ]
  },
  {
   "cell_type": "code",
   "execution_count": null,
   "metadata": {},
   "outputs": [],
   "source": [
    "final_df"
   ]
  },
  {
   "cell_type": "markdown",
   "metadata": {},
   "source": [
    "### Adding missing columns from mapping"
   ]
  },
  {
   "cell_type": "code",
   "execution_count": null,
   "metadata": {},
   "outputs": [],
   "source": [
    "if df_salesforce_mapping.empty:\n",
    "\tfinal_df_missing = df_describe_table\n",
    "\tfinal_df_missing['NAME_ALIAS'] = final_df_missing['name']\n",
    "else:\n",
    "\tfinal_df_missing = pd.merge(df_salesforce_mapping, df_describe_table, left_on='NAME_SALESFORCE_ATTRIBUTE', right_on='name', how='left')\n",
    "\tfinal_df_missing = final_df_missing[final_df_missing['name'].isnull()]\n",
    "\tfinal_df_missing['NAME_ALIAS'] = final_df_missing.apply(lambda x: x['name'] if pd.isna(x['NAME_ALIAS']) else x['NAME_ALIAS'], axis=1)\n",
    "\t# Reorder columns\n",
    "\tfinal_df_missing = final_df_missing.reindex(columns=['name', 'type', 'kind','NAME_SALESFORCE_ATTRIBUTE', 'NAME_ALIAS'])"
   ]
  },
  {
   "cell_type": "code",
   "execution_count": null,
   "metadata": {},
   "outputs": [],
   "source": [
    "final_df_missing"
   ]
  },
  {
   "cell_type": "code",
   "execution_count": null,
   "metadata": {},
   "outputs": [],
   "source": [
    "def transform_name_null(name_alias) -> str:\n",
    "\t\"\"\"\n",
    "\tAdds given name_alias as null.\n",
    "\n",
    "\tParameters:\n",
    "\tname_alias (str): The alias for the column.\n",
    "\n",
    "\tReturns:\n",
    "\tstr: The formatted string with the alias.\n",
    "    \"\"\"\n",
    "\treturn f\"CAST(NULL AS NUMBER) AS {name_alias}\".format(name_alias)"
   ]
  },
  {
   "cell_type": "code",
   "execution_count": null,
   "metadata": {},
   "outputs": [],
   "source": [
    "final_df_missing['name_new'] = final_df_missing.apply(lambda x: transform_name_null(x['NAME_ALIAS']), axis=1)"
   ]
  },
  {
   "cell_type": "code",
   "execution_count": null,
   "metadata": {},
   "outputs": [],
   "source": [
    "final_df_missing"
   ]
  },
  {
   "cell_type": "markdown",
   "metadata": {},
   "source": [
    "### Merging the dataframes"
   ]
  },
  {
   "cell_type": "code",
   "execution_count": null,
   "metadata": {},
   "outputs": [],
   "source": [
    "result_df = pd.concat([final_df, final_df_missing])"
   ]
  },
  {
   "cell_type": "code",
   "execution_count": null,
   "metadata": {},
   "outputs": [],
   "source": [
    "result_df"
   ]
  },
  {
   "cell_type": "markdown",
   "metadata": {},
   "source": [
    "### Transforming to list"
   ]
  },
  {
   "cell_type": "code",
   "execution_count": null,
   "metadata": {},
   "outputs": [],
   "source": [
    "column_list:list = result_df['name_new'].to_list()"
   ]
  },
  {
   "cell_type": "code",
   "execution_count": null,
   "metadata": {},
   "outputs": [],
   "source": [
    "columns_str:str = ', '.join(column_list)"
   ]
  },
  {
   "cell_type": "code",
   "execution_count": null,
   "metadata": {},
   "outputs": [],
   "source": [
    "final_query:str = f\"CREATE OR REPLACE VIEW {db_name}.{schema_name}.{view_name} AS SELECT {columns_str} FROM {db_name}.{schema_name}.{table_for_desc_name};\""
   ]
  },
  {
   "cell_type": "code",
   "execution_count": null,
   "metadata": {},
   "outputs": [],
   "source": [
    "final_query"
   ]
  },
  {
   "cell_type": "markdown",
   "metadata": {},
   "source": [
    "# Stored Procedure sp_create_salesforce_views"
   ]
  },
  {
   "cell_type": "code",
   "execution_count": null,
   "metadata": {},
   "outputs": [],
   "source": [
    "def transform_name(name, type, name_alias):\n",
    "    \"\"\"\n",
    "    Transforms the given name and type into a formatted string with an alias.\n",
    "\n",
    "    Parameters:\n",
    "    name (str): The name of the column.\n",
    "    type (str): The data type of the column.\n",
    "    name_alias (str): The alias for the column.\n",
    "\n",
    "    Returns:\n",
    "    str: The formatted string with the alias.\n",
    "    \"\"\"\n",
    "    if isinstance(type, str) and 'VARCHAR' in type:\n",
    "        #return name + '0007'\n",
    "        return f\"CAST(SUBSTR({name},1,2000) AS VARCHAR(2000)) AS {name_alias}\".format(name, name_alias)\n",
    "    else:\n",
    "        return f\"{name} AS {name_alias}\".format(name, name_alias)"
   ]
  },
  {
   "cell_type": "code",
   "execution_count": null,
   "metadata": {},
   "outputs": [],
   "source": [
    "def transform_name_null(name_alias) -> str:\n",
    "\t\"\"\"\n",
    "\tAdds given name_alias as null.\n",
    "\n",
    "\tParameters:\n",
    "\tname_alias (str): The alias for the column.\n",
    "\n",
    "\tReturns:\n",
    "\tstr: The formatted string with the alias.\n",
    "    \"\"\"\n",
    "\treturn f\"CAST(NULL AS NUMBER) AS {name_alias}\".format(name_alias)"
   ]
  },
  {
   "cell_type": "code",
   "execution_count": null,
   "metadata": {},
   "outputs": [],
   "source": [
    "def sp_create_salesforce_views(session: Session, db_name: str, schema_name: str, table_name: str) -> str:\n",
    "\ttry:\n",
    "\t\t# Setting up logger\n",
    "\t\tlogger = logging.getLogger(\"sp_create_salesforce_views\")\n",
    "\n",
    "\t\t# Getting name of the table\n",
    "\t\ttable_view_mapping = session.sql(f\"SELECT * FROM ACCOUNTADMIN_MGMT.UTILITIES.SALESFORCE_TABLE_VIEW_MAPPING WHERE NAME_SALESFORCE_ENVIRONMENT = '{schema_name}' AND NAME_SALESFORCE_TABLE_ORIGINAL = '{table_name}'\".format(schema_name, table_name)).collect()\n",
    "\t\ttable_view_mapping_dic = [row.asDict() for row in table_view_mapping][0]\n",
    "\t\ttable_name = table_view_mapping_dic['NAME_SALESFORCE_TABLE_ORIGINAL']\n",
    "\t\ttable_for_desc_name = table_view_mapping_dic['NAME_SNOWFLAKE_RESERVED_WORD']\n",
    "\t\tview_name = table_view_mapping_dic['NAME_SALESFORCE_VIEW_ALIAS']\n",
    "\t\t\n",
    "\t\t# Getting description of the table\n",
    "\t\tresult_describe_table = [row.as_dict() for row in session.sql(f\"DESCRIBE TABLE {db_name}.{schema_name}.{table_for_desc_name};\".format(db_name, schema_name, table_for_desc_name)).collect()]\n",
    "\n",
    "\t\t# Removing unnecessary columns\n",
    "\t\tdf_describe_table = pd.DataFrame(result_describe_table)\n",
    "\t\tdf_describe_table.drop(columns=['null?', 'default','primary key', 'unique key',\n",
    "\t\t'check', 'expression', 'comment', 'policy name'], inplace=True)\n",
    "\t\t\n",
    "\t\t# Getting mapping table\n",
    "\t\tresult_salesforce_mapping = [row.as_dict() for row in session.sql(f\"SELECT NAME_SALESFORCE_ATTRIBUTE, NAME_ALIAS FROM ACCOUNTADMIN_MGMT.UTILITIES.SALESFORCE_COLUMN_MAPPING WHERE NAME_SALESFORCE_OBJECT = '{table_name}'\".format()).collect()]\n",
    "\t\tdf_salesforce_mapping = pd.DataFrame(result_salesforce_mapping)\n",
    "\n",
    "\t\t# Mixing with Mapping Table\n",
    "\t\tif df_salesforce_mapping.empty:\n",
    "\t\t\tfinal_df = df_describe_table\n",
    "\t\t\tfinal_df['NAME_ALIAS'] = final_df['name']\n",
    "\t\telse:\n",
    "\t\t\tfinal_df = pd.merge(df_describe_table, df_salesforce_mapping, left_on='name', right_on='NAME_SALESFORCE_ATTRIBUTE', how='left')\n",
    "\t\t\tfinal_df['NAME_ALIAS'] = final_df.apply(lambda x: x['name'] if pd.isna(x['NAME_ALIAS']) else x['NAME_ALIAS'], axis=1)\n",
    "\n",
    "\t\t# apply the transform_name function to create a new column called 'name_new'\n",
    "\t\tfinal_df['name_new'] = final_df.apply(lambda x: transform_name(x['name'], x['type'], x['NAME_ALIAS']), axis=1)\n",
    "\n",
    "\t\t# Getting second dataframe with missing columns\n",
    "\t\tif df_salesforce_mapping.empty:\n",
    "\t\t\tfinal_df_missing = df_describe_table\n",
    "\t\t\tfinal_df_missing['NAME_ALIAS'] = final_df_missing['name']\n",
    "\t\telse:\n",
    "\t\t\tfinal_df_missing = pd.merge(df_salesforce_mapping, df_describe_table, left_on='NAME_SALESFORCE_ATTRIBUTE', right_on='name', how='left')\n",
    "\t\t\tfinal_df_missing = final_df_missing[final_df_missing['name'].isnull()]\n",
    "\t\t\tfinal_df_missing['NAME_ALIAS'] = final_df_missing.apply(lambda x: x['name'] if pd.isna(x['NAME_ALIAS']) else x['NAME_ALIAS'], axis=1)\n",
    "\t\t\t# Reorder columns\n",
    "\t\t\tfinal_df_missing = final_df_missing.reindex(columns=['name', 'type', 'kind','NAME_SALESFORCE_ATTRIBUTE', 'NAME_ALIAS'])\n",
    "\t\t\n",
    "\t\t# apply the transform_name_null function to create a new column called 'name_new'\n",
    "\t\tfinal_df_missing['name_new'] = final_df_missing.apply(lambda x: transform_name_null(x['NAME_ALIAS']), axis=1)\n",
    "\n",
    "\t\t# Concatenate both dataframes\n",
    "\t\tresult_df = pd.concat([final_df, final_df_missing])\n",
    "\n",
    "\t\t# create a list of the column names\n",
    "\t\tcolumn_list:list = result_df['name_new'].to_list()\n",
    "\n",
    "\t\tcolumns_str:str = ', '.join(column_list)\n",
    "\n",
    "\t\t# append the final result to something like \"CREATE OR REPLACE VIEW {db_name}.{schema_name}}.{table_name}_V AS SELECT {columns_str} FROM {db_name}.{schema_name}.{table_name};\"\n",
    "\t\tfinal_query:str = f\"CREATE OR REPLACE VIEW {db_name}.{schema_name}.{view_name} AS SELECT {columns_str} FROM {db_name}.{schema_name}.{table_for_desc_name};\"\n",
    "\t\t\n",
    "\t\tsession.sql(final_query).collect()\n",
    "\n",
    "\t\treturn \"SUCCESS\"\n",
    "\texcept Exception as e:\t\n",
    "\t\tlogger.error(f\"Error: {e}\", exc_info=True)\n",
    "\t\treturn \"FAILURE\""
   ]
  },
  {
   "cell_type": "code",
   "execution_count": null,
   "metadata": {},
   "outputs": [],
   "source": [
    "# Getting name of the table\n",
    "db_name = 'STITCH'\n",
    "schema_name = 'SALESFORCEQASIT'\n",
    "table_name:str = 'CASE'"
   ]
  },
  {
   "cell_type": "code",
   "execution_count": null,
   "metadata": {},
   "outputs": [],
   "source": [
    "sp_create_salesforce_views(session, db_name, schema_name, table_name)"
   ]
  },
  {
   "cell_type": "markdown",
   "metadata": {},
   "source": [
    "## Register sp_create_salesforce_views"
   ]
  },
  {
   "cell_type": "code",
   "execution_count": null,
   "metadata": {},
   "outputs": [],
   "source": [
    "session.sproc.register(\n",
    "\tfunc = sp_create_salesforce_views,\n",
    "\tname = \"sp_create_salesforce_views\",\n",
    "\tpackages = [\"snowflake-snowpark-python\", \"pandas\", \"numpy\"],\n",
    "\tis_permanent = True,\n",
    "\tstage_location = \"@ACCOUNTADMIN_MGMT.UTILITIES.ACCOUNTADMIN_MGMT_STAGE\",\n",
    "\texecute_as = 'caller',\n",
    "\treplace=True,\n",
    "\t#source_code_display = False,\n",
    ")"
   ]
  },
  {
   "cell_type": "code",
   "execution_count": null,
   "metadata": {},
   "outputs": [],
   "source": [
    "session.call(\"sp_create_salesforce_views\", db_name, schema_name, table_name)"
   ]
  },
  {
   "cell_type": "markdown",
   "metadata": {},
   "source": [
    "# All Tables"
   ]
  },
  {
   "cell_type": "code",
   "execution_count": null,
   "metadata": {},
   "outputs": [],
   "source": [
    "#'SALESFORCEQASIT','SALESFORCEFSL3'"
   ]
  },
  {
   "cell_type": "code",
   "execution_count": null,
   "metadata": {},
   "outputs": [],
   "source": [
    "def sp_run_dynamic_salesforce_views(session: Session) -> str:\n",
    "    database:str = 'STITCH'\n",
    "\n",
    "    for schema in ['SALESFORCEQASIT']:\n",
    "        print(f'------->{schema}'.format(schema))\n",
    "        result = session.sql(f\"SHOW TABLES IN STITCH.{schema}\".format(schema)).collect()\n",
    "        df = pd.DataFrame(result)\n",
    "        tables:list = df['name'].to_list()\n",
    "        for table in tables:\n",
    "            if table not in ['_SDC_REJECTED']:\n",
    "                print(table)\n",
    "                session.call(\"sp_create_salesforce_views\", database, schema, table)\n",
    "    \n",
    "    return \"SUCCESS\""
   ]
  },
  {
   "cell_type": "code",
   "execution_count": null,
   "metadata": {},
   "outputs": [],
   "source": [
    "sp_run_dynamic_salesforce_views(session=session)"
   ]
  },
  {
   "cell_type": "markdown",
   "metadata": {},
   "source": [
    "# Multiple processing"
   ]
  },
  {
   "cell_type": "code",
   "execution_count": null,
   "metadata": {},
   "outputs": [],
   "source": [
    "import multiprocessing as mp\n",
    "\n",
    "def process_table(database, schema, table):\n",
    "    if table not in ['_SDC_REJECTED']:\n",
    "        print(table)\n",
    "        session.call(\"sp_create_salesforce_views\", database, schema, table)\n",
    "\n",
    "def sp_run_dynamic_salesforce_views(session: Session) -> str:\n",
    "    database:str = 'STITCH'\n",
    "\n",
    "    for schema in ['SALESFORCEQASIT']:\n",
    "        print(f'------->{schema}'.format(schema))\n",
    "        result = session.sql(f\"SHOW TABLES IN STITCH.{schema}\".format(schema)).collect()\n",
    "        df = pd.DataFrame(result)\n",
    "        tables:list = df['name'].to_list()\n",
    "        pool = mp.Pool(processes=4)\n",
    "        for table in tables:\n",
    "            pool.apply_async(process_table, args=(database, schema, table))\n",
    "        pool.close()\n",
    "        pool.join()\n",
    "    \n",
    "    return \"SUCCESS\""
   ]
  },
  {
   "cell_type": "code",
   "execution_count": null,
   "metadata": {},
   "outputs": [],
   "source": [
    "sp_run_dynamic_salesforce_views(session=session)"
   ]
  },
  {
   "cell_type": "markdown",
   "metadata": {},
   "source": [
    "# Creating stored procedure"
   ]
  },
  {
   "cell_type": "code",
   "execution_count": null,
   "metadata": {},
   "outputs": [],
   "source": [
    "session.sproc.register(\n",
    "\tfunc=sp_run_dynamic_salesforce_views,\n",
    "\tname=\"sp_run_dynamic_salesforce_views\",\n",
    "\tpackages=[\"snowflake-snowpark-python\", \"pandas\", \"numpy\"],\n",
    "\treplace=True,\n",
    "\tis_permanent=True,\n",
    "\tstage_location=\"@ACCOUNTADMIN_MGMT.UTILITIES.ACCOUNTADMIN_MGMT_STAGE\",\n",
    "\texecute_as='caller',\n",
    "\t#source_code_display=False,\n",
    ")"
   ]
  },
  {
   "cell_type": "code",
   "execution_count": null,
   "metadata": {},
   "outputs": [],
   "source": [
    "session.call(\"sp_run_dynamic_salesforce_views\")"
   ]
  },
  {
   "cell_type": "markdown",
   "metadata": {},
   "source": [
    "## Creating Task"
   ]
  },
  {
   "cell_type": "code",
   "execution_count": null,
   "metadata": {},
   "outputs": [],
   "source": [
    "session.use_role(\"SYSADMIN\")\n",
    "session.use_database(\"ACCOUNTADMIN_MGMT\")\n",
    "session.use_warehouse(\"ACCOUNTADMIN_MGMT\")\n",
    "session.use_schema(\"UTILITIES\")"
   ]
  },
  {
   "cell_type": "code",
   "execution_count": null,
   "metadata": {},
   "outputs": [],
   "source": [
    "task_run_dynamic_salesforce_views = \"\"\"\n",
    "CREATE OR REPLACE TASK ACCOUNTADMIN_MGMT.UTILITIES.TASK_RUN_DYNAMIC_SALESFORCE_VIEWS COMMENT = 'Run dynamic salesforce views'\n",
    "    WAREHOUSE = 'ACCOUNTADMIN_MGMT'\n",
    "    ALLOW_OVERLAPPING_EXECUTION = FALSE\n",
    "\tAFTER ACCOUNTADMIN_MGMT.UTILITIES.TASK_RUN_DYNAMIC_SALESFORCE_COLUMN_DETECTOR\n",
    "\n",
    "AS\n",
    "        CALL ACCOUNTADMIN_MGMT.UTILITIES.SP_RUN_DYNAMIC_SALESFORCE_VIEWS();\n",
    "\"\"\""
   ]
  },
  {
   "cell_type": "code",
   "execution_count": null,
   "metadata": {},
   "outputs": [],
   "source": [
    "session.sql(task_run_dynamic_salesforce_views).collect()"
   ]
  },
  {
   "cell_type": "code",
   "execution_count": null,
   "metadata": {},
   "outputs": [],
   "source": [
    "session.sql(\"ALTER TASK ACCOUNTADMIN_MGMT.UTILITIES.TASK_RUN_DYNAMIC_SALESFORCE_VIEWS RESUME;\").collect()"
   ]
  },
  {
   "cell_type": "code",
   "execution_count": null,
   "metadata": {},
   "outputs": [],
   "source": [
    "session.sql(\"EXECUTE TASK ACCOUNTADMIN_MGMT.UTILITIES.TASK_RUN_DYNAMIC_SALESFORCE_VIEWS;\").collect()"
   ]
  },
  {
   "cell_type": "code",
   "execution_count": null,
   "metadata": {},
   "outputs": [],
   "source": [
    "session.close()"
   ]
  },
  {
   "cell_type": "code",
   "execution_count": null,
   "metadata": {},
   "outputs": [],
   "source": []
  }
 ],
 "metadata": {
  "kernelspec": {
   "display_name": "snowpark",
   "language": "python",
   "name": "python3"
  },
  "language_info": {
   "codemirror_mode": {
    "name": "ipython",
    "version": 3
   },
   "file_extension": ".py",
   "mimetype": "text/x-python",
   "name": "python",
   "nbconvert_exporter": "python",
   "pygments_lexer": "ipython3",
   "version": "3.8.5"
  },
  "orig_nbformat": 4
 },
 "nbformat": 4,
 "nbformat_minor": 2
}
