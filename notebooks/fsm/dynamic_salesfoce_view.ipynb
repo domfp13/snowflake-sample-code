{
 "cells": [
  {
   "cell_type": "markdown",
   "metadata": {},
   "source": [
    "# Importing libs"
   ]
  },
  {
   "cell_type": "code",
   "execution_count": 1,
   "metadata": {},
   "outputs": [],
   "source": [
    "import pandas as pd\n",
    "import numpy as np\n",
    "from snowflake.snowpark.session import Session\n",
    "from snowflake.snowpark.functions import udf, avg, col\n",
    "from snowflake.snowpark.types import IntegerType, FloatType, StringType, BooleanType\n",
    "from snowflake.snowpark.files import SnowflakeFile\n",
    "import sys\n",
    "import logging\n",
    "sys.path.append('..')\n",
    "from credentials import Credentials"
   ]
  },
  {
   "cell_type": "code",
   "execution_count": 2,
   "metadata": {},
   "outputs": [],
   "source": [
    "cred = Credentials()\n",
    "session = Session.builder.configs(cred.__dict__).create()"
   ]
  },
  {
   "cell_type": "code",
   "execution_count": 3,
   "metadata": {},
   "outputs": [],
   "source": [
    "session.use_role(\"SYSADMIN\")\n",
    "session.use_database(\"ACCOUNTADMIN_MGMT\")\n",
    "session.use_warehouse(\"ACCOUNTADMIN_MGMT\")\n",
    "session.use_schema(\"UTILITIES\")"
   ]
  },
  {
   "cell_type": "markdown",
   "metadata": {},
   "source": [
    "# Working with individual table"
   ]
  },
  {
   "cell_type": "markdown",
   "metadata": {},
   "source": [
    "## Individual table"
   ]
  },
  {
   "cell_type": "code",
   "execution_count": 4,
   "metadata": {},
   "outputs": [],
   "source": [
    "# Getting name of the table\n",
    "db_name = 'STITCH'\n",
    "schema_name = 'SALESFORCEQASIT'\n",
    "table_name:str = 'CASE'"
   ]
  },
  {
   "cell_type": "code",
   "execution_count": 5,
   "metadata": {},
   "outputs": [],
   "source": [
    "def transform_name(name, type, name_alias):\n",
    "    \"\"\"\n",
    "    Transforms the given name and type into a formatted string with an alias.\n",
    "\n",
    "    Parameters:\n",
    "    name (str): The name of the column.\n",
    "    type (str): The data type of the column.\n",
    "    name_alias (str): The alias for the column.\n",
    "\n",
    "    Returns:\n",
    "    str: The formatted string with the alias.\n",
    "    \"\"\"\n",
    "    if isinstance(type, str) and 'VARCHAR' in type:\n",
    "        return f\"CAST(SUBSTR({name},1,2000) AS VARCHAR(2000)) AS {name_alias}\".format(name, name_alias)\n",
    "    else:\n",
    "        return f\"{name} AS {name_alias}\".format(name, name_alias)"
   ]
  },
  {
   "cell_type": "markdown",
   "metadata": {},
   "source": [
    "### Getting information from the ACCOUNTADMIN_MGMT.UTILITIES.SALESFORCE_TABLE_VIEW_MAPPING"
   ]
  },
  {
   "cell_type": "code",
   "execution_count": 6,
   "metadata": {},
   "outputs": [],
   "source": [
    "table_view_mapping = session.sql(f\"SELECT * FROM ACCOUNTADMIN_MGMT.UTILITIES.SALESFORCE_TABLE_VIEW_MAPPING WHERE NAME_SALESFORCE_ENVIRONMENT = '{schema_name}' AND NAME_SALESFORCE_TABLE_ORIGINAL = '{table_name}'\".format(schema_name, table_name)).collect()\n",
    "table_view_mapping_dic = [row.asDict() for row in table_view_mapping][0]\n",
    "table_name = table_view_mapping_dic['NAME_SALESFORCE_TABLE_ORIGINAL']\n",
    "table_for_desc_name = table_view_mapping_dic['NAME_SNOWFLAKE_RESERVED_WORD']\n",
    "view_name = table_view_mapping_dic['NAME_SALESFORCE_VIEW_ALIAS']"
   ]
  },
  {
   "cell_type": "markdown",
   "metadata": {},
   "source": [
    "### Gets all the columns from the Metadata of the table"
   ]
  },
  {
   "cell_type": "code",
   "execution_count": 7,
   "metadata": {},
   "outputs": [
    {
     "data": {
      "text/html": [
       "<div>\n",
       "<style scoped>\n",
       "    .dataframe tbody tr th:only-of-type {\n",
       "        vertical-align: middle;\n",
       "    }\n",
       "\n",
       "    .dataframe tbody tr th {\n",
       "        vertical-align: top;\n",
       "    }\n",
       "\n",
       "    .dataframe thead th {\n",
       "        text-align: right;\n",
       "    }\n",
       "</style>\n",
       "<table border=\"1\" class=\"dataframe\">\n",
       "  <thead>\n",
       "    <tr style=\"text-align: right;\">\n",
       "      <th></th>\n",
       "      <th>name</th>\n",
       "      <th>type</th>\n",
       "      <th>kind</th>\n",
       "    </tr>\n",
       "  </thead>\n",
       "  <tbody>\n",
       "    <tr>\n",
       "      <th>0</th>\n",
       "      <td>ACCOUNTID</td>\n",
       "      <td>VARCHAR(16777216)</td>\n",
       "      <td>COLUMN</td>\n",
       "    </tr>\n",
       "    <tr>\n",
       "      <th>1</th>\n",
       "      <td>ACCOUNT_EXECUTIVE1__C</td>\n",
       "      <td>VARCHAR(16777216)</td>\n",
       "      <td>COLUMN</td>\n",
       "    </tr>\n",
       "    <tr>\n",
       "      <th>2</th>\n",
       "      <td>ACCOUNT_EXECUTIVE__C</td>\n",
       "      <td>VARCHAR(16777216)</td>\n",
       "      <td>COLUMN</td>\n",
       "    </tr>\n",
       "    <tr>\n",
       "      <th>3</th>\n",
       "      <td>ACCOUNT_ID__C</td>\n",
       "      <td>VARCHAR(16777216)</td>\n",
       "      <td>COLUMN</td>\n",
       "    </tr>\n",
       "    <tr>\n",
       "      <th>4</th>\n",
       "      <td>ACTUAL_TIME_LENGTH_MINUTES__C</td>\n",
       "      <td>FLOAT</td>\n",
       "      <td>COLUMN</td>\n",
       "    </tr>\n",
       "    <tr>\n",
       "      <th>...</th>\n",
       "      <td>...</td>\n",
       "      <td>...</td>\n",
       "      <td>...</td>\n",
       "    </tr>\n",
       "    <tr>\n",
       "      <th>346</th>\n",
       "      <td>FSM_CALL_BACK_DUE_DATE__C</td>\n",
       "      <td>TIMESTAMP_TZ(9)</td>\n",
       "      <td>COLUMN</td>\n",
       "    </tr>\n",
       "    <tr>\n",
       "      <th>347</th>\n",
       "      <td>FSM_RESOLVE_CONTRACTUAL_DUE_DATE__C</td>\n",
       "      <td>TIMESTAMP_TZ(9)</td>\n",
       "      <td>COLUMN</td>\n",
       "    </tr>\n",
       "    <tr>\n",
       "      <th>348</th>\n",
       "      <td>FSM_ONSITE_CONTRACTUAL_DUE_DATE__C</td>\n",
       "      <td>TIMESTAMP_TZ(9)</td>\n",
       "      <td>COLUMN</td>\n",
       "    </tr>\n",
       "    <tr>\n",
       "      <th>349</th>\n",
       "      <td>FSM_ONSITE_BUSINESS_DUE_DATE__C</td>\n",
       "      <td>TIMESTAMP_TZ(9)</td>\n",
       "      <td>COLUMN</td>\n",
       "    </tr>\n",
       "    <tr>\n",
       "      <th>350</th>\n",
       "      <td>FSM_RESOLVE_BUSINESS_DUE_DATE__C</td>\n",
       "      <td>TIMESTAMP_TZ(9)</td>\n",
       "      <td>COLUMN</td>\n",
       "    </tr>\n",
       "  </tbody>\n",
       "</table>\n",
       "<p>351 rows × 3 columns</p>\n",
       "</div>"
      ],
      "text/plain": [
       "                                    name               type    kind\n",
       "0                              ACCOUNTID  VARCHAR(16777216)  COLUMN\n",
       "1                  ACCOUNT_EXECUTIVE1__C  VARCHAR(16777216)  COLUMN\n",
       "2                   ACCOUNT_EXECUTIVE__C  VARCHAR(16777216)  COLUMN\n",
       "3                          ACCOUNT_ID__C  VARCHAR(16777216)  COLUMN\n",
       "4          ACTUAL_TIME_LENGTH_MINUTES__C              FLOAT  COLUMN\n",
       "..                                   ...                ...     ...\n",
       "346            FSM_CALL_BACK_DUE_DATE__C    TIMESTAMP_TZ(9)  COLUMN\n",
       "347  FSM_RESOLVE_CONTRACTUAL_DUE_DATE__C    TIMESTAMP_TZ(9)  COLUMN\n",
       "348   FSM_ONSITE_CONTRACTUAL_DUE_DATE__C    TIMESTAMP_TZ(9)  COLUMN\n",
       "349      FSM_ONSITE_BUSINESS_DUE_DATE__C    TIMESTAMP_TZ(9)  COLUMN\n",
       "350     FSM_RESOLVE_BUSINESS_DUE_DATE__C    TIMESTAMP_TZ(9)  COLUMN\n",
       "\n",
       "[351 rows x 3 columns]"
      ]
     },
     "execution_count": 7,
     "metadata": {},
     "output_type": "execute_result"
    }
   ],
   "source": [
    "result_describe_table = [row.as_dict() for row in session.sql(f\"DESCRIBE TABLE {db_name}.{schema_name}.{table_for_desc_name};\".format(db_name, schema_name, table_for_desc_name)).collect()]\n",
    "df_describe_table = pd.DataFrame(result_describe_table)\n",
    "df_describe_table.drop(columns=['null?', 'default','primary key', 'unique key',\n",
    "'check', 'expression', 'comment', 'policy name'], inplace=True)\n",
    "df_describe_table"
   ]
  },
  {
   "cell_type": "markdown",
   "metadata": {},
   "source": [
    "### Gets the columns from the mapping table"
   ]
  },
  {
   "cell_type": "code",
   "execution_count": 8,
   "metadata": {},
   "outputs": [
    {
     "data": {
      "text/html": [
       "<div>\n",
       "<style scoped>\n",
       "    .dataframe tbody tr th:only-of-type {\n",
       "        vertical-align: middle;\n",
       "    }\n",
       "\n",
       "    .dataframe tbody tr th {\n",
       "        vertical-align: top;\n",
       "    }\n",
       "\n",
       "    .dataframe thead th {\n",
       "        text-align: right;\n",
       "    }\n",
       "</style>\n",
       "<table border=\"1\" class=\"dataframe\">\n",
       "  <thead>\n",
       "    <tr style=\"text-align: right;\">\n",
       "      <th></th>\n",
       "      <th>NAME_SALESFORCE_ATTRIBUTE</th>\n",
       "      <th>NAME_ALIAS</th>\n",
       "    </tr>\n",
       "  </thead>\n",
       "  <tbody>\n",
       "    <tr>\n",
       "      <th>0</th>\n",
       "      <td>OWNER_ID__C</td>\n",
       "      <td>OWNER_ID__C</td>\n",
       "    </tr>\n",
       "    <tr>\n",
       "      <th>1</th>\n",
       "      <td>QUOTE_REQUESTED_BY__C</td>\n",
       "      <td>QUOTE_REQUESTED_BY__C</td>\n",
       "    </tr>\n",
       "    <tr>\n",
       "      <th>2</th>\n",
       "      <td>FSM_CASE_RESOLVED__C</td>\n",
       "      <td>FSM_CASE_RESOLVED__C</td>\n",
       "    </tr>\n",
       "    <tr>\n",
       "      <th>3</th>\n",
       "      <td>FSM_WO_INCLUDED__C</td>\n",
       "      <td>FSM_WO_INCLUDED__C</td>\n",
       "    </tr>\n",
       "    <tr>\n",
       "      <th>4</th>\n",
       "      <td>_SDC_EXTRACTED_AT</td>\n",
       "      <td>SDC_EXTRACTED_AT</td>\n",
       "    </tr>\n",
       "    <tr>\n",
       "      <th>...</th>\n",
       "      <td>...</td>\n",
       "      <td>...</td>\n",
       "    </tr>\n",
       "    <tr>\n",
       "      <th>365</th>\n",
       "      <td>FSM_REASON_CODE__C</td>\n",
       "      <td>FSM_REASON_CODE__C</td>\n",
       "    </tr>\n",
       "    <tr>\n",
       "      <th>366</th>\n",
       "      <td>FSM_CUSTOMER_CONFIRMATION__C</td>\n",
       "      <td>FSM_CUSTOMER_CONFIRMATION__C</td>\n",
       "    </tr>\n",
       "    <tr>\n",
       "      <th>367</th>\n",
       "      <td>FSM_ONSITE_CONTRACTUAL_DUE_DATE__C</td>\n",
       "      <td>ONSITE_CONTRACTUAL_DUE_DATE</td>\n",
       "    </tr>\n",
       "    <tr>\n",
       "      <th>368</th>\n",
       "      <td>FSM_ONSITE_BUSINESS_DUE_DATE__C</td>\n",
       "      <td>ONSITE_BUSINESS_DUE_DATE</td>\n",
       "    </tr>\n",
       "    <tr>\n",
       "      <th>369</th>\n",
       "      <td>FSM_RESOLVE_BUSINESS_DUE_DATE__C</td>\n",
       "      <td>RESOLVE_BUSINESS_DUE_DATE</td>\n",
       "    </tr>\n",
       "  </tbody>\n",
       "</table>\n",
       "<p>370 rows × 2 columns</p>\n",
       "</div>"
      ],
      "text/plain": [
       "              NAME_SALESFORCE_ATTRIBUTE                    NAME_ALIAS\n",
       "0                           OWNER_ID__C                   OWNER_ID__C\n",
       "1                 QUOTE_REQUESTED_BY__C         QUOTE_REQUESTED_BY__C\n",
       "2                  FSM_CASE_RESOLVED__C          FSM_CASE_RESOLVED__C\n",
       "3                    FSM_WO_INCLUDED__C            FSM_WO_INCLUDED__C\n",
       "4                     _SDC_EXTRACTED_AT              SDC_EXTRACTED_AT\n",
       "..                                  ...                           ...\n",
       "365                  FSM_REASON_CODE__C            FSM_REASON_CODE__C\n",
       "366        FSM_CUSTOMER_CONFIRMATION__C  FSM_CUSTOMER_CONFIRMATION__C\n",
       "367  FSM_ONSITE_CONTRACTUAL_DUE_DATE__C   ONSITE_CONTRACTUAL_DUE_DATE\n",
       "368     FSM_ONSITE_BUSINESS_DUE_DATE__C      ONSITE_BUSINESS_DUE_DATE\n",
       "369    FSM_RESOLVE_BUSINESS_DUE_DATE__C     RESOLVE_BUSINESS_DUE_DATE\n",
       "\n",
       "[370 rows x 2 columns]"
      ]
     },
     "execution_count": 8,
     "metadata": {},
     "output_type": "execute_result"
    }
   ],
   "source": [
    "result_salesforce_mapping = [row.as_dict() for row in session.sql(f\"SELECT NAME_SALESFORCE_ATTRIBUTE, NAME_ALIAS FROM ACCOUNTADMIN_MGMT.UTILITIES.SALESFORCE_COLUMN_MAPPING WHERE NAME_SALESFORCE_OBJECT = '{table_name}'\".format()).collect()]\n",
    "df_salesforce_mapping = pd.DataFrame(result_salesforce_mapping)\n",
    "df_salesforce_mapping"
   ]
  },
  {
   "cell_type": "code",
   "execution_count": 9,
   "metadata": {},
   "outputs": [],
   "source": [
    "if df_salesforce_mapping.empty:\n",
    "\tfinal_df = df_describe_table\n",
    "\tfinal_df['NAME_ALIAS'] = final_df['name']\n",
    "else:\n",
    "\tfinal_df = pd.merge(df_describe_table, df_salesforce_mapping, left_on='name', right_on='NAME_SALESFORCE_ATTRIBUTE', how='left')\n",
    "\tfinal_df['NAME_ALIAS'] = final_df.apply(lambda x: x['name'] if pd.isna(x['NAME_ALIAS']) else x['NAME_ALIAS'], axis=1)"
   ]
  },
  {
   "cell_type": "code",
   "execution_count": 10,
   "metadata": {},
   "outputs": [
    {
     "data": {
      "text/html": [
       "<div>\n",
       "<style scoped>\n",
       "    .dataframe tbody tr th:only-of-type {\n",
       "        vertical-align: middle;\n",
       "    }\n",
       "\n",
       "    .dataframe tbody tr th {\n",
       "        vertical-align: top;\n",
       "    }\n",
       "\n",
       "    .dataframe thead th {\n",
       "        text-align: right;\n",
       "    }\n",
       "</style>\n",
       "<table border=\"1\" class=\"dataframe\">\n",
       "  <thead>\n",
       "    <tr style=\"text-align: right;\">\n",
       "      <th></th>\n",
       "      <th>name</th>\n",
       "      <th>type</th>\n",
       "      <th>kind</th>\n",
       "      <th>NAME_SALESFORCE_ATTRIBUTE</th>\n",
       "      <th>NAME_ALIAS</th>\n",
       "    </tr>\n",
       "  </thead>\n",
       "  <tbody>\n",
       "    <tr>\n",
       "      <th>0</th>\n",
       "      <td>ACCOUNTID</td>\n",
       "      <td>VARCHAR(16777216)</td>\n",
       "      <td>COLUMN</td>\n",
       "      <td>ACCOUNTID</td>\n",
       "      <td>ACCOUNTID</td>\n",
       "    </tr>\n",
       "    <tr>\n",
       "      <th>1</th>\n",
       "      <td>ACCOUNT_EXECUTIVE1__C</td>\n",
       "      <td>VARCHAR(16777216)</td>\n",
       "      <td>COLUMN</td>\n",
       "      <td>ACCOUNT_EXECUTIVE1__C</td>\n",
       "      <td>ACCOUNT_EXECUTIVE1__C</td>\n",
       "    </tr>\n",
       "    <tr>\n",
       "      <th>2</th>\n",
       "      <td>ACCOUNT_EXECUTIVE__C</td>\n",
       "      <td>VARCHAR(16777216)</td>\n",
       "      <td>COLUMN</td>\n",
       "      <td>ACCOUNT_EXECUTIVE__C</td>\n",
       "      <td>ACCOUNT_EXECUTIVE__C</td>\n",
       "    </tr>\n",
       "    <tr>\n",
       "      <th>3</th>\n",
       "      <td>ACCOUNT_ID__C</td>\n",
       "      <td>VARCHAR(16777216)</td>\n",
       "      <td>COLUMN</td>\n",
       "      <td>ACCOUNT_ID__C</td>\n",
       "      <td>ACCOUNT_ID__C</td>\n",
       "    </tr>\n",
       "    <tr>\n",
       "      <th>4</th>\n",
       "      <td>ACTUAL_TIME_LENGTH_MINUTES__C</td>\n",
       "      <td>FLOAT</td>\n",
       "      <td>COLUMN</td>\n",
       "      <td>ACTUAL_TIME_LENGTH_MINUTES__C</td>\n",
       "      <td>ACTUAL_TIME_LENGTH_MINUTES__C</td>\n",
       "    </tr>\n",
       "    <tr>\n",
       "      <th>...</th>\n",
       "      <td>...</td>\n",
       "      <td>...</td>\n",
       "      <td>...</td>\n",
       "      <td>...</td>\n",
       "      <td>...</td>\n",
       "    </tr>\n",
       "    <tr>\n",
       "      <th>346</th>\n",
       "      <td>FSM_CALL_BACK_DUE_DATE__C</td>\n",
       "      <td>TIMESTAMP_TZ(9)</td>\n",
       "      <td>COLUMN</td>\n",
       "      <td>FSM_CALL_BACK_DUE_DATE__C</td>\n",
       "      <td>FSM_CALL_BACK_DUE_DATE__C</td>\n",
       "    </tr>\n",
       "    <tr>\n",
       "      <th>347</th>\n",
       "      <td>FSM_RESOLVE_CONTRACTUAL_DUE_DATE__C</td>\n",
       "      <td>TIMESTAMP_TZ(9)</td>\n",
       "      <td>COLUMN</td>\n",
       "      <td>FSM_RESOLVE_CONTRACTUAL_DUE_DATE__C</td>\n",
       "      <td>RESOLVE_CONTR_DUE_DT_C</td>\n",
       "    </tr>\n",
       "    <tr>\n",
       "      <th>348</th>\n",
       "      <td>FSM_ONSITE_CONTRACTUAL_DUE_DATE__C</td>\n",
       "      <td>TIMESTAMP_TZ(9)</td>\n",
       "      <td>COLUMN</td>\n",
       "      <td>FSM_ONSITE_CONTRACTUAL_DUE_DATE__C</td>\n",
       "      <td>ONSITE_CONTRACTUAL_DUE_DATE</td>\n",
       "    </tr>\n",
       "    <tr>\n",
       "      <th>349</th>\n",
       "      <td>FSM_ONSITE_BUSINESS_DUE_DATE__C</td>\n",
       "      <td>TIMESTAMP_TZ(9)</td>\n",
       "      <td>COLUMN</td>\n",
       "      <td>FSM_ONSITE_BUSINESS_DUE_DATE__C</td>\n",
       "      <td>ONSITE_BUSINESS_DUE_DATE</td>\n",
       "    </tr>\n",
       "    <tr>\n",
       "      <th>350</th>\n",
       "      <td>FSM_RESOLVE_BUSINESS_DUE_DATE__C</td>\n",
       "      <td>TIMESTAMP_TZ(9)</td>\n",
       "      <td>COLUMN</td>\n",
       "      <td>FSM_RESOLVE_BUSINESS_DUE_DATE__C</td>\n",
       "      <td>RESOLVE_BUSINESS_DUE_DATE</td>\n",
       "    </tr>\n",
       "  </tbody>\n",
       "</table>\n",
       "<p>351 rows × 5 columns</p>\n",
       "</div>"
      ],
      "text/plain": [
       "                                    name               type    kind  \\\n",
       "0                              ACCOUNTID  VARCHAR(16777216)  COLUMN   \n",
       "1                  ACCOUNT_EXECUTIVE1__C  VARCHAR(16777216)  COLUMN   \n",
       "2                   ACCOUNT_EXECUTIVE__C  VARCHAR(16777216)  COLUMN   \n",
       "3                          ACCOUNT_ID__C  VARCHAR(16777216)  COLUMN   \n",
       "4          ACTUAL_TIME_LENGTH_MINUTES__C              FLOAT  COLUMN   \n",
       "..                                   ...                ...     ...   \n",
       "346            FSM_CALL_BACK_DUE_DATE__C    TIMESTAMP_TZ(9)  COLUMN   \n",
       "347  FSM_RESOLVE_CONTRACTUAL_DUE_DATE__C    TIMESTAMP_TZ(9)  COLUMN   \n",
       "348   FSM_ONSITE_CONTRACTUAL_DUE_DATE__C    TIMESTAMP_TZ(9)  COLUMN   \n",
       "349      FSM_ONSITE_BUSINESS_DUE_DATE__C    TIMESTAMP_TZ(9)  COLUMN   \n",
       "350     FSM_RESOLVE_BUSINESS_DUE_DATE__C    TIMESTAMP_TZ(9)  COLUMN   \n",
       "\n",
       "               NAME_SALESFORCE_ATTRIBUTE                     NAME_ALIAS  \n",
       "0                              ACCOUNTID                      ACCOUNTID  \n",
       "1                  ACCOUNT_EXECUTIVE1__C          ACCOUNT_EXECUTIVE1__C  \n",
       "2                   ACCOUNT_EXECUTIVE__C           ACCOUNT_EXECUTIVE__C  \n",
       "3                          ACCOUNT_ID__C                  ACCOUNT_ID__C  \n",
       "4          ACTUAL_TIME_LENGTH_MINUTES__C  ACTUAL_TIME_LENGTH_MINUTES__C  \n",
       "..                                   ...                            ...  \n",
       "346            FSM_CALL_BACK_DUE_DATE__C      FSM_CALL_BACK_DUE_DATE__C  \n",
       "347  FSM_RESOLVE_CONTRACTUAL_DUE_DATE__C         RESOLVE_CONTR_DUE_DT_C  \n",
       "348   FSM_ONSITE_CONTRACTUAL_DUE_DATE__C    ONSITE_CONTRACTUAL_DUE_DATE  \n",
       "349      FSM_ONSITE_BUSINESS_DUE_DATE__C       ONSITE_BUSINESS_DUE_DATE  \n",
       "350     FSM_RESOLVE_BUSINESS_DUE_DATE__C      RESOLVE_BUSINESS_DUE_DATE  \n",
       "\n",
       "[351 rows x 5 columns]"
      ]
     },
     "execution_count": 10,
     "metadata": {},
     "output_type": "execute_result"
    }
   ],
   "source": [
    "final_df"
   ]
  },
  {
   "cell_type": "code",
   "execution_count": 11,
   "metadata": {},
   "outputs": [],
   "source": [
    "final_df['name_new'] = final_df.apply(lambda x: transform_name(x['name'], x['type'], x['NAME_ALIAS']), axis=1)"
   ]
  },
  {
   "cell_type": "code",
   "execution_count": 12,
   "metadata": {},
   "outputs": [
    {
     "data": {
      "text/html": [
       "<div>\n",
       "<style scoped>\n",
       "    .dataframe tbody tr th:only-of-type {\n",
       "        vertical-align: middle;\n",
       "    }\n",
       "\n",
       "    .dataframe tbody tr th {\n",
       "        vertical-align: top;\n",
       "    }\n",
       "\n",
       "    .dataframe thead th {\n",
       "        text-align: right;\n",
       "    }\n",
       "</style>\n",
       "<table border=\"1\" class=\"dataframe\">\n",
       "  <thead>\n",
       "    <tr style=\"text-align: right;\">\n",
       "      <th></th>\n",
       "      <th>name</th>\n",
       "      <th>type</th>\n",
       "      <th>kind</th>\n",
       "      <th>NAME_SALESFORCE_ATTRIBUTE</th>\n",
       "      <th>NAME_ALIAS</th>\n",
       "      <th>name_new</th>\n",
       "    </tr>\n",
       "  </thead>\n",
       "  <tbody>\n",
       "    <tr>\n",
       "      <th>0</th>\n",
       "      <td>ACCOUNTID</td>\n",
       "      <td>VARCHAR(16777216)</td>\n",
       "      <td>COLUMN</td>\n",
       "      <td>ACCOUNTID</td>\n",
       "      <td>ACCOUNTID</td>\n",
       "      <td>CAST(SUBSTR(ACCOUNTID,1,2000) AS VARCHAR(2000)...</td>\n",
       "    </tr>\n",
       "    <tr>\n",
       "      <th>1</th>\n",
       "      <td>ACCOUNT_EXECUTIVE1__C</td>\n",
       "      <td>VARCHAR(16777216)</td>\n",
       "      <td>COLUMN</td>\n",
       "      <td>ACCOUNT_EXECUTIVE1__C</td>\n",
       "      <td>ACCOUNT_EXECUTIVE1__C</td>\n",
       "      <td>CAST(SUBSTR(ACCOUNT_EXECUTIVE1__C,1,2000) AS V...</td>\n",
       "    </tr>\n",
       "    <tr>\n",
       "      <th>2</th>\n",
       "      <td>ACCOUNT_EXECUTIVE__C</td>\n",
       "      <td>VARCHAR(16777216)</td>\n",
       "      <td>COLUMN</td>\n",
       "      <td>ACCOUNT_EXECUTIVE__C</td>\n",
       "      <td>ACCOUNT_EXECUTIVE__C</td>\n",
       "      <td>CAST(SUBSTR(ACCOUNT_EXECUTIVE__C,1,2000) AS VA...</td>\n",
       "    </tr>\n",
       "    <tr>\n",
       "      <th>3</th>\n",
       "      <td>ACCOUNT_ID__C</td>\n",
       "      <td>VARCHAR(16777216)</td>\n",
       "      <td>COLUMN</td>\n",
       "      <td>ACCOUNT_ID__C</td>\n",
       "      <td>ACCOUNT_ID__C</td>\n",
       "      <td>CAST(SUBSTR(ACCOUNT_ID__C,1,2000) AS VARCHAR(2...</td>\n",
       "    </tr>\n",
       "    <tr>\n",
       "      <th>4</th>\n",
       "      <td>ACTUAL_TIME_LENGTH_MINUTES__C</td>\n",
       "      <td>FLOAT</td>\n",
       "      <td>COLUMN</td>\n",
       "      <td>ACTUAL_TIME_LENGTH_MINUTES__C</td>\n",
       "      <td>ACTUAL_TIME_LENGTH_MINUTES__C</td>\n",
       "      <td>ACTUAL_TIME_LENGTH_MINUTES__C AS ACTUAL_TIME_L...</td>\n",
       "    </tr>\n",
       "    <tr>\n",
       "      <th>...</th>\n",
       "      <td>...</td>\n",
       "      <td>...</td>\n",
       "      <td>...</td>\n",
       "      <td>...</td>\n",
       "      <td>...</td>\n",
       "      <td>...</td>\n",
       "    </tr>\n",
       "    <tr>\n",
       "      <th>346</th>\n",
       "      <td>FSM_CALL_BACK_DUE_DATE__C</td>\n",
       "      <td>TIMESTAMP_TZ(9)</td>\n",
       "      <td>COLUMN</td>\n",
       "      <td>FSM_CALL_BACK_DUE_DATE__C</td>\n",
       "      <td>FSM_CALL_BACK_DUE_DATE__C</td>\n",
       "      <td>FSM_CALL_BACK_DUE_DATE__C AS FSM_CALL_BACK_DUE...</td>\n",
       "    </tr>\n",
       "    <tr>\n",
       "      <th>347</th>\n",
       "      <td>FSM_RESOLVE_CONTRACTUAL_DUE_DATE__C</td>\n",
       "      <td>TIMESTAMP_TZ(9)</td>\n",
       "      <td>COLUMN</td>\n",
       "      <td>FSM_RESOLVE_CONTRACTUAL_DUE_DATE__C</td>\n",
       "      <td>RESOLVE_CONTR_DUE_DT_C</td>\n",
       "      <td>FSM_RESOLVE_CONTRACTUAL_DUE_DATE__C AS RESOLVE...</td>\n",
       "    </tr>\n",
       "    <tr>\n",
       "      <th>348</th>\n",
       "      <td>FSM_ONSITE_CONTRACTUAL_DUE_DATE__C</td>\n",
       "      <td>TIMESTAMP_TZ(9)</td>\n",
       "      <td>COLUMN</td>\n",
       "      <td>FSM_ONSITE_CONTRACTUAL_DUE_DATE__C</td>\n",
       "      <td>ONSITE_CONTRACTUAL_DUE_DATE</td>\n",
       "      <td>FSM_ONSITE_CONTRACTUAL_DUE_DATE__C AS ONSITE_C...</td>\n",
       "    </tr>\n",
       "    <tr>\n",
       "      <th>349</th>\n",
       "      <td>FSM_ONSITE_BUSINESS_DUE_DATE__C</td>\n",
       "      <td>TIMESTAMP_TZ(9)</td>\n",
       "      <td>COLUMN</td>\n",
       "      <td>FSM_ONSITE_BUSINESS_DUE_DATE__C</td>\n",
       "      <td>ONSITE_BUSINESS_DUE_DATE</td>\n",
       "      <td>FSM_ONSITE_BUSINESS_DUE_DATE__C AS ONSITE_BUSI...</td>\n",
       "    </tr>\n",
       "    <tr>\n",
       "      <th>350</th>\n",
       "      <td>FSM_RESOLVE_BUSINESS_DUE_DATE__C</td>\n",
       "      <td>TIMESTAMP_TZ(9)</td>\n",
       "      <td>COLUMN</td>\n",
       "      <td>FSM_RESOLVE_BUSINESS_DUE_DATE__C</td>\n",
       "      <td>RESOLVE_BUSINESS_DUE_DATE</td>\n",
       "      <td>FSM_RESOLVE_BUSINESS_DUE_DATE__C AS RESOLVE_BU...</td>\n",
       "    </tr>\n",
       "  </tbody>\n",
       "</table>\n",
       "<p>351 rows × 6 columns</p>\n",
       "</div>"
      ],
      "text/plain": [
       "                                    name               type    kind  \\\n",
       "0                              ACCOUNTID  VARCHAR(16777216)  COLUMN   \n",
       "1                  ACCOUNT_EXECUTIVE1__C  VARCHAR(16777216)  COLUMN   \n",
       "2                   ACCOUNT_EXECUTIVE__C  VARCHAR(16777216)  COLUMN   \n",
       "3                          ACCOUNT_ID__C  VARCHAR(16777216)  COLUMN   \n",
       "4          ACTUAL_TIME_LENGTH_MINUTES__C              FLOAT  COLUMN   \n",
       "..                                   ...                ...     ...   \n",
       "346            FSM_CALL_BACK_DUE_DATE__C    TIMESTAMP_TZ(9)  COLUMN   \n",
       "347  FSM_RESOLVE_CONTRACTUAL_DUE_DATE__C    TIMESTAMP_TZ(9)  COLUMN   \n",
       "348   FSM_ONSITE_CONTRACTUAL_DUE_DATE__C    TIMESTAMP_TZ(9)  COLUMN   \n",
       "349      FSM_ONSITE_BUSINESS_DUE_DATE__C    TIMESTAMP_TZ(9)  COLUMN   \n",
       "350     FSM_RESOLVE_BUSINESS_DUE_DATE__C    TIMESTAMP_TZ(9)  COLUMN   \n",
       "\n",
       "               NAME_SALESFORCE_ATTRIBUTE                     NAME_ALIAS  \\\n",
       "0                              ACCOUNTID                      ACCOUNTID   \n",
       "1                  ACCOUNT_EXECUTIVE1__C          ACCOUNT_EXECUTIVE1__C   \n",
       "2                   ACCOUNT_EXECUTIVE__C           ACCOUNT_EXECUTIVE__C   \n",
       "3                          ACCOUNT_ID__C                  ACCOUNT_ID__C   \n",
       "4          ACTUAL_TIME_LENGTH_MINUTES__C  ACTUAL_TIME_LENGTH_MINUTES__C   \n",
       "..                                   ...                            ...   \n",
       "346            FSM_CALL_BACK_DUE_DATE__C      FSM_CALL_BACK_DUE_DATE__C   \n",
       "347  FSM_RESOLVE_CONTRACTUAL_DUE_DATE__C         RESOLVE_CONTR_DUE_DT_C   \n",
       "348   FSM_ONSITE_CONTRACTUAL_DUE_DATE__C    ONSITE_CONTRACTUAL_DUE_DATE   \n",
       "349      FSM_ONSITE_BUSINESS_DUE_DATE__C       ONSITE_BUSINESS_DUE_DATE   \n",
       "350     FSM_RESOLVE_BUSINESS_DUE_DATE__C      RESOLVE_BUSINESS_DUE_DATE   \n",
       "\n",
       "                                              name_new  \n",
       "0    CAST(SUBSTR(ACCOUNTID,1,2000) AS VARCHAR(2000)...  \n",
       "1    CAST(SUBSTR(ACCOUNT_EXECUTIVE1__C,1,2000) AS V...  \n",
       "2    CAST(SUBSTR(ACCOUNT_EXECUTIVE__C,1,2000) AS VA...  \n",
       "3    CAST(SUBSTR(ACCOUNT_ID__C,1,2000) AS VARCHAR(2...  \n",
       "4    ACTUAL_TIME_LENGTH_MINUTES__C AS ACTUAL_TIME_L...  \n",
       "..                                                 ...  \n",
       "346  FSM_CALL_BACK_DUE_DATE__C AS FSM_CALL_BACK_DUE...  \n",
       "347  FSM_RESOLVE_CONTRACTUAL_DUE_DATE__C AS RESOLVE...  \n",
       "348  FSM_ONSITE_CONTRACTUAL_DUE_DATE__C AS ONSITE_C...  \n",
       "349  FSM_ONSITE_BUSINESS_DUE_DATE__C AS ONSITE_BUSI...  \n",
       "350  FSM_RESOLVE_BUSINESS_DUE_DATE__C AS RESOLVE_BU...  \n",
       "\n",
       "[351 rows x 6 columns]"
      ]
     },
     "execution_count": 12,
     "metadata": {},
     "output_type": "execute_result"
    }
   ],
   "source": [
    "final_df"
   ]
  },
  {
   "cell_type": "markdown",
   "metadata": {},
   "source": [
    "### Adding missing columns from mapping"
   ]
  },
  {
   "cell_type": "code",
   "execution_count": 15,
   "metadata": {},
   "outputs": [],
   "source": [
    "if df_salesforce_mapping.empty:\n",
    "\tfinal_df_missing = df_describe_table\n",
    "\tfinal_df_missing['NAME_ALIAS'] = final_df_missing['name']\n",
    "else:\n",
    "\tfinal_df_missing = pd.merge(df_salesforce_mapping, df_describe_table, left_on='NAME_SALESFORCE_ATTRIBUTE', right_on='name', how='left')\n",
    "\tfinal_df_missing = final_df_missing[final_df_missing['name'].isnull()]\n",
    "\tfinal_df_missing['NAME_ALIAS'] = final_df_missing.apply(lambda x: x['name'] if pd.isna(x['NAME_ALIAS']) else x['NAME_ALIAS'], axis=1)\n",
    "\t# Reorder columns\n",
    "\tfinal_df_missing = final_df_missing.reindex(columns=['name', 'type', 'kind','NAME_SALESFORCE_ATTRIBUTE', 'NAME_ALIAS'])"
   ]
  },
  {
   "cell_type": "code",
   "execution_count": 16,
   "metadata": {},
   "outputs": [
    {
     "data": {
      "text/html": [
       "<div>\n",
       "<style scoped>\n",
       "    .dataframe tbody tr th:only-of-type {\n",
       "        vertical-align: middle;\n",
       "    }\n",
       "\n",
       "    .dataframe tbody tr th {\n",
       "        vertical-align: top;\n",
       "    }\n",
       "\n",
       "    .dataframe thead th {\n",
       "        text-align: right;\n",
       "    }\n",
       "</style>\n",
       "<table border=\"1\" class=\"dataframe\">\n",
       "  <thead>\n",
       "    <tr style=\"text-align: right;\">\n",
       "      <th></th>\n",
       "      <th>name</th>\n",
       "      <th>type</th>\n",
       "      <th>kind</th>\n",
       "      <th>NAME_SALESFORCE_ATTRIBUTE</th>\n",
       "      <th>NAME_ALIAS</th>\n",
       "    </tr>\n",
       "  </thead>\n",
       "  <tbody>\n",
       "    <tr>\n",
       "      <th>16</th>\n",
       "      <td>NaN</td>\n",
       "      <td>NaN</td>\n",
       "      <td>NaN</td>\n",
       "      <td>FSM_BO_FLEX_FIELD_3_LABEL__C</td>\n",
       "      <td>FSM_BO_FLEX_FIELD_3_LABEL__C</td>\n",
       "    </tr>\n",
       "    <tr>\n",
       "      <th>21</th>\n",
       "      <td>NaN</td>\n",
       "      <td>NaN</td>\n",
       "      <td>NaN</td>\n",
       "      <td>FSM_BO_FLEX_FIELD_1_LABEL__C</td>\n",
       "      <td>FSM_BO_FLEX_FIELD_1_LABEL__C</td>\n",
       "    </tr>\n",
       "    <tr>\n",
       "      <th>27</th>\n",
       "      <td>NaN</td>\n",
       "      <td>NaN</td>\n",
       "      <td>NaN</td>\n",
       "      <td>FSM_BO_FLEX_FIELD_3__C</td>\n",
       "      <td>FSM_BO_FLEX_FIELD_3__C</td>\n",
       "    </tr>\n",
       "    <tr>\n",
       "      <th>31</th>\n",
       "      <td>NaN</td>\n",
       "      <td>NaN</td>\n",
       "      <td>NaN</td>\n",
       "      <td>FSM_BO_FLEX_FIELD_DATE_TIME_FIELDS_4__C</td>\n",
       "      <td>BO_FLEX_FIELD_DTTM_FIELDS_4_C</td>\n",
       "    </tr>\n",
       "    <tr>\n",
       "      <th>43</th>\n",
       "      <td>NaN</td>\n",
       "      <td>NaN</td>\n",
       "      <td>NaN</td>\n",
       "      <td>FSM_BO_FLEX_FIELD_DATE_TIME_FIELDS_2__C</td>\n",
       "      <td>BO_FLEX_FIELD_DTTM_FIELDS_2_C</td>\n",
       "    </tr>\n",
       "    <tr>\n",
       "      <th>62</th>\n",
       "      <td>NaN</td>\n",
       "      <td>NaN</td>\n",
       "      <td>NaN</td>\n",
       "      <td>FSM_TP_REF__C</td>\n",
       "      <td>FSM_TP_REF__C</td>\n",
       "    </tr>\n",
       "    <tr>\n",
       "      <th>103</th>\n",
       "      <td>NaN</td>\n",
       "      <td>NaN</td>\n",
       "      <td>NaN</td>\n",
       "      <td>FSM_SCHEDULE_FLEX_FIELD_4__C</td>\n",
       "      <td>FSM_SCHEDULE_FLEX_FIELD_4__C</td>\n",
       "    </tr>\n",
       "    <tr>\n",
       "      <th>109</th>\n",
       "      <td>NaN</td>\n",
       "      <td>NaN</td>\n",
       "      <td>NaN</td>\n",
       "      <td>FSM_BO_FLEX_FIELD_4__C</td>\n",
       "      <td>FSM_BO_FLEX_FIELD_4__C</td>\n",
       "    </tr>\n",
       "    <tr>\n",
       "      <th>128</th>\n",
       "      <td>NaN</td>\n",
       "      <td>NaN</td>\n",
       "      <td>NaN</td>\n",
       "      <td>FSM_TIME_TO_DISPATCH__C</td>\n",
       "      <td>FSM_TIME_TO_DISPATCH__C</td>\n",
       "    </tr>\n",
       "    <tr>\n",
       "      <th>147</th>\n",
       "      <td>NaN</td>\n",
       "      <td>NaN</td>\n",
       "      <td>NaN</td>\n",
       "      <td>FSM_BO_FLEX_FIELD_4_LABEL__C</td>\n",
       "      <td>FSM_BO_FLEX_FIELD_4_LABEL__C</td>\n",
       "    </tr>\n",
       "    <tr>\n",
       "      <th>148</th>\n",
       "      <td>NaN</td>\n",
       "      <td>NaN</td>\n",
       "      <td>NaN</td>\n",
       "      <td>FSM_BO_FLEX_FIELD_2_LABEL__C</td>\n",
       "      <td>FSM_BO_FLEX_FIELD_2_LABEL__C</td>\n",
       "    </tr>\n",
       "    <tr>\n",
       "      <th>163</th>\n",
       "      <td>NaN</td>\n",
       "      <td>NaN</td>\n",
       "      <td>NaN</td>\n",
       "      <td>FSM_BO_FLEX_FIELD_DATE_TIME_FIELDS_1__C</td>\n",
       "      <td>BO_FLEX_FIELD_DTTM_FIELDS_1_C</td>\n",
       "    </tr>\n",
       "    <tr>\n",
       "      <th>178</th>\n",
       "      <td>NaN</td>\n",
       "      <td>NaN</td>\n",
       "      <td>NaN</td>\n",
       "      <td>FSM_BO_FLEX_FIELD_2__C</td>\n",
       "      <td>FSM_BO_FLEX_FIELD_2__C</td>\n",
       "    </tr>\n",
       "    <tr>\n",
       "      <th>185</th>\n",
       "      <td>NaN</td>\n",
       "      <td>NaN</td>\n",
       "      <td>NaN</td>\n",
       "      <td>FSM_SCHEDULE_FLEX_FIELD_2__C</td>\n",
       "      <td>FSM_SCHEDULE_FLEX_FIELD_2__C</td>\n",
       "    </tr>\n",
       "    <tr>\n",
       "      <th>200</th>\n",
       "      <td>NaN</td>\n",
       "      <td>NaN</td>\n",
       "      <td>NaN</td>\n",
       "      <td>FSM_SCHEDULE_FLEX_FIELD_3__C</td>\n",
       "      <td>FSM_SCHEDULE_FLEX_FIELD_3__C</td>\n",
       "    </tr>\n",
       "    <tr>\n",
       "      <th>230</th>\n",
       "      <td>NaN</td>\n",
       "      <td>NaN</td>\n",
       "      <td>NaN</td>\n",
       "      <td>FSM_BO_FLEX_FIELD_1__C</td>\n",
       "      <td>FSM_BO_FLEX_FIELD_1__C</td>\n",
       "    </tr>\n",
       "    <tr>\n",
       "      <th>231</th>\n",
       "      <td>NaN</td>\n",
       "      <td>NaN</td>\n",
       "      <td>NaN</td>\n",
       "      <td>FSM_SCHEDULE_FLEX_FIELD_1__C</td>\n",
       "      <td>FSM_SCHEDULE_FLEX_FIELD_1__C</td>\n",
       "    </tr>\n",
       "    <tr>\n",
       "      <th>296</th>\n",
       "      <td>NaN</td>\n",
       "      <td>NaN</td>\n",
       "      <td>NaN</td>\n",
       "      <td>FSM_BO_FLEX_FIELD_DATE_TIME_FIELDS_3__C</td>\n",
       "      <td>BO_FLEX_FIELD_DTTM_FIELDS_3_C</td>\n",
       "    </tr>\n",
       "    <tr>\n",
       "      <th>317</th>\n",
       "      <td>NaN</td>\n",
       "      <td>NaN</td>\n",
       "      <td>NaN</td>\n",
       "      <td>FSM_BO_FLEX_FIELD_NUM_1__C</td>\n",
       "      <td>FSM_BO_FLEX_FIELD_NUM_1__C</td>\n",
       "    </tr>\n",
       "  </tbody>\n",
       "</table>\n",
       "</div>"
      ],
      "text/plain": [
       "    name type kind                NAME_SALESFORCE_ATTRIBUTE  \\\n",
       "16   NaN  NaN  NaN             FSM_BO_FLEX_FIELD_3_LABEL__C   \n",
       "21   NaN  NaN  NaN             FSM_BO_FLEX_FIELD_1_LABEL__C   \n",
       "27   NaN  NaN  NaN                   FSM_BO_FLEX_FIELD_3__C   \n",
       "31   NaN  NaN  NaN  FSM_BO_FLEX_FIELD_DATE_TIME_FIELDS_4__C   \n",
       "43   NaN  NaN  NaN  FSM_BO_FLEX_FIELD_DATE_TIME_FIELDS_2__C   \n",
       "62   NaN  NaN  NaN                            FSM_TP_REF__C   \n",
       "103  NaN  NaN  NaN             FSM_SCHEDULE_FLEX_FIELD_4__C   \n",
       "109  NaN  NaN  NaN                   FSM_BO_FLEX_FIELD_4__C   \n",
       "128  NaN  NaN  NaN                  FSM_TIME_TO_DISPATCH__C   \n",
       "147  NaN  NaN  NaN             FSM_BO_FLEX_FIELD_4_LABEL__C   \n",
       "148  NaN  NaN  NaN             FSM_BO_FLEX_FIELD_2_LABEL__C   \n",
       "163  NaN  NaN  NaN  FSM_BO_FLEX_FIELD_DATE_TIME_FIELDS_1__C   \n",
       "178  NaN  NaN  NaN                   FSM_BO_FLEX_FIELD_2__C   \n",
       "185  NaN  NaN  NaN             FSM_SCHEDULE_FLEX_FIELD_2__C   \n",
       "200  NaN  NaN  NaN             FSM_SCHEDULE_FLEX_FIELD_3__C   \n",
       "230  NaN  NaN  NaN                   FSM_BO_FLEX_FIELD_1__C   \n",
       "231  NaN  NaN  NaN             FSM_SCHEDULE_FLEX_FIELD_1__C   \n",
       "296  NaN  NaN  NaN  FSM_BO_FLEX_FIELD_DATE_TIME_FIELDS_3__C   \n",
       "317  NaN  NaN  NaN               FSM_BO_FLEX_FIELD_NUM_1__C   \n",
       "\n",
       "                        NAME_ALIAS  \n",
       "16    FSM_BO_FLEX_FIELD_3_LABEL__C  \n",
       "21    FSM_BO_FLEX_FIELD_1_LABEL__C  \n",
       "27          FSM_BO_FLEX_FIELD_3__C  \n",
       "31   BO_FLEX_FIELD_DTTM_FIELDS_4_C  \n",
       "43   BO_FLEX_FIELD_DTTM_FIELDS_2_C  \n",
       "62                   FSM_TP_REF__C  \n",
       "103   FSM_SCHEDULE_FLEX_FIELD_4__C  \n",
       "109         FSM_BO_FLEX_FIELD_4__C  \n",
       "128        FSM_TIME_TO_DISPATCH__C  \n",
       "147   FSM_BO_FLEX_FIELD_4_LABEL__C  \n",
       "148   FSM_BO_FLEX_FIELD_2_LABEL__C  \n",
       "163  BO_FLEX_FIELD_DTTM_FIELDS_1_C  \n",
       "178         FSM_BO_FLEX_FIELD_2__C  \n",
       "185   FSM_SCHEDULE_FLEX_FIELD_2__C  \n",
       "200   FSM_SCHEDULE_FLEX_FIELD_3__C  \n",
       "230         FSM_BO_FLEX_FIELD_1__C  \n",
       "231   FSM_SCHEDULE_FLEX_FIELD_1__C  \n",
       "296  BO_FLEX_FIELD_DTTM_FIELDS_3_C  \n",
       "317     FSM_BO_FLEX_FIELD_NUM_1__C  "
      ]
     },
     "execution_count": 16,
     "metadata": {},
     "output_type": "execute_result"
    }
   ],
   "source": [
    "final_df_missing"
   ]
  },
  {
   "cell_type": "code",
   "execution_count": null,
   "metadata": {},
   "outputs": [],
   "source": [
    "def transform_name_null(name_alias) -> str:\n",
    "\t\"\"\"\n",
    "\tAdds given name_alias as null.\n",
    "\n",
    "\tParameters:\n",
    "\tname_alias (str): The alias for the column.\n",
    "\n",
    "\tReturns:\n",
    "\tstr: The formatted string with the alias.\n",
    "    \"\"\"\n",
    "\treturn f\"CAST(NULL AS NUMBER) AS {name_alias}\".format(name_alias)"
   ]
  },
  {
   "cell_type": "code",
   "execution_count": null,
   "metadata": {},
   "outputs": [],
   "source": [
    "final_df_missing['name_new'] = final_df_missing.apply(lambda x: transform_name_null(x['NAME_ALIAS']), axis=1)"
   ]
  },
  {
   "cell_type": "code",
   "execution_count": null,
   "metadata": {},
   "outputs": [],
   "source": [
    "final_df_missing"
   ]
  },
  {
   "cell_type": "markdown",
   "metadata": {},
   "source": [
    "### Merging the dataframes"
   ]
  },
  {
   "cell_type": "code",
   "execution_count": null,
   "metadata": {},
   "outputs": [],
   "source": [
    "result_df = pd.concat([final_df, final_df_missing])"
   ]
  },
  {
   "cell_type": "code",
   "execution_count": null,
   "metadata": {},
   "outputs": [],
   "source": [
    "result_df"
   ]
  },
  {
   "cell_type": "markdown",
   "metadata": {},
   "source": [
    "### Transforming to list"
   ]
  },
  {
   "cell_type": "code",
   "execution_count": null,
   "metadata": {},
   "outputs": [],
   "source": [
    "column_list:list = result_df['name_new'].to_list()"
   ]
  },
  {
   "cell_type": "code",
   "execution_count": null,
   "metadata": {},
   "outputs": [],
   "source": [
    "columns_str:str = ', '.join(column_list)"
   ]
  },
  {
   "cell_type": "code",
   "execution_count": null,
   "metadata": {},
   "outputs": [],
   "source": [
    "final_query:str = f\"CREATE OR REPLACE VIEW {db_name}.{schema_name}.{view_name} AS SELECT {columns_str} FROM {db_name}.{schema_name}.{table_for_desc_name};\""
   ]
  },
  {
   "cell_type": "code",
   "execution_count": null,
   "metadata": {},
   "outputs": [],
   "source": [
    "final_query"
   ]
  },
  {
   "cell_type": "markdown",
   "metadata": {},
   "source": [
    "# Stored Procedure sp_create_salesforce_views"
   ]
  },
  {
   "cell_type": "code",
   "execution_count": 4,
   "metadata": {},
   "outputs": [],
   "source": [
    "def transform_name(name, type, name_alias):\n",
    "    \"\"\"\n",
    "    Transforms the given name and type into a formatted string with an alias.\n",
    "\n",
    "    Parameters:\n",
    "    name (str): The name of the column.\n",
    "    type (str): The data type of the column.\n",
    "    name_alias (str): The alias for the column.\n",
    "\n",
    "    Returns:\n",
    "    str: The formatted string with the alias.\n",
    "    \"\"\"\n",
    "    if isinstance(type, str) and 'VARCHAR' in type:\n",
    "        #return name + '0007'\n",
    "        return f\"CAST(SUBSTR({name},1,2000) AS VARCHAR(2000)) AS {name_alias}\".format(name, name_alias)\n",
    "    else:\n",
    "        return f\"{name} AS {name_alias}\".format(name, name_alias)"
   ]
  },
  {
   "cell_type": "code",
   "execution_count": 5,
   "metadata": {},
   "outputs": [],
   "source": [
    "def transform_name_null(name_alias) -> str:\n",
    "\t\"\"\"\n",
    "\tAdds given name_alias as null.\n",
    "\n",
    "\tParameters:\n",
    "\tname_alias (str): The alias for the column.\n",
    "\n",
    "\tReturns:\n",
    "\tstr: The formatted string with the alias.\n",
    "    \"\"\"\n",
    "\treturn f\"CAST(NULL AS NUMBER) AS {name_alias}\".format(name_alias)"
   ]
  },
  {
   "cell_type": "code",
   "execution_count": 6,
   "metadata": {},
   "outputs": [],
   "source": [
    "def sp_create_salesforce_views(session: Session, db_name: str, schema_name: str, table_name: str) -> str:\n",
    "\ttry:\n",
    "\t\t# Setting up logger\n",
    "\t\tlogger = logging.getLogger(\"sp_create_salesforce_views\")\n",
    "\n",
    "\t\t# Getting name of the table\n",
    "\t\ttable_view_mapping = session.sql(f\"SELECT * FROM ACCOUNTADMIN_MGMT.UTILITIES.SALESFORCE_TABLE_VIEW_MAPPING WHERE NAME_SALESFORCE_ENVIRONMENT = '{schema_name}' AND NAME_SALESFORCE_TABLE_ORIGINAL = '{table_name}'\".format(schema_name, table_name)).collect()\n",
    "\t\ttable_view_mapping_dic = [row.asDict() for row in table_view_mapping][0]\n",
    "\t\ttable_name = table_view_mapping_dic['NAME_SALESFORCE_TABLE_ORIGINAL']\n",
    "\t\ttable_for_desc_name = table_view_mapping_dic['NAME_SNOWFLAKE_RESERVED_WORD']\n",
    "\t\tview_name = table_view_mapping_dic['NAME_SALESFORCE_VIEW_ALIAS']\n",
    "\t\t\n",
    "\t\t# Getting description of the table\n",
    "\t\tresult_describe_table = [row.as_dict() for row in session.sql(f\"DESCRIBE TABLE {db_name}.{schema_name}.{table_for_desc_name};\".format(db_name, schema_name, table_for_desc_name)).collect()]\n",
    "\n",
    "\t\t# Removing unnecessary columns\n",
    "\t\tdf_describe_table = pd.DataFrame(result_describe_table)\n",
    "\t\tdf_describe_table.drop(columns=['null?', 'default','primary key', 'unique key',\n",
    "\t\t'check', 'expression', 'comment', 'policy name'], inplace=True)\n",
    "\t\t\n",
    "\t\t# Getting mapping table\n",
    "\t\tresult_salesforce_mapping = [row.as_dict() for row in session.sql(f\"SELECT NAME_SALESFORCE_ATTRIBUTE, NAME_ALIAS FROM ACCOUNTADMIN_MGMT.UTILITIES.SALESFORCE_COLUMN_MAPPING WHERE NAME_SALESFORCE_OBJECT = '{table_name}'\".format()).collect()]\n",
    "\t\tdf_salesforce_mapping = pd.DataFrame(result_salesforce_mapping)\n",
    "\n",
    "\t\t# Mixing with Mapping Table\n",
    "\t\tif df_salesforce_mapping.empty:\n",
    "\t\t\tfinal_df = df_describe_table\n",
    "\t\t\tfinal_df['NAME_ALIAS'] = final_df['name']\n",
    "\t\telse:\n",
    "\t\t\tfinal_df = pd.merge(df_describe_table, df_salesforce_mapping, left_on='name', right_on='NAME_SALESFORCE_ATTRIBUTE', how='left')\n",
    "\t\t\tfinal_df['NAME_ALIAS'] = final_df.apply(lambda x: x['name'] if pd.isna(x['NAME_ALIAS']) else x['NAME_ALIAS'], axis=1)\n",
    "\n",
    "\t\t# apply the transform_name function to create a new column called 'name_new'\n",
    "\t\tfinal_df['name_new'] = final_df.apply(lambda x: transform_name(x['name'], x['type'], x['NAME_ALIAS']), axis=1)\n",
    "\n",
    "\t\t# Getting second dataframe with missing columns\n",
    "\t\tif df_salesforce_mapping.empty:\n",
    "\t\t\tfinal_df_missing = df_describe_table\n",
    "\t\t\tfinal_df_missing['NAME_ALIAS'] = final_df_missing['name']\n",
    "\t\telse:\n",
    "\t\t\tfinal_df_missing = pd.merge(df_salesforce_mapping, df_describe_table, left_on='NAME_SALESFORCE_ATTRIBUTE', right_on='name', how='left')\n",
    "\t\t\tfinal_df_missing = final_df_missing[final_df_missing['name'].isnull()]\n",
    "\t\t\tfinal_df_missing['NAME_ALIAS'] = final_df_missing.apply(lambda x: x['name'] if pd.isna(x['NAME_ALIAS']) else x['NAME_ALIAS'], axis=1)\n",
    "\t\t\t# Reorder columns\n",
    "\t\t\tfinal_df_missing = final_df_missing.reindex(columns=['name', 'type', 'kind','NAME_SALESFORCE_ATTRIBUTE', 'NAME_ALIAS'])\n",
    "\t\t\n",
    "\t\t# apply the transform_name_null function to create a new column called 'name_new'\n",
    "\t\tfinal_df_missing['name_new'] = final_df_missing.apply(lambda x: transform_name_null(x['NAME_ALIAS']), axis=1)\n",
    "\n",
    "\t\t# Concatenate both dataframes\n",
    "\t\tresult_df = pd.concat([final_df, final_df_missing])\n",
    "\n",
    "\t\t# create a list of the column names\n",
    "\t\tcolumn_list:list = result_df['name_new'].to_list()\n",
    "\n",
    "\t\tcolumns_str:str = ', '.join(column_list)\n",
    "\n",
    "\t\t# append the final result to something like \"CREATE OR REPLACE VIEW {db_name}.{schema_name}}.{table_name}_V AS SELECT {columns_str} FROM {db_name}.{schema_name}.{table_name};\"\n",
    "\t\tfinal_query:str = f\"CREATE OR REPLACE VIEW {db_name}.{schema_name}.{view_name} AS SELECT {columns_str} FROM {db_name}.{schema_name}.{table_for_desc_name};\"\n",
    "\t\t\n",
    "\t\tsession.sql(final_query).collect()\n",
    "\n",
    "\t\treturn \"SUCCESS\"\n",
    "\texcept Exception as e:\t\n",
    "\t\tlogger.error(f\"Error: {e}\", exc_info=True)\n",
    "\t\treturn \"FAILURE\""
   ]
  },
  {
   "cell_type": "code",
   "execution_count": null,
   "metadata": {},
   "outputs": [],
   "source": [
    "# Getting name of the table\n",
    "db_name = 'STITCH'\n",
    "schema_name = 'SALESFORCEQASIT'\n",
    "table_name:str = 'CASE'"
   ]
  },
  {
   "cell_type": "code",
   "execution_count": null,
   "metadata": {},
   "outputs": [],
   "source": [
    "sp_create_salesforce_views(session, db_name, schema_name, table_name)"
   ]
  },
  {
   "cell_type": "markdown",
   "metadata": {},
   "source": [
    "## Register sp_create_salesforce_views"
   ]
  },
  {
   "cell_type": "code",
   "execution_count": null,
   "metadata": {},
   "outputs": [],
   "source": [
    "session.sproc.register(\n",
    "\tfunc = sp_create_salesforce_views,\n",
    "\tname = \"sp_create_salesforce_views\",\n",
    "\tpackages = [\"snowflake-snowpark-python\", \"pandas\", \"numpy\"],\n",
    "\tis_permanent = True,\n",
    "\tstage_location = \"@ACCOUNTADMIN_MGMT.UTILITIES.ACCOUNTADMIN_MGMT_STAGE\",\n",
    "\texecute_as = 'caller',\n",
    "\treplace=True,\n",
    "\t#source_code_display = False,\n",
    ")"
   ]
  },
  {
   "cell_type": "code",
   "execution_count": null,
   "metadata": {},
   "outputs": [],
   "source": [
    "session.call(\"sp_create_salesforce_views\", db_name, schema_name, table_name)"
   ]
  },
  {
   "cell_type": "markdown",
   "metadata": {},
   "source": [
    "# All Tables"
   ]
  },
  {
   "cell_type": "code",
   "execution_count": null,
   "metadata": {},
   "outputs": [],
   "source": [
    "#'SALESFORCEQASIT','SALESFORCEFSL3'"
   ]
  },
  {
   "cell_type": "code",
   "execution_count": 8,
   "metadata": {},
   "outputs": [],
   "source": [
    "def sp_run_dynamic_salesforce_views(session: Session) -> str:\n",
    "    database:str = 'STITCH'\n",
    "\n",
    "    for schema in ['SALESFORCEQASIT', 'WORKDAYSANDBOXPREVIEW']:\n",
    "        print(f'------->{schema}'.format(schema))\n",
    "        result = session.sql(f\"SHOW TABLES IN STITCH.{schema}\".format(schema)).collect()\n",
    "        df = pd.DataFrame(result)\n",
    "        tables:list = df['name'].to_list()\n",
    "        for table in tables:\n",
    "            if table not in ['_SDC_REJECTED']:\n",
    "                print(table)\n",
    "                session.call(\"sp_create_salesforce_views\", database, schema, table)\n",
    "    \n",
    "    return \"SUCCESS\""
   ]
  },
  {
   "cell_type": "code",
   "execution_count": null,
   "metadata": {},
   "outputs": [],
   "source": [
    "sp_run_dynamic_salesforce_views(session=session)"
   ]
  },
  {
   "cell_type": "markdown",
   "metadata": {},
   "source": [
    "# Multiple processing"
   ]
  },
  {
   "cell_type": "code",
   "execution_count": null,
   "metadata": {},
   "outputs": [],
   "source": [
    "import multiprocessing as mp\n",
    "\n",
    "def process_table(database, schema, table):\n",
    "    if table not in ['_SDC_REJECTED']:\n",
    "        print(table)\n",
    "        session.call(\"sp_create_salesforce_views\", database, schema, table)\n",
    "\n",
    "def sp_run_dynamic_salesforce_views(session: Session) -> str:\n",
    "    database:str = 'STITCH'\n",
    "\n",
    "    for schema in ['SALESFORCEQASIT', 'WORKDAYSANDBOXPREVIEW']:\n",
    "        print(f'------->{schema}'.format(schema))\n",
    "        result = session.sql(f\"SHOW TABLES IN STITCH.{schema}\".format(schema)).collect()\n",
    "        df = pd.DataFrame(result)\n",
    "        tables:list = df['name'].to_list()\n",
    "        pool = mp.Pool(processes=4)\n",
    "        for table in tables:\n",
    "            pool.apply_async(process_table, args=(database, schema, table))\n",
    "        pool.close()\n",
    "        pool.join()\n",
    "    \n",
    "    return \"SUCCESS\""
   ]
  },
  {
   "cell_type": "code",
   "execution_count": null,
   "metadata": {},
   "outputs": [],
   "source": [
    "sp_run_dynamic_salesforce_views(session=session)"
   ]
  },
  {
   "cell_type": "markdown",
   "metadata": {},
   "source": [
    "# Creating stored procedure"
   ]
  },
  {
   "cell_type": "code",
   "execution_count": 9,
   "metadata": {},
   "outputs": [
    {
     "name": "stderr",
     "output_type": "stream",
     "text": [
      "/home/myuser/.conda/envs/snowparkenv/lib/python3.8/site-packages/cryptography/hazmat/backends/openssl/x509.py:14: CryptographyDeprecationWarning: This version of cryptography contains a temporary pyOpenSSL fallback path. Upgrade pyOpenSSL now.\n",
      "  warnings.warn(\n"
     ]
    },
    {
     "data": {
      "text/plain": [
       "<snowflake.snowpark.stored_procedure.StoredProcedure at 0x7fffbb466100>"
      ]
     },
     "execution_count": 9,
     "metadata": {},
     "output_type": "execute_result"
    }
   ],
   "source": [
    "session.sproc.register(\n",
    "\tfunc=sp_run_dynamic_salesforce_views,\n",
    "\tname=\"sp_run_dynamic_salesforce_views\",\n",
    "\tpackages=[\"snowflake-snowpark-python\", \"pandas\", \"numpy\"],\n",
    "\treplace=True,\n",
    "\tis_permanent=True,\n",
    "\tstage_location=\"@ACCOUNTADMIN_MGMT.UTILITIES.ACCOUNTADMIN_MGMT_STAGE\",\n",
    "\texecute_as='caller',\n",
    "\t#source_code_display=False,\n",
    ")"
   ]
  },
  {
   "cell_type": "code",
   "execution_count": 10,
   "metadata": {},
   "outputs": [
    {
     "data": {
      "text/plain": [
       "'SUCCESS'"
      ]
     },
     "execution_count": 10,
     "metadata": {},
     "output_type": "execute_result"
    }
   ],
   "source": [
    "session.call(\"sp_run_dynamic_salesforce_views\")"
   ]
  },
  {
   "cell_type": "markdown",
   "metadata": {},
   "source": [
    "## Creating Task"
   ]
  },
  {
   "cell_type": "code",
   "execution_count": null,
   "metadata": {},
   "outputs": [],
   "source": [
    "session.use_role(\"SYSADMIN\")\n",
    "session.use_database(\"ACCOUNTADMIN_MGMT\")\n",
    "session.use_warehouse(\"ACCOUNTADMIN_MGMT\")\n",
    "session.use_schema(\"UTILITIES\")"
   ]
  },
  {
   "cell_type": "code",
   "execution_count": null,
   "metadata": {},
   "outputs": [],
   "source": [
    "task_run_dynamic_salesforce_views = \"\"\"\n",
    "CREATE OR REPLACE TASK ACCOUNTADMIN_MGMT.UTILITIES.TASK_RUN_DYNAMIC_SALESFORCE_VIEWS COMMENT = 'Run dynamic salesforce views'\n",
    "    WAREHOUSE = 'ACCOUNTADMIN_MGMT'\n",
    "    ALLOW_OVERLAPPING_EXECUTION = FALSE\n",
    "\tAFTER ACCOUNTADMIN_MGMT.UTILITIES.TASK_RUN_DYNAMIC_SALESFORCE_COLUMN_DETECTOR\n",
    "\n",
    "AS\n",
    "        CALL ACCOUNTADMIN_MGMT.UTILITIES.SP_RUN_DYNAMIC_SALESFORCE_VIEWS();\n",
    "\"\"\""
   ]
  },
  {
   "cell_type": "code",
   "execution_count": null,
   "metadata": {},
   "outputs": [],
   "source": [
    "session.sql(task_run_dynamic_salesforce_views).collect()"
   ]
  },
  {
   "cell_type": "code",
   "execution_count": null,
   "metadata": {},
   "outputs": [],
   "source": [
    "session.sql(\"ALTER TASK ACCOUNTADMIN_MGMT.UTILITIES.TASK_RUN_DYNAMIC_SALESFORCE_VIEWS RESUME;\").collect()"
   ]
  },
  {
   "cell_type": "code",
   "execution_count": null,
   "metadata": {},
   "outputs": [],
   "source": [
    "session.sql(\"EXECUTE TASK ACCOUNTADMIN_MGMT.UTILITIES.TASK_RUN_DYNAMIC_SALESFORCE_VIEWS;\").collect()"
   ]
  },
  {
   "cell_type": "code",
   "execution_count": null,
   "metadata": {},
   "outputs": [],
   "source": [
    "session.close()"
   ]
  },
  {
   "cell_type": "code",
   "execution_count": null,
   "metadata": {},
   "outputs": [],
   "source": []
  }
 ],
 "metadata": {
  "kernelspec": {
   "display_name": "snowpark",
   "language": "python",
   "name": "python3"
  },
  "language_info": {
   "codemirror_mode": {
    "name": "ipython",
    "version": 3
   },
   "file_extension": ".py",
   "mimetype": "text/x-python",
   "name": "python",
   "nbconvert_exporter": "python",
   "pygments_lexer": "ipython3",
   "version": "3.10.13"
  },
  "orig_nbformat": 4
 },
 "nbformat": 4,
 "nbformat_minor": 2
}
