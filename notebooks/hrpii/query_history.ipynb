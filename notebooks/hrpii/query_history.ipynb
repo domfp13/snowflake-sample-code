{
 "cells": [
  {
   "cell_type": "code",
   "execution_count": null,
   "metadata": {},
   "outputs": [],
   "source": [
    "import pandas as pd\n",
    "import numpy as np\n",
    "from snowflake.snowpark.session import Session\n",
    "from snowflake.snowpark.functions import udf, avg, col\n",
    "from snowflake.snowpark.types import IntegerType, FloatType, StringType, BooleanType\n",
    "from snowflake.snowpark.files import SnowflakeFile\n",
    "import sys\n",
    "sys.path.append('..')\n",
    "from credentials import Credentials"
   ]
  },
  {
   "cell_type": "code",
   "execution_count": null,
   "metadata": {},
   "outputs": [],
   "source": [
    "cred = Credentials()\n",
    "session = Session.builder.configs(cred.__dict__).create()"
   ]
  },
  {
   "cell_type": "code",
   "execution_count": null,
   "metadata": {},
   "outputs": [],
   "source": [
    "session.use_role(\"ACCOUNTADMIN\")\n",
    "session.use_database(\"SNOWFLAKE\")\n",
    "session.use_schema(\"ACCOUNT_USAGE\")\n",
    "session.use_warehouse(\"ACCOUNTADMIN_MGMT\")"
   ]
  },
  {
   "cell_type": "code",
   "execution_count": null,
   "metadata": {},
   "outputs": [],
   "source": [
    "stg_hr_executive_metrics_data_daily = session.sql(\"SELECT * FROM QUERY_HISTORY WHERE START_TIME >= '2023-08-01 00:00:00' AND DATABASE_NAME = 'HRPII' AND UPPER(QUERY_TEXT) LIKE '%STG_HR_EXECUTIVE_METRICS_DATA_DAILY%';\").collect()\n",
    "stg_hc_executive_metrics_data_daily = session.sql(\"SELECT * FROM QUERY_HISTORY WHERE START_TIME >= '2023-08-01 00:00:00' AND DATABASE_NAME = 'HRPII' AND UPPER(QUERY_TEXT) LIKE '%STG_HC_EXECUTIVE_METRICS_DATA_DAILY%';\").collect()\n",
    "headcount_dailyrolling = session.sql(\"SELECT * FROM QUERY_HISTORY WHERE START_TIME >= '2023-08-01 00:00:00' AND DATABASE_NAME = 'HRPII' AND UPPER(QUERY_TEXT) LIKE '%HEADCOUNT_DAILYROLLING%';\").collect()\n",
    "headcount_dailyrolling = session.sql(\"SELECT * FROM QUERY_HISTORY WHERE START_TIME >= '2023-08-01 00:00:00' AND DATABASE_NAME = 'HRPII' AND UPPER(QUERY_TEXT) LIKE '%HEADCOUNT_DAILYROLLING%';\").collect()\n",
    "stg_hr_job_requisitions_by_created_date = session.sql(\"SELECT * FROM QUERY_HISTORY WHERE START_TIME >= '2023-08-01 00:00:00' AND DATABASE_NAME = 'HRPII' AND UPPER(QUERY_TEXT) LIKE '%STG_HR_JOB_REQUISITIONS_BY_CREATED_DATE%';\").collect()\n",
    "stg_hc_job_requisitions_by_created_date = session.sql(\"SELECT * FROM QUERY_HISTORY WHERE START_TIME >= '2023-08-01 00:00:00' AND DATABASE_NAME = 'HRPII' AND UPPER(QUERY_TEXT) LIKE '%STG_HC_JOB_REQUISITIONS_BY_CREATED_DATE%';\").collect()\n",
    "stg_hr_standard_closed_requisitons = session.sql(\"SELECT * FROM QUERY_HISTORY WHERE START_TIME >= '2023-08-01 00:00:00' AND DATABASE_NAME = 'HRPII' AND UPPER(QUERY_TEXT) LIKE '%STG_HR_STANDARD_CLOSED_REQUISITONS%';\").collect()\n",
    "stg_hr_standard_open_requisitons = session.sql(\"SELECT * FROM QUERY_HISTORY WHERE START_TIME >= '2023-08-01 00:00:00' AND DATABASE_NAME = 'HRPII' AND UPPER(QUERY_TEXT) LIKE '%STG_HR_STANDARD_OPEN_REQUISITONS%';\").collect()\n",
    "stg_hc_standar_closed_reqs_fg = session.sql(\"SELECT * FROM QUERY_HISTORY WHERE START_TIME >= '2023-08-01 00:00:00' AND DATABASE_NAME = 'HRPII' AND UPPER(QUERY_TEXT) LIKE '%STG_HC_STANDAR_CLOSED_REQS_FG%';\").collect()\n",
    "stg_hc_standard_headcount_report_fg = session.sql(\"SELECT * FROM QUERY_HISTORY WHERE START_TIME >= '2023-08-01 00:00:00' AND DATABASE_NAME = 'HRPII' AND UPPER(QUERY_TEXT) LIKE '%STG_HC_STANDARD_HEADCOUNT_REPORT_FG%';\").collect()\n",
    "stg_hr_terminations_by_organization = session.sql(\"SELECT * FROM QUERY_HISTORY WHERE START_TIME >= '2023-08-01 00:00:00' AND DATABASE_NAME = 'HRPII' AND UPPER(QUERY_TEXT) LIKE '%STG_HR_TERMINATIONS_BY_ORGANIZATION%';\").collect()\n",
    "stg_hc_terminations_by_organization = session.sql(\"SELECT * FROM QUERY_HISTORY WHERE START_TIME >= '2023-08-01 00:00:00' AND DATABASE_NAME = 'HRPII' AND UPPER(QUERY_TEXT) LIKE '%STG_HC_TERMINATIONS_BY_ORGANIZATION%';\").collect()\n",
    "stg_hr_time_entry_by_organization = session.sql(\"SELECT * FROM QUERY_HISTORY WHERE START_TIME >= '2023-08-01 00:00:00' AND DATABASE_NAME = 'HRPII' AND UPPER(QUERY_TEXT) LIKE '%STG_HR_TIME_ENTRY_BY_ORGANIZATION%';\").collect()\n",
    "stg_hc_time_entry_by_organization = session.sql(\"SELECT * FROM QUERY_HISTORY WHERE START_TIME >= '2023-08-01 00:00:00' AND DATABASE_NAME = 'HRPII' AND UPPER(QUERY_TEXT) LIKE '%STG_HC_TIME_ENTRY_BY_ORGANIZATION%';\").collect()\n",
    "stg_hc_standard_headcount_report_fg = session.sql(\"SELECT * FROM QUERY_HISTORY WHERE START_TIME >= '2023-08-01 00:00:00' AND DATABASE_NAME = 'HRPII' AND UPPER(QUERY_TEXT) LIKE '%STG_HC_STANDARD_HEADCOUNT_REPORT_FG%';\").collect()"
   ]
  },
  {
   "cell_type": "code",
   "execution_count": null,
   "metadata": {},
   "outputs": [],
   "source": [
    "stg_hr_executive_metrics_data_daily = pd.DataFrame([row.asDict() for row in stg_hr_executive_metrics_data_daily])\n",
    "stg_hc_executive_metrics_data_daily = pd.DataFrame([row.asDict() for row in stg_hc_executive_metrics_data_daily])\n",
    "headcount_dailyrolling = pd.DataFrame([row.asDict() for row in headcount_dailyrolling])\n",
    "headcount_dailyrolling = pd.DataFrame([row.asDict() for row in headcount_dailyrolling])\n",
    "stg_hr_job_requisitions_by_created_date = pd.DataFrame([row.asDict() for row in stg_hr_job_requisitions_by_created_date])\n",
    "stg_hc_job_requisitions_by_created_date = pd.DataFrame([row.asDict() for row in stg_hc_job_requisitions_by_created_date])\n",
    "stg_hr_standard_closed_requisitons = pd.DataFrame([row.asDict() for row in stg_hr_standard_closed_requisitons])\n",
    "stg_hr_standard_open_requisitons = pd.DataFrame([row.asDict() for row in stg_hr_standard_open_requisitons])\n",
    "stg_hc_standar_closed_reqs_fg = pd.DataFrame([row.asDict() for row in stg_hc_standar_closed_reqs_fg])\n",
    "stg_hc_standard_headcount_report_fg = pd.DataFrame([row.asDict() for row in stg_hc_standard_headcount_report_fg])\n",
    "stg_hr_terminations_by_organization = pd.DataFrame([row.asDict() for row in stg_hr_terminations_by_organization])\n",
    "stg_hc_terminations_by_organization = pd.DataFrame([row.asDict() for row in stg_hc_terminations_by_organization])\n",
    "stg_hr_time_entry_by_organization = pd.DataFrame([row.asDict() for row in stg_hr_time_entry_by_organization])\n",
    "stg_hc_time_entry_by_organization = pd.DataFrame([row.asDict() for row in stg_hc_time_entry_by_organization])\n",
    "stg_hc_standard_headcount_report_fg = pd.DataFrame([row.asDict() for row in stg_hc_standard_headcount_report_fg])"
   ]
  },
  {
   "cell_type": "code",
   "execution_count": null,
   "metadata": {},
   "outputs": [],
   "source": [
    "import re\n",
    "def search_pattern(text) -> int:\n",
    "\t\n",
    "    delete_pattern_list = ['.*REMOVE.*','.*RM.*','.*PRUNE.*']\n",
    "    \n",
    "    for pattern in delete_pattern_list:\n",
    "        if re.search(pattern, text.upper()):\n",
    "            return 1\n",
    "    return 0"
   ]
  },
  {
   "cell_type": "code",
   "execution_count": null,
   "metadata": {},
   "outputs": [],
   "source": [
    "\n",
    "data_frames_list[14].head(3)\n"
   ]
  },
  {
   "cell_type": "code",
   "execution_count": null,
   "metadata": {},
   "outputs": [],
   "source": [
    "#stg_hr_executive_metrics_data_daily['is_delete'] = stg_hr_executive_metrics_data_daily.apply(lambda x: search_pattern(x['QUERY_TEXT']), axis=1)\n",
    "stg_hc_executive_metrics_data_daily['is_delete'] = stg_hc_executive_metrics_data_daily.apply(lambda x: search_pattern(x['QUERY_TEXT']), axis=1)\n",
    "#headcount_dailyrolling['is_delete'] = headcount_dailyrolling.apply(lambda x: search_pattern(x['QUERY_TEXT']), axis=1)\n",
    "#headcount_dailyrolling['is_delete'] = headcount_dailyrolling.apply(lambda x: search_pattern(x['QUERY_TEXT']), axis=1)\n",
    "#stg_hr_job_requisitions_by_created_date['is_delete'] = stg_hr_job_requisitions_by_created_date.apply(lambda x: search_pattern(x['QUERY_TEXT']), axis=1)\n",
    "#stg_hc_job_requisitions_by_created_date['is_delete'] = stg_hc_job_requisitions_by_created_date.apply(lambda x: search_pattern(x['QUERY_TEXT']), axis=1)\n",
    "#stg_hr_standard_closed_requisitons['is_delete'] = stg_hr_standard_closed_requisitons.apply(lambda x: search_pattern(x['QUERY_TEXT']), axis=1)\n",
    "#stg_hr_standard_open_requisitons['is_delete'] = stg_hr_standard_open_requisitons.apply(lambda x: search_pattern(x['QUERY_TEXT']), axis=1)\n",
    "#stg_hc_standar_closed_reqs_fg['is_delete'] = stg_hc_standar_closed_reqs_fg.apply(lambda x: search_pattern(x['QUERY_TEXT']), axis=1)\n",
    "#stg_hc_standard_headcount_report_fg['is_delete'] = stg_hc_standard_headcount_report_fg.apply(lambda x: search_pattern(x['QUERY_TEXT']), axis=1)\n",
    "#stg_hr_terminations_by_organization['is_delete'] = stg_hr_terminations_by_organization.apply(lambda x: search_pattern(x['QUERY_TEXT']), axis=1)\n",
    "#stg_hc_terminations_by_organization['is_delete'] = stg_hc_terminations_by_organization.apply(lambda x: search_pattern(x['QUERY_TEXT']), axis=1)\n",
    "#stg_hr_time_entry_by_organization['is_delete'] = stg_hr_time_entry_by_organization.apply(lambda x: search_pattern(x['QUERY_TEXT']), axis=1)\n",
    "#stg_hc_time_entry_by_organization['is_delete'] = stg_hc_time_entry_by_organization.apply(lambda x: search_pattern(x['QUERY_TEXT']), axis=1)\n",
    "#stg_hc_standard_headcount_report_fg['is_delete'] = stg_hc_standard_headcount_report_fg.apply(lambda x: search_pattern(x['QUERY_TEXT']), axis=1)"
   ]
  },
  {
   "cell_type": "code",
   "execution_count": null,
   "metadata": {},
   "outputs": [],
   "source": [
    "for i in range(15):\n",
    "\tdata_frames_list[i]['is_delete'] = data_frames_list[i].apply(lambda x: search_pattern(x['QUERY_TEXT']), axis=1)"
   ]
  },
  {
   "cell_type": "code",
   "execution_count": null,
   "metadata": {},
   "outputs": [],
   "source": []
  }
 ],
 "metadata": {
  "kernelspec": {
   "display_name": "snowpark",
   "language": "python",
   "name": "python3"
  },
  "language_info": {
   "codemirror_mode": {
    "name": "ipython",
    "version": 3
   },
   "file_extension": ".py",
   "mimetype": "text/x-python",
   "name": "python",
   "nbconvert_exporter": "python",
   "pygments_lexer": "ipython3",
   "version": "3.10.12"
  },
  "orig_nbformat": 4
 },
 "nbformat": 4,
 "nbformat_minor": 2
}
