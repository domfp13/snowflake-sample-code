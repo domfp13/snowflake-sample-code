{
 "cells": [
  {
   "cell_type": "code",
   "execution_count": 1,
   "metadata": {},
   "outputs": [],
   "source": [
    "import pandas as pd\n",
    "import numpy as np\n",
    "from snowflake.snowpark.session import Session\n",
    "from snowflake.snowpark.functions import udf, avg, col\n",
    "from snowflake.snowpark.types import IntegerType, FloatType, StringType, BooleanType\n",
    "from snowflake.snowpark.files import SnowflakeFile\n",
    "import sys\n",
    "sys.path.append('..')\n",
    "from credentials import Credentials"
   ]
  },
  {
   "cell_type": "code",
   "execution_count": 2,
   "metadata": {},
   "outputs": [],
   "source": [
    "cred = Credentials()\n",
    "session = Session.builder.configs(cred.__dict__).create()"
   ]
  },
  {
   "cell_type": "code",
   "execution_count": 4,
   "metadata": {},
   "outputs": [],
   "source": [
    "session.use_role(\"ACCOUNTADMIN\")\n",
    "session.use_database(\"SNOWFLAKE\")\n",
    "session.use_schema(\"ACCOUNT_USAGE\")\n",
    "session.use_warehouse(\"ACCOUNTADMIN_MGMT\")"
   ]
  },
  {
   "cell_type": "code",
   "execution_count": 80,
   "metadata": {},
   "outputs": [],
   "source": [
    "stg_hr_executive_metrics_data_daily = session.sql(\"SELECT * FROM QUERY_HISTORY WHERE START_TIME >= '2023-08-01 00:00:00' AND DATABASE_NAME = 'HRPII' AND UPPER(QUERY_TEXT) LIKE '%STG_HR_EXECUTIVE_METRICS_DATA_DAILY%';\").collect()\n",
    "stg_hc_executive_metrics_data_daily = session.sql(\"SELECT * FROM QUERY_HISTORY WHERE START_TIME >= '2023-08-01 00:00:00' AND DATABASE_NAME = 'HRPII' AND UPPER(QUERY_TEXT) LIKE '%STG_HC_EXECUTIVE_METRICS_DATA_DAILY%';\").collect()\n",
    "headcount_dailyrolling = session.sql(\"SELECT * FROM QUERY_HISTORY WHERE START_TIME >= '2023-08-01 00:00:00' AND DATABASE_NAME = 'HRPII' AND UPPER(QUERY_TEXT) LIKE '%HEADCOUNT_DAILYROLLING%';\").collect()\n",
    "headcount_dailyrolling = session.sql(\"SELECT * FROM QUERY_HISTORY WHERE START_TIME >= '2023-08-01 00:00:00' AND DATABASE_NAME = 'HRPII' AND UPPER(QUERY_TEXT) LIKE '%HEADCOUNT_DAILYROLLING%';\").collect()\n",
    "stg_hr_job_requisitions_by_created_date = session.sql(\"SELECT * FROM QUERY_HISTORY WHERE START_TIME >= '2023-08-01 00:00:00' AND DATABASE_NAME = 'HRPII' AND UPPER(QUERY_TEXT) LIKE '%STG_HR_JOB_REQUISITIONS_BY_CREATED_DATE%';\").collect()\n",
    "stg_hc_job_requisitions_by_created_date = session.sql(\"SELECT * FROM QUERY_HISTORY WHERE START_TIME >= '2023-08-01 00:00:00' AND DATABASE_NAME = 'HRPII' AND UPPER(QUERY_TEXT) LIKE '%STG_HC_JOB_REQUISITIONS_BY_CREATED_DATE%';\").collect()\n",
    "stg_hr_standard_closed_requisitons = session.sql(\"SELECT * FROM QUERY_HISTORY WHERE START_TIME >= '2023-08-01 00:00:00' AND DATABASE_NAME = 'HRPII' AND UPPER(QUERY_TEXT) LIKE '%STG_HR_STANDARD_CLOSED_REQUISITONS%';\").collect()\n",
    "stg_hr_standard_open_requisitons = session.sql(\"SELECT * FROM QUERY_HISTORY WHERE START_TIME >= '2023-08-01 00:00:00' AND DATABASE_NAME = 'HRPII' AND UPPER(QUERY_TEXT) LIKE '%STG_HR_STANDARD_OPEN_REQUISITONS%';\").collect()\n",
    "stg_hc_standar_closed_reqs_fg = session.sql(\"SELECT * FROM QUERY_HISTORY WHERE START_TIME >= '2023-08-01 00:00:00' AND DATABASE_NAME = 'HRPII' AND UPPER(QUERY_TEXT) LIKE '%STG_HC_STANDAR_CLOSED_REQS_FG%';\").collect()\n",
    "stg_hc_standard_headcount_report_fg = session.sql(\"SELECT * FROM QUERY_HISTORY WHERE START_TIME >= '2023-08-01 00:00:00' AND DATABASE_NAME = 'HRPII' AND UPPER(QUERY_TEXT) LIKE '%STG_HC_STANDARD_HEADCOUNT_REPORT_FG%';\").collect()\n",
    "stg_hr_terminations_by_organization = session.sql(\"SELECT * FROM QUERY_HISTORY WHERE START_TIME >= '2023-08-01 00:00:00' AND DATABASE_NAME = 'HRPII' AND UPPER(QUERY_TEXT) LIKE '%STG_HR_TERMINATIONS_BY_ORGANIZATION%';\").collect()\n",
    "stg_hc_terminations_by_organization = session.sql(\"SELECT * FROM QUERY_HISTORY WHERE START_TIME >= '2023-08-01 00:00:00' AND DATABASE_NAME = 'HRPII' AND UPPER(QUERY_TEXT) LIKE '%STG_HC_TERMINATIONS_BY_ORGANIZATION%';\").collect()\n",
    "stg_hr_time_entry_by_organization = session.sql(\"SELECT * FROM QUERY_HISTORY WHERE START_TIME >= '2023-08-01 00:00:00' AND DATABASE_NAME = 'HRPII' AND UPPER(QUERY_TEXT) LIKE '%STG_HR_TIME_ENTRY_BY_ORGANIZATION%';\").collect()\n",
    "stg_hc_time_entry_by_organization = session.sql(\"SELECT * FROM QUERY_HISTORY WHERE START_TIME >= '2023-08-01 00:00:00' AND DATABASE_NAME = 'HRPII' AND UPPER(QUERY_TEXT) LIKE '%STG_HC_TIME_ENTRY_BY_ORGANIZATION%';\").collect()\n",
    "stg_hc_standard_headcount_report_fg = session.sql(\"SELECT * FROM QUERY_HISTORY WHERE START_TIME >= '2023-08-01 00:00:00' AND DATABASE_NAME = 'HRPII' AND UPPER(QUERY_TEXT) LIKE '%STG_HC_STANDARD_HEADCOUNT_REPORT_FG%';\").collect()"
   ]
  },
  {
   "cell_type": "code",
   "execution_count": 81,
   "metadata": {},
   "outputs": [
    {
     "ename": "AttributeError",
     "evalue": "'str' object has no attribute 'asDict'",
     "output_type": "error",
     "traceback": [
      "\u001b[0;31m---------------------------------------------------------------------------\u001b[0m",
      "\u001b[0;31mAttributeError\u001b[0m                            Traceback (most recent call last)",
      "Cell \u001b[0;32mIn[81], line 4\u001b[0m\n\u001b[1;32m      2\u001b[0m stg_hc_executive_metrics_data_daily \u001b[39m=\u001b[39m pd\u001b[39m.\u001b[39mDataFrame([row\u001b[39m.\u001b[39masDict() \u001b[39mfor\u001b[39;00m row \u001b[39min\u001b[39;00m stg_hc_executive_metrics_data_daily])\n\u001b[1;32m      3\u001b[0m headcount_dailyrolling \u001b[39m=\u001b[39m pd\u001b[39m.\u001b[39mDataFrame([row\u001b[39m.\u001b[39masDict() \u001b[39mfor\u001b[39;00m row \u001b[39min\u001b[39;00m headcount_dailyrolling])\n\u001b[0;32m----> 4\u001b[0m headcount_dailyrolling \u001b[39m=\u001b[39m pd\u001b[39m.\u001b[39mDataFrame([row\u001b[39m.\u001b[39masDict() \u001b[39mfor\u001b[39;00m row \u001b[39min\u001b[39;00m headcount_dailyrolling])\n\u001b[1;32m      5\u001b[0m stg_hr_job_requisitions_by_created_date \u001b[39m=\u001b[39m pd\u001b[39m.\u001b[39mDataFrame([row\u001b[39m.\u001b[39masDict() \u001b[39mfor\u001b[39;00m row \u001b[39min\u001b[39;00m stg_hr_job_requisitions_by_created_date])\n\u001b[1;32m      6\u001b[0m stg_hc_job_requisitions_by_created_date \u001b[39m=\u001b[39m pd\u001b[39m.\u001b[39mDataFrame([row\u001b[39m.\u001b[39masDict() \u001b[39mfor\u001b[39;00m row \u001b[39min\u001b[39;00m stg_hc_job_requisitions_by_created_date])\n",
      "Cell \u001b[0;32mIn[81], line 4\u001b[0m, in \u001b[0;36m<listcomp>\u001b[0;34m(.0)\u001b[0m\n\u001b[1;32m      2\u001b[0m stg_hc_executive_metrics_data_daily \u001b[39m=\u001b[39m pd\u001b[39m.\u001b[39mDataFrame([row\u001b[39m.\u001b[39masDict() \u001b[39mfor\u001b[39;00m row \u001b[39min\u001b[39;00m stg_hc_executive_metrics_data_daily])\n\u001b[1;32m      3\u001b[0m headcount_dailyrolling \u001b[39m=\u001b[39m pd\u001b[39m.\u001b[39mDataFrame([row\u001b[39m.\u001b[39masDict() \u001b[39mfor\u001b[39;00m row \u001b[39min\u001b[39;00m headcount_dailyrolling])\n\u001b[0;32m----> 4\u001b[0m headcount_dailyrolling \u001b[39m=\u001b[39m pd\u001b[39m.\u001b[39mDataFrame([row\u001b[39m.\u001b[39;49masDict() \u001b[39mfor\u001b[39;00m row \u001b[39min\u001b[39;00m headcount_dailyrolling])\n\u001b[1;32m      5\u001b[0m stg_hr_job_requisitions_by_created_date \u001b[39m=\u001b[39m pd\u001b[39m.\u001b[39mDataFrame([row\u001b[39m.\u001b[39masDict() \u001b[39mfor\u001b[39;00m row \u001b[39min\u001b[39;00m stg_hr_job_requisitions_by_created_date])\n\u001b[1;32m      6\u001b[0m stg_hc_job_requisitions_by_created_date \u001b[39m=\u001b[39m pd\u001b[39m.\u001b[39mDataFrame([row\u001b[39m.\u001b[39masDict() \u001b[39mfor\u001b[39;00m row \u001b[39min\u001b[39;00m stg_hc_job_requisitions_by_created_date])\n",
      "\u001b[0;31mAttributeError\u001b[0m: 'str' object has no attribute 'asDict'"
     ]
    }
   ],
   "source": [
    "stg_hr_executive_metrics_data_daily = pd.DataFrame([row.asDict() for row in stg_hr_executive_metrics_data_daily])\n",
    "stg_hc_executive_metrics_data_daily = pd.DataFrame([row.asDict() for row in stg_hc_executive_metrics_data_daily])\n",
    "headcount_dailyrolling = pd.DataFrame([row.asDict() for row in headcount_dailyrolling])\n",
    "headcount_dailyrolling = pd.DataFrame([row.asDict() for row in headcount_dailyrolling])\n",
    "stg_hr_job_requisitions_by_created_date = pd.DataFrame([row.asDict() for row in stg_hr_job_requisitions_by_created_date])\n",
    "stg_hc_job_requisitions_by_created_date = pd.DataFrame([row.asDict() for row in stg_hc_job_requisitions_by_created_date])\n",
    "stg_hr_standard_closed_requisitons = pd.DataFrame([row.asDict() for row in stg_hr_standard_closed_requisitons])\n",
    "stg_hr_standard_open_requisitons = pd.DataFrame([row.asDict() for row in stg_hr_standard_open_requisitons])\n",
    "stg_hc_standar_closed_reqs_fg = pd.DataFrame([row.asDict() for row in stg_hc_standar_closed_reqs_fg])\n",
    "stg_hc_standard_headcount_report_fg = pd.DataFrame([row.asDict() for row in stg_hc_standard_headcount_report_fg])\n",
    "stg_hr_terminations_by_organization = pd.DataFrame([row.asDict() for row in stg_hr_terminations_by_organization])\n",
    "stg_hc_terminations_by_organization = pd.DataFrame([row.asDict() for row in stg_hc_terminations_by_organization])\n",
    "stg_hr_time_entry_by_organization = pd.DataFrame([row.asDict() for row in stg_hr_time_entry_by_organization])\n",
    "stg_hc_time_entry_by_organization = pd.DataFrame([row.asDict() for row in stg_hc_time_entry_by_organization])\n",
    "stg_hc_standard_headcount_report_fg = pd.DataFrame([row.asDict() for row in stg_hc_standard_headcount_report_fg])"
   ]
  },
  {
   "cell_type": "code",
   "execution_count": 36,
   "metadata": {},
   "outputs": [],
   "source": [
    "import re\n",
    "def search_pattern(text) -> int:\n",
    "\t\n",
    "    delete_pattern_list = ['.*REMOVE.*','.*RM.*','.*PRUNE.*']\n",
    "    \n",
    "    for pattern in delete_pattern_list:\n",
    "        if re.search(pattern, text.upper()):\n",
    "            return 1\n",
    "    return 0"
   ]
  },
  {
   "cell_type": "code",
   "execution_count": 76,
   "metadata": {},
   "outputs": [
    {
     "data": {
      "text/html": [
       "<div>\n",
       "<style scoped>\n",
       "    .dataframe tbody tr th:only-of-type {\n",
       "        vertical-align: middle;\n",
       "    }\n",
       "\n",
       "    .dataframe tbody tr th {\n",
       "        vertical-align: top;\n",
       "    }\n",
       "\n",
       "    .dataframe thead th {\n",
       "        text-align: right;\n",
       "    }\n",
       "</style>\n",
       "<table border=\"1\" class=\"dataframe\">\n",
       "  <thead>\n",
       "    <tr style=\"text-align: right;\">\n",
       "      <th></th>\n",
       "    </tr>\n",
       "  </thead>\n",
       "  <tbody>\n",
       "  </tbody>\n",
       "</table>\n",
       "</div>"
      ],
      "text/plain": [
       "Empty DataFrame\n",
       "Columns: []\n",
       "Index: []"
      ]
     },
     "execution_count": 76,
     "metadata": {},
     "output_type": "execute_result"
    }
   ],
   "source": [
    "\n",
    "data_frames_list[14].head(3)\n"
   ]
  },
  {
   "cell_type": "code",
   "execution_count": 79,
   "metadata": {},
   "outputs": [
    {
     "ename": "AttributeError",
     "evalue": "'list' object has no attribute 'apply'",
     "output_type": "error",
     "traceback": [
      "\u001b[0;31m---------------------------------------------------------------------------\u001b[0m",
      "\u001b[0;31mAttributeError\u001b[0m                            Traceback (most recent call last)",
      "Cell \u001b[0;32mIn[79], line 2\u001b[0m\n\u001b[1;32m      1\u001b[0m \u001b[39m#stg_hr_executive_metrics_data_daily['is_delete'] = stg_hr_executive_metrics_data_daily.apply(lambda x: search_pattern(x['QUERY_TEXT']), axis=1)\u001b[39;00m\n\u001b[0;32m----> 2\u001b[0m stg_hc_executive_metrics_data_daily[\u001b[39m'\u001b[39m\u001b[39mis_delete\u001b[39m\u001b[39m'\u001b[39m] \u001b[39m=\u001b[39m stg_hc_executive_metrics_data_daily\u001b[39m.\u001b[39;49mapply(\u001b[39mlambda\u001b[39;00m x: search_pattern(x[\u001b[39m'\u001b[39m\u001b[39mQUERY_TEXT\u001b[39m\u001b[39m'\u001b[39m]), axis\u001b[39m=\u001b[39m\u001b[39m1\u001b[39m)\n\u001b[1;32m      3\u001b[0m \u001b[39m#headcount_dailyrolling['is_delete'] = headcount_dailyrolling.apply(lambda x: search_pattern(x['QUERY_TEXT']), axis=1)\u001b[39;00m\n\u001b[1;32m      4\u001b[0m \u001b[39m#headcount_dailyrolling['is_delete'] = headcount_dailyrolling.apply(lambda x: search_pattern(x['QUERY_TEXT']), axis=1)\u001b[39;00m\n\u001b[1;32m      5\u001b[0m \u001b[39m#stg_hr_job_requisitions_by_created_date['is_delete'] = stg_hr_job_requisitions_by_created_date.apply(lambda x: search_pattern(x['QUERY_TEXT']), axis=1)\u001b[39;00m\n\u001b[0;32m   (...)\u001b[0m\n\u001b[1;32m     14\u001b[0m \u001b[39m#stg_hc_time_entry_by_organization['is_delete'] = stg_hc_time_entry_by_organization.apply(lambda x: search_pattern(x['QUERY_TEXT']), axis=1)\u001b[39;00m\n\u001b[1;32m     15\u001b[0m \u001b[39m#stg_hc_standard_headcount_report_fg['is_delete'] = stg_hc_standard_headcount_report_fg.apply(lambda x: search_pattern(x['QUERY_TEXT']), axis=1)\u001b[39;00m\n",
      "\u001b[0;31mAttributeError\u001b[0m: 'list' object has no attribute 'apply'"
     ]
    }
   ],
   "source": [
    "#stg_hr_executive_metrics_data_daily['is_delete'] = stg_hr_executive_metrics_data_daily.apply(lambda x: search_pattern(x['QUERY_TEXT']), axis=1)\n",
    "stg_hc_executive_metrics_data_daily['is_delete'] = stg_hc_executive_metrics_data_daily.apply(lambda x: search_pattern(x['QUERY_TEXT']), axis=1)\n",
    "#headcount_dailyrolling['is_delete'] = headcount_dailyrolling.apply(lambda x: search_pattern(x['QUERY_TEXT']), axis=1)\n",
    "#headcount_dailyrolling['is_delete'] = headcount_dailyrolling.apply(lambda x: search_pattern(x['QUERY_TEXT']), axis=1)\n",
    "#stg_hr_job_requisitions_by_created_date['is_delete'] = stg_hr_job_requisitions_by_created_date.apply(lambda x: search_pattern(x['QUERY_TEXT']), axis=1)\n",
    "#stg_hc_job_requisitions_by_created_date['is_delete'] = stg_hc_job_requisitions_by_created_date.apply(lambda x: search_pattern(x['QUERY_TEXT']), axis=1)\n",
    "#stg_hr_standard_closed_requisitons['is_delete'] = stg_hr_standard_closed_requisitons.apply(lambda x: search_pattern(x['QUERY_TEXT']), axis=1)\n",
    "#stg_hr_standard_open_requisitons['is_delete'] = stg_hr_standard_open_requisitons.apply(lambda x: search_pattern(x['QUERY_TEXT']), axis=1)\n",
    "#stg_hc_standar_closed_reqs_fg['is_delete'] = stg_hc_standar_closed_reqs_fg.apply(lambda x: search_pattern(x['QUERY_TEXT']), axis=1)\n",
    "#stg_hc_standard_headcount_report_fg['is_delete'] = stg_hc_standard_headcount_report_fg.apply(lambda x: search_pattern(x['QUERY_TEXT']), axis=1)\n",
    "#stg_hr_terminations_by_organization['is_delete'] = stg_hr_terminations_by_organization.apply(lambda x: search_pattern(x['QUERY_TEXT']), axis=1)\n",
    "#stg_hc_terminations_by_organization['is_delete'] = stg_hc_terminations_by_organization.apply(lambda x: search_pattern(x['QUERY_TEXT']), axis=1)\n",
    "#stg_hr_time_entry_by_organization['is_delete'] = stg_hr_time_entry_by_organization.apply(lambda x: search_pattern(x['QUERY_TEXT']), axis=1)\n",
    "#stg_hc_time_entry_by_organization['is_delete'] = stg_hc_time_entry_by_organization.apply(lambda x: search_pattern(x['QUERY_TEXT']), axis=1)\n",
    "#stg_hc_standard_headcount_report_fg['is_delete'] = stg_hc_standard_headcount_report_fg.apply(lambda x: search_pattern(x['QUERY_TEXT']), axis=1)"
   ]
  },
  {
   "cell_type": "code",
   "execution_count": null,
   "metadata": {},
   "outputs": [],
   "source": [
    "for i in range(15):\n",
    "\tdata_frames_list[i]['is_delete'] = data_frames_list[i].apply(lambda x: search_pattern(x['QUERY_TEXT']), axis=1)"
   ]
  },
  {
   "cell_type": "code",
   "execution_count": null,
   "metadata": {},
   "outputs": [],
   "source": []
  }
 ],
 "metadata": {
  "kernelspec": {
   "display_name": "snowpark",
   "language": "python",
   "name": "python3"
  },
  "language_info": {
   "codemirror_mode": {
    "name": "ipython",
    "version": 3
   },
   "file_extension": ".py",
   "mimetype": "text/x-python",
   "name": "python",
   "nbconvert_exporter": "python",
   "pygments_lexer": "ipython3",
   "version": "3.10.12"
  },
  "orig_nbformat": 4
 },
 "nbformat": 4,
 "nbformat_minor": 2
}
