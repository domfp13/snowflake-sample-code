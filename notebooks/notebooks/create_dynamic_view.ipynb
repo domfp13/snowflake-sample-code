{
 "cells": [
  {
   "cell_type": "code",
   "execution_count": 70,
   "metadata": {},
   "outputs": [],
   "source": [
    "import pandas as pd\n",
    "import numpy as np\n",
    "from snowflake.snowpark.session import Session\n",
    "from snowflake.snowpark.functions import udf, avg, col\n",
    "from snowflake.snowpark.types import IntegerType, FloatType, StringType, BooleanType\n",
    "from snowflake.snowpark.files import SnowflakeFile\n",
    "import sys\n",
    "sys.path.append('..')\n",
    "from credentials import Credentials"
   ]
  },
  {
   "cell_type": "code",
   "execution_count": 71,
   "metadata": {},
   "outputs": [],
   "source": [
    "# Setting pandas options\n",
    "pd.set_option('display.max_rows', None)\n",
    "pd.set_option('display.max_columns', None)"
   ]
  },
  {
   "cell_type": "code",
   "execution_count": 72,
   "metadata": {},
   "outputs": [],
   "source": [
    "cred = Credentials()\n",
    "session = Session.builder.configs(cred.__dict__).create()"
   ]
  },
  {
   "cell_type": "code",
   "execution_count": 73,
   "metadata": {},
   "outputs": [],
   "source": [
    "session.use_role(\"SYSADMIN\")\n",
    "session.use_database(\"STITCH\")\n",
    "session.use_warehouse(\"ACCOUNTADMIN_MGMT\")\n",
    "session.use_schema(\"SALESFORCEFSL3\")"
   ]
  },
  {
   "cell_type": "markdown",
   "metadata": {},
   "source": [
    "# Indiviual Table "
   ]
  },
  {
   "cell_type": "code",
   "execution_count": 74,
   "metadata": {},
   "outputs": [],
   "source": [
    "# Getting name of the table\n",
    "db_name = 'STITCH'\n",
    "schema_name = 'SALESFORCEFSL3'\n",
    "table_name:str = 'ACCOUNT'"
   ]
  },
  {
   "cell_type": "code",
   "execution_count": 75,
   "metadata": {},
   "outputs": [],
   "source": [
    "result_describe_table = [row.as_dict() for row in session.sql(f\"DESCRIBE TABLE {db_name}.{schema_name}.{table_name};\".format(db_name, schema_name, table_name)).collect()]"
   ]
  },
  {
   "cell_type": "code",
   "execution_count": 76,
   "metadata": {},
   "outputs": [],
   "source": [
    "df_describe_table = pd.DataFrame(result_describe_table)"
   ]
  },
  {
   "cell_type": "code",
   "execution_count": 77,
   "metadata": {},
   "outputs": [
    {
     "data": {
      "text/html": [
       "<div>\n",
       "<style scoped>\n",
       "    .dataframe tbody tr th:only-of-type {\n",
       "        vertical-align: middle;\n",
       "    }\n",
       "\n",
       "    .dataframe tbody tr th {\n",
       "        vertical-align: top;\n",
       "    }\n",
       "\n",
       "    .dataframe thead th {\n",
       "        text-align: right;\n",
       "    }\n",
       "</style>\n",
       "<table border=\"1\" class=\"dataframe\">\n",
       "  <thead>\n",
       "    <tr style=\"text-align: right;\">\n",
       "      <th></th>\n",
       "      <th>name</th>\n",
       "      <th>type</th>\n",
       "      <th>kind</th>\n",
       "      <th>null?</th>\n",
       "      <th>default</th>\n",
       "      <th>primary key</th>\n",
       "      <th>unique key</th>\n",
       "      <th>check</th>\n",
       "      <th>expression</th>\n",
       "      <th>comment</th>\n",
       "      <th>policy name</th>\n",
       "    </tr>\n",
       "  </thead>\n",
       "  <tbody>\n",
       "    <tr>\n",
       "      <th>0</th>\n",
       "      <td>ABM_TARGET_ACCOUNT__C</td>\n",
       "      <td>BOOLEAN</td>\n",
       "      <td>COLUMN</td>\n",
       "      <td>Y</td>\n",
       "      <td>None</td>\n",
       "      <td>N</td>\n",
       "      <td>N</td>\n",
       "      <td>None</td>\n",
       "      <td>None</td>\n",
       "      <td>None</td>\n",
       "      <td>None</td>\n",
       "    </tr>\n",
       "    <tr>\n",
       "      <th>1</th>\n",
       "      <td>ACCOUNTNUMBER</td>\n",
       "      <td>VARCHAR(16777216)</td>\n",
       "      <td>COLUMN</td>\n",
       "      <td>Y</td>\n",
       "      <td>None</td>\n",
       "      <td>N</td>\n",
       "      <td>N</td>\n",
       "      <td>None</td>\n",
       "      <td>None</td>\n",
       "      <td>None</td>\n",
       "      <td>None</td>\n",
       "    </tr>\n",
       "    <tr>\n",
       "      <th>2</th>\n",
       "      <td>ACCOUNT_ISACTIVE_CURRENT_FY__C</td>\n",
       "      <td>BOOLEAN</td>\n",
       "      <td>COLUMN</td>\n",
       "      <td>Y</td>\n",
       "      <td>None</td>\n",
       "      <td>N</td>\n",
       "      <td>N</td>\n",
       "      <td>None</td>\n",
       "      <td>None</td>\n",
       "      <td>None</td>\n",
       "      <td>None</td>\n",
       "    </tr>\n",
       "    <tr>\n",
       "      <th>3</th>\n",
       "      <td>ACCOUNT_ISACTIVE_CURRENT_PREVIOUS_FY__C</td>\n",
       "      <td>BOOLEAN</td>\n",
       "      <td>COLUMN</td>\n",
       "      <td>Y</td>\n",
       "      <td>None</td>\n",
       "      <td>N</td>\n",
       "      <td>N</td>\n",
       "      <td>None</td>\n",
       "      <td>None</td>\n",
       "      <td>None</td>\n",
       "      <td>None</td>\n",
       "    </tr>\n",
       "    <tr>\n",
       "      <th>4</th>\n",
       "      <td>ACCOUNT_ISACTIVE_LAST_12_MONTHS__C</td>\n",
       "      <td>BOOLEAN</td>\n",
       "      <td>COLUMN</td>\n",
       "      <td>Y</td>\n",
       "      <td>None</td>\n",
       "      <td>N</td>\n",
       "      <td>N</td>\n",
       "      <td>None</td>\n",
       "      <td>None</td>\n",
       "      <td>None</td>\n",
       "      <td>None</td>\n",
       "    </tr>\n",
       "    <tr>\n",
       "      <th>5</th>\n",
       "      <td>ACCOUNT_OWNER_ROLE__C</td>\n",
       "      <td>VARCHAR(16777216)</td>\n",
       "      <td>COLUMN</td>\n",
       "      <td>Y</td>\n",
       "      <td>None</td>\n",
       "      <td>N</td>\n",
       "      <td>N</td>\n",
       "      <td>None</td>\n",
       "      <td>None</td>\n",
       "      <td>None</td>\n",
       "      <td>None</td>\n",
       "    </tr>\n",
       "    <tr>\n",
       "      <th>6</th>\n",
       "      <td>ACCOUNT_PLAN_COUNT__C</td>\n",
       "      <td>FLOAT</td>\n",
       "      <td>COLUMN</td>\n",
       "      <td>Y</td>\n",
       "      <td>None</td>\n",
       "      <td>N</td>\n",
       "      <td>N</td>\n",
       "      <td>None</td>\n",
       "      <td>None</td>\n",
       "      <td>None</td>\n",
       "      <td>None</td>\n",
       "    </tr>\n",
       "    <tr>\n",
       "      <th>7</th>\n",
       "      <td>ACCOUNT_RECORD_ID__C</td>\n",
       "      <td>VARCHAR(16777216)</td>\n",
       "      <td>COLUMN</td>\n",
       "      <td>Y</td>\n",
       "      <td>None</td>\n",
       "      <td>N</td>\n",
       "      <td>N</td>\n",
       "      <td>None</td>\n",
       "      <td>None</td>\n",
       "      <td>None</td>\n",
       "      <td>None</td>\n",
       "    </tr>\n",
       "    <tr>\n",
       "      <th>8</th>\n",
       "      <td>ACCOUNT_REGION__C</td>\n",
       "      <td>FLOAT</td>\n",
       "      <td>COLUMN</td>\n",
       "      <td>Y</td>\n",
       "      <td>None</td>\n",
       "      <td>N</td>\n",
       "      <td>N</td>\n",
       "      <td>None</td>\n",
       "      <td>None</td>\n",
       "      <td>None</td>\n",
       "      <td>None</td>\n",
       "    </tr>\n",
       "    <tr>\n",
       "      <th>9</th>\n",
       "      <td>AM_IS_ME__C</td>\n",
       "      <td>VARCHAR(16777216)</td>\n",
       "      <td>COLUMN</td>\n",
       "      <td>Y</td>\n",
       "      <td>None</td>\n",
       "      <td>N</td>\n",
       "      <td>N</td>\n",
       "      <td>None</td>\n",
       "      <td>None</td>\n",
       "      <td>None</td>\n",
       "      <td>None</td>\n",
       "    </tr>\n",
       "  </tbody>\n",
       "</table>\n",
       "</div>"
      ],
      "text/plain": [
       "                                      name               type    kind null?  \\\n",
       "0                    ABM_TARGET_ACCOUNT__C            BOOLEAN  COLUMN     Y   \n",
       "1                            ACCOUNTNUMBER  VARCHAR(16777216)  COLUMN     Y   \n",
       "2           ACCOUNT_ISACTIVE_CURRENT_FY__C            BOOLEAN  COLUMN     Y   \n",
       "3  ACCOUNT_ISACTIVE_CURRENT_PREVIOUS_FY__C            BOOLEAN  COLUMN     Y   \n",
       "4       ACCOUNT_ISACTIVE_LAST_12_MONTHS__C            BOOLEAN  COLUMN     Y   \n",
       "5                    ACCOUNT_OWNER_ROLE__C  VARCHAR(16777216)  COLUMN     Y   \n",
       "6                    ACCOUNT_PLAN_COUNT__C              FLOAT  COLUMN     Y   \n",
       "7                     ACCOUNT_RECORD_ID__C  VARCHAR(16777216)  COLUMN     Y   \n",
       "8                        ACCOUNT_REGION__C              FLOAT  COLUMN     Y   \n",
       "9                              AM_IS_ME__C  VARCHAR(16777216)  COLUMN     Y   \n",
       "\n",
       "  default primary key unique key check expression comment policy name  \n",
       "0    None           N          N  None       None    None        None  \n",
       "1    None           N          N  None       None    None        None  \n",
       "2    None           N          N  None       None    None        None  \n",
       "3    None           N          N  None       None    None        None  \n",
       "4    None           N          N  None       None    None        None  \n",
       "5    None           N          N  None       None    None        None  \n",
       "6    None           N          N  None       None    None        None  \n",
       "7    None           N          N  None       None    None        None  \n",
       "8    None           N          N  None       None    None        None  \n",
       "9    None           N          N  None       None    None        None  "
      ]
     },
     "execution_count": 77,
     "metadata": {},
     "output_type": "execute_result"
    }
   ],
   "source": [
    "df_describe_table.head(10)"
   ]
  },
  {
   "cell_type": "markdown",
   "metadata": {},
   "source": [
    "## Mixing with Mapping table"
   ]
  },
  {
   "cell_type": "code",
   "execution_count": 78,
   "metadata": {},
   "outputs": [],
   "source": [
    "result_salesforce_mapping = [row.as_dict() for row in session.sql(f\"SELECT SALESFORCE_ATTRIBUTE_NAME, NEW_NAME FROM ACCOUNTADMIN_MGMT.UTILITIES.SALESFORCE_MAPPING WHERE SALESFORCE_OBJECT_NAME = '{table_name}'\".format()).collect()]\n",
    "df_salesforce_mapping = pd.DataFrame(result_salesforce_mapping)"
   ]
  },
  {
   "cell_type": "code",
   "execution_count": 79,
   "metadata": {},
   "outputs": [
    {
     "data": {
      "text/html": [
       "<div>\n",
       "<style scoped>\n",
       "    .dataframe tbody tr th:only-of-type {\n",
       "        vertical-align: middle;\n",
       "    }\n",
       "\n",
       "    .dataframe tbody tr th {\n",
       "        vertical-align: top;\n",
       "    }\n",
       "\n",
       "    .dataframe thead th {\n",
       "        text-align: right;\n",
       "    }\n",
       "</style>\n",
       "<table border=\"1\" class=\"dataframe\">\n",
       "  <thead>\n",
       "    <tr style=\"text-align: right;\">\n",
       "      <th></th>\n",
       "    </tr>\n",
       "  </thead>\n",
       "  <tbody>\n",
       "  </tbody>\n",
       "</table>\n",
       "</div>"
      ],
      "text/plain": [
       "Empty DataFrame\n",
       "Columns: []\n",
       "Index: []"
      ]
     },
     "execution_count": 79,
     "metadata": {},
     "output_type": "execute_result"
    }
   ],
   "source": [
    "df_salesforce_mapping"
   ]
  },
  {
   "cell_type": "code",
   "execution_count": 80,
   "metadata": {},
   "outputs": [],
   "source": [
    "if df_salesforce_mapping.empty:\n",
    "\tfinal_df = df_describe_table\n",
    "else:\n",
    "\tfinal_df = pd.merge(df_describe_table, df_salesforce_mapping, left_on='name', right_on='SALESFORCE_ATTRIBUTE_NAME', how='left')\n",
    "\tfinal_df['NEW_NAME'].fillna('MISSING_VALUE_PLACEHOLDER', inplace=True)\n",
    "\tfinal_df['name'] = final_df.apply(lambda x: x['name'] if x['NEW_NAME'] == 'MISSING_VALUE_PLACEHOLDER' else x['NEW_NAME'], axis=1)\n",
    "\tfinal_df.drop(['SALESFORCE_ATTRIBUTE_NAME', 'NEW_NAME'], axis=1, inplace=True)\n"
   ]
  },
  {
   "cell_type": "code",
   "execution_count": 81,
   "metadata": {},
   "outputs": [
    {
     "data": {
      "text/html": [
       "<div>\n",
       "<style scoped>\n",
       "    .dataframe tbody tr th:only-of-type {\n",
       "        vertical-align: middle;\n",
       "    }\n",
       "\n",
       "    .dataframe tbody tr th {\n",
       "        vertical-align: top;\n",
       "    }\n",
       "\n",
       "    .dataframe thead th {\n",
       "        text-align: right;\n",
       "    }\n",
       "</style>\n",
       "<table border=\"1\" class=\"dataframe\">\n",
       "  <thead>\n",
       "    <tr style=\"text-align: right;\">\n",
       "      <th></th>\n",
       "      <th>name</th>\n",
       "      <th>type</th>\n",
       "      <th>kind</th>\n",
       "      <th>null?</th>\n",
       "      <th>default</th>\n",
       "      <th>primary key</th>\n",
       "      <th>unique key</th>\n",
       "      <th>check</th>\n",
       "      <th>expression</th>\n",
       "      <th>comment</th>\n",
       "      <th>policy name</th>\n",
       "    </tr>\n",
       "  </thead>\n",
       "  <tbody>\n",
       "    <tr>\n",
       "      <th>0</th>\n",
       "      <td>ABM_TARGET_ACCOUNT__C</td>\n",
       "      <td>BOOLEAN</td>\n",
       "      <td>COLUMN</td>\n",
       "      <td>Y</td>\n",
       "      <td>None</td>\n",
       "      <td>N</td>\n",
       "      <td>N</td>\n",
       "      <td>None</td>\n",
       "      <td>None</td>\n",
       "      <td>None</td>\n",
       "      <td>None</td>\n",
       "    </tr>\n",
       "    <tr>\n",
       "      <th>1</th>\n",
       "      <td>ACCOUNTNUMBER</td>\n",
       "      <td>VARCHAR(16777216)</td>\n",
       "      <td>COLUMN</td>\n",
       "      <td>Y</td>\n",
       "      <td>None</td>\n",
       "      <td>N</td>\n",
       "      <td>N</td>\n",
       "      <td>None</td>\n",
       "      <td>None</td>\n",
       "      <td>None</td>\n",
       "      <td>None</td>\n",
       "    </tr>\n",
       "    <tr>\n",
       "      <th>2</th>\n",
       "      <td>ACCOUNT_ISACTIVE_CURRENT_FY__C</td>\n",
       "      <td>BOOLEAN</td>\n",
       "      <td>COLUMN</td>\n",
       "      <td>Y</td>\n",
       "      <td>None</td>\n",
       "      <td>N</td>\n",
       "      <td>N</td>\n",
       "      <td>None</td>\n",
       "      <td>None</td>\n",
       "      <td>None</td>\n",
       "      <td>None</td>\n",
       "    </tr>\n",
       "    <tr>\n",
       "      <th>3</th>\n",
       "      <td>ACCOUNT_ISACTIVE_CURRENT_PREVIOUS_FY__C</td>\n",
       "      <td>BOOLEAN</td>\n",
       "      <td>COLUMN</td>\n",
       "      <td>Y</td>\n",
       "      <td>None</td>\n",
       "      <td>N</td>\n",
       "      <td>N</td>\n",
       "      <td>None</td>\n",
       "      <td>None</td>\n",
       "      <td>None</td>\n",
       "      <td>None</td>\n",
       "    </tr>\n",
       "    <tr>\n",
       "      <th>4</th>\n",
       "      <td>ACCOUNT_ISACTIVE_LAST_12_MONTHS__C</td>\n",
       "      <td>BOOLEAN</td>\n",
       "      <td>COLUMN</td>\n",
       "      <td>Y</td>\n",
       "      <td>None</td>\n",
       "      <td>N</td>\n",
       "      <td>N</td>\n",
       "      <td>None</td>\n",
       "      <td>None</td>\n",
       "      <td>None</td>\n",
       "      <td>None</td>\n",
       "    </tr>\n",
       "    <tr>\n",
       "      <th>5</th>\n",
       "      <td>ACCOUNT_OWNER_ROLE__C</td>\n",
       "      <td>VARCHAR(16777216)</td>\n",
       "      <td>COLUMN</td>\n",
       "      <td>Y</td>\n",
       "      <td>None</td>\n",
       "      <td>N</td>\n",
       "      <td>N</td>\n",
       "      <td>None</td>\n",
       "      <td>None</td>\n",
       "      <td>None</td>\n",
       "      <td>None</td>\n",
       "    </tr>\n",
       "    <tr>\n",
       "      <th>6</th>\n",
       "      <td>ACCOUNT_PLAN_COUNT__C</td>\n",
       "      <td>FLOAT</td>\n",
       "      <td>COLUMN</td>\n",
       "      <td>Y</td>\n",
       "      <td>None</td>\n",
       "      <td>N</td>\n",
       "      <td>N</td>\n",
       "      <td>None</td>\n",
       "      <td>None</td>\n",
       "      <td>None</td>\n",
       "      <td>None</td>\n",
       "    </tr>\n",
       "    <tr>\n",
       "      <th>7</th>\n",
       "      <td>ACCOUNT_RECORD_ID__C</td>\n",
       "      <td>VARCHAR(16777216)</td>\n",
       "      <td>COLUMN</td>\n",
       "      <td>Y</td>\n",
       "      <td>None</td>\n",
       "      <td>N</td>\n",
       "      <td>N</td>\n",
       "      <td>None</td>\n",
       "      <td>None</td>\n",
       "      <td>None</td>\n",
       "      <td>None</td>\n",
       "    </tr>\n",
       "    <tr>\n",
       "      <th>8</th>\n",
       "      <td>ACCOUNT_REGION__C</td>\n",
       "      <td>FLOAT</td>\n",
       "      <td>COLUMN</td>\n",
       "      <td>Y</td>\n",
       "      <td>None</td>\n",
       "      <td>N</td>\n",
       "      <td>N</td>\n",
       "      <td>None</td>\n",
       "      <td>None</td>\n",
       "      <td>None</td>\n",
       "      <td>None</td>\n",
       "    </tr>\n",
       "    <tr>\n",
       "      <th>9</th>\n",
       "      <td>AM_IS_ME__C</td>\n",
       "      <td>VARCHAR(16777216)</td>\n",
       "      <td>COLUMN</td>\n",
       "      <td>Y</td>\n",
       "      <td>None</td>\n",
       "      <td>N</td>\n",
       "      <td>N</td>\n",
       "      <td>None</td>\n",
       "      <td>None</td>\n",
       "      <td>None</td>\n",
       "      <td>None</td>\n",
       "    </tr>\n",
       "  </tbody>\n",
       "</table>\n",
       "</div>"
      ],
      "text/plain": [
       "                                      name               type    kind null?  \\\n",
       "0                    ABM_TARGET_ACCOUNT__C            BOOLEAN  COLUMN     Y   \n",
       "1                            ACCOUNTNUMBER  VARCHAR(16777216)  COLUMN     Y   \n",
       "2           ACCOUNT_ISACTIVE_CURRENT_FY__C            BOOLEAN  COLUMN     Y   \n",
       "3  ACCOUNT_ISACTIVE_CURRENT_PREVIOUS_FY__C            BOOLEAN  COLUMN     Y   \n",
       "4       ACCOUNT_ISACTIVE_LAST_12_MONTHS__C            BOOLEAN  COLUMN     Y   \n",
       "5                    ACCOUNT_OWNER_ROLE__C  VARCHAR(16777216)  COLUMN     Y   \n",
       "6                    ACCOUNT_PLAN_COUNT__C              FLOAT  COLUMN     Y   \n",
       "7                     ACCOUNT_RECORD_ID__C  VARCHAR(16777216)  COLUMN     Y   \n",
       "8                        ACCOUNT_REGION__C              FLOAT  COLUMN     Y   \n",
       "9                              AM_IS_ME__C  VARCHAR(16777216)  COLUMN     Y   \n",
       "\n",
       "  default primary key unique key check expression comment policy name  \n",
       "0    None           N          N  None       None    None        None  \n",
       "1    None           N          N  None       None    None        None  \n",
       "2    None           N          N  None       None    None        None  \n",
       "3    None           N          N  None       None    None        None  \n",
       "4    None           N          N  None       None    None        None  \n",
       "5    None           N          N  None       None    None        None  \n",
       "6    None           N          N  None       None    None        None  \n",
       "7    None           N          N  None       None    None        None  \n",
       "8    None           N          N  None       None    None        None  \n",
       "9    None           N          N  None       None    None        None  "
      ]
     },
     "execution_count": 81,
     "metadata": {},
     "output_type": "execute_result"
    }
   ],
   "source": [
    "final_df.head(10)"
   ]
  },
  {
   "cell_type": "code",
   "execution_count": 82,
   "metadata": {},
   "outputs": [],
   "source": [
    "# a lambda function that creates a new column called 'name_new' if the type is like VARCHAR then add a \"000\" to the origial name else just add the original name\n",
    "# df['name_new'] = df.apply(lambda x: x['name'] + '000' if isinstance(x['type'], str) and x['type'].find('VARCHAR') != -1 else x['name'], axis=1)"
   ]
  },
  {
   "cell_type": "markdown",
   "metadata": {},
   "source": [
    "## Doing transformation"
   ]
  },
  {
   "cell_type": "code",
   "execution_count": 83,
   "metadata": {},
   "outputs": [],
   "source": [
    "def transform_name(name, type):\n",
    "    if isinstance(type, str) and 'VARCHAR' in type:\n",
    "        #return name + '0007'\n",
    "        return f\"CAST(SUBSTR({name},1,10000) AS VARCHAR(10000)) AS {name}\".format(name)\n",
    "    else:\n",
    "        return f\"{name} AS {name}\".format(name)\n",
    "\n",
    "# apply the transform_name function to create a new column called 'name_new'\n",
    "final_df['name_new'] = final_df.apply(lambda x: transform_name(x['name'], x['type']), axis=1)"
   ]
  },
  {
   "cell_type": "code",
   "execution_count": 84,
   "metadata": {},
   "outputs": [],
   "source": [
    "\n",
    "#df[['name','type','name_new']].head(200)\n",
    "column_list:list = final_df['name_new'].to_list()"
   ]
  },
  {
   "cell_type": "code",
   "execution_count": 85,
   "metadata": {},
   "outputs": [],
   "source": [
    "columns_str:str = ', '.join(column_list)"
   ]
  },
  {
   "cell_type": "code",
   "execution_count": 86,
   "metadata": {},
   "outputs": [
    {
     "data": {
      "text/plain": [
       "'ABM_TARGET_ACCOUNT__C AS ABM_TARGET_ACCOUNT__C, CAST(SUBSTR(ACCOUNTNUMBER,1,10000) AS VARCHAR(10000)) AS ACCOUNTNUMBER, ACCOUNT_ISACTIVE_CURRENT_FY__C AS ACCOUNT_ISACTIVE_CURRENT_FY__C, ACCOUNT_ISACTIVE_CURRENT_PREVIOUS_FY__C AS ACCOUNT_ISACTIVE_CURRENT_PREVIOUS_FY__C, ACCOUNT_ISACTIVE_LAST_12_MONTHS__C AS ACCOUNT_ISACTIVE_LAST_12_MONTHS__C, CAST(SUBSTR(ACCOUNT_OWNER_ROLE__C,1,10000) AS VARCHAR(10000)) AS ACCOUNT_OWNER_ROLE__C, ACCOUNT_PLAN_COUNT__C AS ACCOUNT_PLAN_COUNT__C, CAST(SUBSTR(ACCOUNT_RECORD_ID__C,1,10000) AS VARCHAR(10000)) AS ACCOUNT_RECORD_ID__C, ACCOUNT_REGION__C AS ACCOUNT_REGION__C, CAST(SUBSTR(AM_IS_ME__C,1,10000) AS VARCHAR(10000)) AS AM_IS_ME__C, CAST(SUBSTR(BILLINGCITY,1,10000) AS VARCHAR(10000)) AS BILLINGCITY, CAST(SUBSTR(BILLINGCOUNTRY,1,10000) AS VARCHAR(10000)) AS BILLINGCOUNTRY, CAST(SUBSTR(BILLINGCOUNTRYCODE,1,10000) AS VARCHAR(10000)) AS BILLINGCOUNTRYCODE, CAST(SUBSTR(BILLINGGEOCODEACCURACY,1,10000) AS VARCHAR(10000)) AS BILLINGGEOCODEACCURACY, BILLINGLATITUDE AS BILLINGLATITUDE, BILLINGLONGITUDE AS BILLINGLONGITUDE, CAST(SUBSTR(BILLINGPOSTALCODE,1,10000) AS VARCHAR(10000)) AS BILLINGPOSTALCODE, CAST(SUBSTR(BILLINGSTATE,1,10000) AS VARCHAR(10000)) AS BILLINGSTATE, CAST(SUBSTR(BILLINGSTATECODE,1,10000) AS VARCHAR(10000)) AS BILLINGSTATECODE, CAST(SUBSTR(BILLINGSTREET,1,10000) AS VARCHAR(10000)) AS BILLINGSTREET, C1000__C AS C1000__C, CAST(SUBSTR(CE_IS_ME__C,1,10000) AS VARCHAR(10000)) AS CE_IS_ME__C, CLOSED_WON_SVC__C AS CLOSED_WON_SVC__C, COMPETITIVE_LANDSCAPE_WITH_ACCOUNT_TEAMS__C AS COMPETITIVE_LANDSCAPE_WITH_ACCOUNT_TEAMS__C, COUNT__C AS COUNT__C, CAST(SUBSTR(CPM_REGION__C,1,10000) AS VARCHAR(10000)) AS CPM_REGION__C, CAST(SUBSTR(CREATEDBYID,1,10000) AS VARCHAR(10000)) AS CREATEDBYID, CREATEDDATE AS CREATEDDATE, CAST(SUBSTR(CREDIT_STATUS__C,1,10000) AS VARCHAR(10000)) AS CREDIT_STATUS__C, CAST(SUBSTR(CREDIT_TIER__C,1,10000) AS VARCHAR(10000)) AS CREDIT_TIER__C, CAST(SUBSTR(CURRENCYISOCODE,1,10000) AS VARCHAR(10000)) AS CURRENCYISOCODE, CAST(SUBSTR(CUSTOMER_NAME__C,1,10000) AS VARCHAR(10000)) AS CUSTOMER_NAME__C, CAST(SUBSTR(CUSTOMER_NUMBER__C,1,10000) AS VARCHAR(10000)) AS CUSTOMER_NUMBER__C, CAST(SUBSTR(DIMS_CUSTOMER__C,1,10000) AS VARCHAR(10000)) AS DIMS_CUSTOMER__C, DPS_MIGRATION_ACCOUNT__C AS DPS_MIGRATION_ACCOUNT__C, END_CLIENT_REQUIRED__C AS END_CLIENT_REQUIRED__C, EXCLUDE_FROM_WIN_LOSS__C AS EXCLUDE_FROM_WIN_LOSS__C, EXISTING_CLIENT_PMO__C AS EXISTING_CLIENT_PMO__C, GEO_CODES__C AS GEO_CODES__C, HOPPERBLUE_ACCOUNT__C AS HOPPERBLUE_ACCOUNT__C, CAST(SUBSTR(HW_SPECIALIST_IS_ME__C,1,10000) AS VARCHAR(10000)) AS HW_SPECIALIST_IS_ME__C, CAST(SUBSTR(HYPERION_ACCOUNT_NUMBER__C,1,10000) AS VARCHAR(10000)) AS HYPERION_ACCOUNT_NUMBER__C, CAST(SUBSTR(ID,1,10000) AS VARCHAR(10000)) AS ID, CAST(SUBSTR(INDUSTRY,1,10000) AS VARCHAR(10000)) AS INDUSTRY, INTL_SUBCONTRACTOR__C AS INTL_SUBCONTRACTOR__C, ISCUSTOMERPORTAL AS ISCUSTOMERPORTAL, ISDELETED AS ISDELETED, ISPARTNER AS ISPARTNER, LASTACTIVITYDATE AS LASTACTIVITYDATE, CAST(SUBSTR(LASTMODIFIEDBYID,1,10000) AS VARCHAR(10000)) AS LASTMODIFIEDBYID, LASTMODIFIEDDATE AS LASTMODIFIEDDATE, LD_USE_DNB_OPTIMIZE__C AS LD_USE_DNB_OPTIMIZE__C, MOST_RECENT_OPPORTUNITY_CREATE_DATE__C AS MOST_RECENT_OPPORTUNITY_CREATE_DATE__C, MY_REGION_ACC_SALES_REGION_REPORT_ONLY__C AS MY_REGION_ACC_SALES_REGION_REPORT_ONLY__C, CAST(SUBSTR(NAME,1,10000) AS VARCHAR(10000)) AS NAME, CAST(SUBSTR(NPS_ACCOUNT_CATEGORY__C,1,10000) AS VARCHAR(10000)) AS NPS_ACCOUNT_CATEGORY__C, CAST(SUBSTR(NPS_ACCOUNT__C,1,10000) AS VARCHAR(10000)) AS NPS_ACCOUNT__C, NPS_MANAGER_FILTER__C AS NPS_MANAGER_FILTER__C, NUMBER_OF_CONTACTS__C AS NUMBER_OF_CONTACTS__C, NUMBER_OPPORTUNITIES__C AS NUMBER_OPPORTUNITIES__C, OD_PERKS_PROGRAM_TARGET__C AS OD_PERKS_PROGRAM_TARGET__C, OPEN_NEW_ORDERS__C AS OPEN_NEW_ORDERS__C, OPEN_OPPORTUNTIES__C AS OPEN_OPPORTUNTIES__C, CAST(SUBSTR(OPERATINGHOURSID,1,10000) AS VARCHAR(10000)) AS OPERATINGHOURSID, CAST(SUBSTR(ORACLE_ACCOUNT_NUMBER__C,1,10000) AS VARCHAR(10000)) AS ORACLE_ACCOUNT_NUMBER__C, CAST(SUBSTR(ORACLE_CC_SALESPERSON1__C,1,10000) AS VARCHAR(10000)) AS ORACLE_CC_SALESPERSON1__C, CAST(SUBSTR(ORACLE_CC_SALESPERSON2__C,1,10000) AS VARCHAR(10000)) AS ORACLE_CC_SALESPERSON2__C, CAST(SUBSTR(ORACLE_COUNTY__C,1,10000) AS VARCHAR(10000)) AS ORACLE_COUNTY__C, CAST(SUBSTR(ORACLE_CUSTOMER_GROUP__C,1,10000) AS VARCHAR(10000)) AS ORACLE_CUSTOMER_GROUP__C, CAST(SUBSTR(ORACLE_CUSTOMER_STATUS__C,1,10000) AS VARCHAR(10000)) AS ORACLE_CUSTOMER_STATUS__C, ORACLE_EFFECTIVE_END_DATE__C AS ORACLE_EFFECTIVE_END_DATE__C, ORACLE_EFFECTIVE_START_DATE__C AS ORACLE_EFFECTIVE_START_DATE__C, CAST(SUBSTR(ORACLE_SITE_NAME__C,1,10000) AS VARCHAR(10000)) AS ORACLE_SITE_NAME__C, CAST(SUBSTR(ORACLE_SITE_NUMBER__C,1,10000) AS VARCHAR(10000)) AS ORACLE_SITE_NUMBER__C, CAST(SUBSTR(ORACLE_SITE_USE_NUMBER__C,1,10000) AS VARCHAR(10000)) AS ORACLE_SITE_USE_NUMBER__C, CAST(SUBSTR(ORACLE_SITE_USE__C,1,10000) AS VARCHAR(10000)) AS ORACLE_SITE_USE__C, CAST(SUBSTR(ORACLE_STATUS__C,1,10000) AS VARCHAR(10000)) AS ORACLE_STATUS__C, CAST(SUBSTR(OWNERID,1,10000) AS VARCHAR(10000)) AS OWNERID, CAST(SUBSTR(PARENTID,1,10000) AS VARCHAR(10000)) AS PARENTID, CAST(SUBSTR(PARENT_ACCOUNT_CUSTOMER_NUMBER__C,1,10000) AS VARCHAR(10000)) AS PARENT_ACCOUNT_CUSTOMER_NUMBER__C, PBCC_TIER_II_INACTIVE_TARGET__C AS PBCC_TIER_II_INACTIVE_TARGET__C, CAST(SUBSTR(PHONE,1,10000) AS VARCHAR(10000)) AS PHONE, CAST(SUBSTR(PHOTOURL,1,10000) AS VARCHAR(10000)) AS PHOTOURL, CAST(SUBSTR(PROGRAM_EXECUTIVE_PE__C,1,10000) AS VARCHAR(10000)) AS PROGRAM_EXECUTIVE_PE__C, PSE_ID__C AS PSE_ID__C, CAST(SUBSTR(RECORDTYPEID,1,10000) AS VARCHAR(10000)) AS RECORDTYPEID, CAST(SUBSTR(REGION_VERTICAL__C,1,10000) AS VARCHAR(10000)) AS REGION_VERTICAL__C, SENT_TO_OD_SVC__C AS SENT_TO_OD_SVC__C, CAST(SUBSTR(SVC_ACCOUNT_CATEGORY__C,1,10000) AS VARCHAR(10000)) AS SVC_ACCOUNT_CATEGORY__C, CAST(SUBSTR(SVC_AE_IS_ME__C,1,10000) AS VARCHAR(10000)) AS SVC_AE_IS_ME__C, CAST(SUBSTR(SVC_ISR__C,1,10000) AS VARCHAR(10000)) AS SVC_ISR__C, CAST(SUBSTR(SVC_NEW_LOGO_YEAR__C,1,10000) AS VARCHAR(10000)) AS SVC_NEW_LOGO_YEAR__C, SYSTEMMODSTAMP AS SYSTEMMODSTAMP, TOP_100_ACCOUNTS__C AS TOP_100_ACCOUNTS__C, TOP_10_ACCOUNTS__C AS TOP_10_ACCOUNTS__C, TOP_25_ACCOUNTS__C AS TOP_25_ACCOUNTS__C, TOP_50_ACCOUNTS__C AS TOP_50_ACCOUNTS__C, CAST(SUBSTR(TYPE,1,10000) AS VARCHAR(10000)) AS TYPE, CAST(SUBSTR(ULTIMATE_PARENT_NAME__C,1,10000) AS VARCHAR(10000)) AS ULTIMATE_PARENT_NAME__C, CAST(SUBSTR(VERTEX_TAX_AREA_ID__C,1,10000) AS VARCHAR(10000)) AS VERTEX_TAX_AREA_ID__C, CAST(SUBSTR(VERTICAL__C,1,10000) AS VARCHAR(10000)) AS VERTICAL__C, CAST(SUBSTR(WEBSITE,1,10000) AS VARCHAR(10000)) AS WEBSITE, _SDC_BATCHED_AT AS _SDC_BATCHED_AT, _SDC_EXTRACTED_AT AS _SDC_EXTRACTED_AT, _SDC_RECEIVED_AT AS _SDC_RECEIVED_AT, _SDC_SEQUENCE AS _SDC_SEQUENCE, _SDC_TABLE_VERSION AS _SDC_TABLE_VERSION, LASTREFERENCEDDATE AS LASTREFERENCEDDATE, LASTVIEWEDDATE AS LASTVIEWEDDATE, CAST(SUBSTR(MASTERRECORDID,1,10000) AS VARCHAR(10000)) AS MASTERRECORDID, FSM_BARRIER_CODE__C AS FSM_BARRIER_CODE__C, CAST(SUBSTR(FSM_SITE_TAG_1_DEFINITION__C,1,10000) AS VARCHAR(10000)) AS FSM_SITE_TAG_1_DEFINITION__C, RECENTLY_WON_SVC_YR_1_AMOUNT__C AS RECENTLY_WON_SVC_YR_1_AMOUNT__C, CAST(SUBSTR(SHIPPINGSTATE,1,10000) AS VARCHAR(10000)) AS SHIPPINGSTATE, CAST(SUBSTR(FSM_SITE_TAG_4_DEFINITION__C,1,10000) AS VARCHAR(10000)) AS FSM_SITE_TAG_4_DEFINITION__C, CAST(SUBSTR(FSM_LEGACY_AMDOCS_ACCOUNT_ID__C,1,10000) AS VARCHAR(10000)) AS FSM_LEGACY_AMDOCS_ACCOUNT_ID__C, CAST(SUBSTR(COMPANY_NATURAL_NAME__C,1,10000) AS VARCHAR(10000)) AS COMPANY_NATURAL_NAME__C, DIMS_FREIGHT_CALC_ALLOWED__C AS DIMS_FREIGHT_CALC_ALLOWED__C, CAST(SUBSTR(FSM_BSN__C,1,10000) AS VARCHAR(10000)) AS FSM_BSN__C, CAST(SUBSTR(FSM_SITE_ID__C,1,10000) AS VARCHAR(10000)) AS FSM_SITE_ID__C, FSM_TEMP_SITE__C AS FSM_TEMP_SITE__C, CAST(SUBSTR(RECORD_TYPE_NAME__C,1,10000) AS VARCHAR(10000)) AS RECORD_TYPE_NAME__C, CAST(SUBSTR(SHIPPINGCOUNTRY,1,10000) AS VARCHAR(10000)) AS SHIPPINGCOUNTRY, CAST(SUBSTR(SHIPPINGSTREET,1,10000) AS VARCHAR(10000)) AS SHIPPINGSTREET, PRODUCT_TOP_50_CUSTOMER__C AS PRODUCT_TOP_50_CUSTOMER__C, CAST(SUBSTR(FSM_LEGACY_AMDOCS_OBJ_ID__C,1,10000) AS VARCHAR(10000)) AS FSM_LEGACY_AMDOCS_OBJ_ID__C, CAST(SUBSTR(SHIPPINGCOUNTRYCODE,1,10000) AS VARCHAR(10000)) AS SHIPPINGCOUNTRYCODE, FSM_AE_SITE_TAG_3__C AS FSM_AE_SITE_TAG_3__C, CAST(SUBSTR(SHIPPINGCITY,1,10000) AS VARCHAR(10000)) AS SHIPPINGCITY, ALWAYS_REQUIRE_APPROVAL__C AS ALWAYS_REQUIRE_APPROVAL__C, FSM_SERVICE_TYPE__C AS FSM_SERVICE_TYPE__C, PSE_FOCUS_ACCOUNT__C AS PSE_FOCUS_ACCOUNT__C, CAST(SUBSTR(SHIPPINGPOSTALCODE,1,10000) AS VARCHAR(10000)) AS SHIPPINGPOSTALCODE, CAST(SUBSTR(SHIPPINGGEOCODEACCURACY,1,10000) AS VARCHAR(10000)) AS SHIPPINGGEOCODEACCURACY, DUMMY_UPDATE__C AS DUMMY_UPDATE__C, OPEN_RENEWALS__C AS OPEN_RENEWALS__C, CAST(SUBSTR(FSM_SITE_TAG_5__C,1,10000) AS VARCHAR(10000)) AS FSM_SITE_TAG_5__C, FSM_PMO_REVIEW_REQUIRED__C AS FSM_PMO_REVIEW_REQUIRED__C, CAST(SUBSTR(SHIPPINGSTATECODE,1,10000) AS VARCHAR(10000)) AS SHIPPINGSTATECODE, FSM_PRODUCT_FAMILY__C AS FSM_PRODUCT_FAMILY__C, FSM_POTENTIAL_DUPLICATE__C AS FSM_POTENTIAL_DUPLICATE__C, EXCEPTION_ACCOUNT__C AS EXCEPTION_ACCOUNT__C, CAST(SUBSTR(FSM_SITE_TAG_5_DEFINITION__C,1,10000) AS VARCHAR(10000)) AS FSM_SITE_TAG_5_DEFINITION__C, FSM_AE_SITE_TAG_2__C AS FSM_AE_SITE_TAG_2__C, NOT_IN_INSIDEVIEW__C AS NOT_IN_INSIDEVIEW__C, CUSTOMER_RELEASE_LOCKED__C AS CUSTOMER_RELEASE_LOCKED__C, PRODUCT_TOP_100_CUSTOMER__C AS PRODUCT_TOP_100_CUSTOMER__C, PURCHASE_ORDER_LOCKED__C AS PURCHASE_ORDER_LOCKED__C, CAST(SUBSTR(FORECASTERA_RN_ORACLE_CUSTOMER__C,1,10000) AS VARCHAR(10000)) AS FORECASTERA_RN_ORACLE_CUSTOMER__C, DISPLAY_CUSTOMER_RELEASE__C AS DISPLAY_CUSTOMER_RELEASE__C, FSM_CLEAR_BARRIER_CODE__C AS FSM_CLEAR_BARRIER_CODE__C, QUOTA_PLAN__C AS QUOTA_PLAN__C, WORKFLOW_PRODUCT_CONFIG_RECORDS__C AS WORKFLOW_PRODUCT_CONFIG_RECORDS__C, FSM_SLA_TO_BE_PAUSED__C AS FSM_SLA_TO_BE_PAUSED__C, CAST(SUBSTR(APPROVED_PAYMENT_TERMS__C,1,10000) AS VARCHAR(10000)) AS APPROVED_PAYMENT_TERMS__C, FSM_MODEL_NUMBER__C AS FSM_MODEL_NUMBER__C, PRODUCT_TOP_25CUSTOMER__C AS PRODUCT_TOP_25CUSTOMER__C, FSM_CUSTOMER_STORE_ID_CHECKBOX__C AS FSM_CUSTOMER_STORE_ID_CHECKBOX__C, DO_NOT_DISPLAY_LOGO__C AS DO_NOT_DISPLAY_LOGO__C, FSM_AE_SITE_TAG_1__C AS FSM_AE_SITE_TAG_1__C, CAST(SUBSTR(SALES_ACCOUNT__C,1,10000) AS VARCHAR(10000)) AS SALES_ACCOUNT__C, CAST(SUBSTR(PRODUCT_ACCOUNT_CATEGORY__C,1,10000) AS VARCHAR(10000)) AS PRODUCT_ACCOUNT_CATEGORY__C, CAST(SUBSTR(PRODUCT_ACCOUNT_SEGMENT__C,1,10000) AS VARCHAR(10000)) AS PRODUCT_ACCOUNT_SEGMENT__C, FSM_AE_SITE_TAG_4__C AS FSM_AE_SITE_TAG_4__C, FSM_CUST_ENT_CODE__C AS FSM_CUST_ENT_CODE__C, WON_OPPORTUNITIES__C AS WON_OPPORTUNITIES__C, CAST(SUBSTR(ACCOUNT_LOGO__C,1,10000) AS VARCHAR(10000)) AS ACCOUNT_LOGO__C, SHIPPINGLATITUDE AS SHIPPINGLATITUDE, CAST(SUBSTR(PRODUCT_RAD_CATEGORY__C,1,10000) AS VARCHAR(10000)) AS PRODUCT_RAD_CATEGORY__C, FSM_AE_SITE_TAG_5__C AS FSM_AE_SITE_TAG_5__C, CAST(SUBSTR(LOOKUP_DISPLAY__C,1,10000) AS VARCHAR(10000)) AS LOOKUP_DISPLAY__C, CAST(SUBSTR(ACCOUNT_NAME_WSC__C,1,10000) AS VARCHAR(10000)) AS ACCOUNT_NAME_WSC__C, CAST(SUBSTR(FSM_SITE_TAG_4__C,1,10000) AS VARCHAR(10000)) AS FSM_SITE_TAG_4__C, FSM_SLA_ON_HOLD__C AS FSM_SLA_ON_HOLD__C, ENABLE_APPROVALS__C AS ENABLE_APPROVALS__C, CAST(SUBSTR(FSM_SITE_TAG_2_DEFINITION__C,1,10000) AS VARCHAR(10000)) AS FSM_SITE_TAG_2_DEFINITION__C, FSM_NO_OF_CASE_TAG_VALIDATION_RECORD__C AS FSM_NO_OF_CASE_TAG_VALIDATION_RECORD__C, F50__C AS F50__C, FSM_CASE_SEVERITY__C AS FSM_CASE_SEVERITY__C, CAST(SUBSTR(FSM_SITE_TAG_3_DEFINITION__C,1,10000) AS VARCHAR(10000)) AS FSM_SITE_TAG_3_DEFINITION__C, FSM_DEDICATED_TECH_SUPPORT__C AS FSM_DEDICATED_TECH_SUPPORT__C, VIEW_BUNDLES_ONLY__C AS VIEW_BUNDLES_ONLY__C, CAST(SUBSTR(FSM_CUSTOMER_STORE_ID__C,1,10000) AS VARCHAR(10000)) AS FSM_CUSTOMER_STORE_ID__C, CAST(SUBSTR(ACCOUNT_SIZE_SEGMENT__C,1,10000) AS VARCHAR(10000)) AS ACCOUNT_SIZE_SEGMENT__C, SHIPPINGLONGITUDE AS SHIPPINGLONGITUDE, RECENTLY_WON_TCV__C AS RECENTLY_WON_TCV__C, CAST(SUBSTR(FSM_ACCOUNT_FLEX_FIELD_3__C,1,10000) AS VARCHAR(10000)) AS FSM_ACCOUNT_FLEX_FIELD_3__C, CAST(SUBSTR(FSM_AE_SEQUENCE_3__C,1,10000) AS VARCHAR(10000)) AS FSM_AE_SEQUENCE_3__C, CAST(SUBSTR(HQ_GEOGRAPHY__C,1,10000) AS VARCHAR(10000)) AS HQ_GEOGRAPHY__C, CAST(SUBSTR(FSM_CASE_TAG_3_DEFINITION__C,1,10000) AS VARCHAR(10000)) AS FSM_CASE_TAG_3_DEFINITION__C, CAST(SUBSTR(FSM_CASE_TAG_4_DEFINITION__C,1,10000) AS VARCHAR(10000)) AS FSM_CASE_TAG_4_DEFINITION__C, CAST(SUBSTR(FSM_CASE_TAG_1_DEFINITION__C,1,10000) AS VARCHAR(10000)) AS FSM_CASE_TAG_1_DEFINITION__C, CAST(SUBSTR(FSM_AE_SEQUENCE_2__C,1,10000) AS VARCHAR(10000)) AS FSM_AE_SEQUENCE_2__C, CAST(SUBSTR(FSM_ACCOUNT_FLEX_FIELD_1__C,1,10000) AS VARCHAR(10000)) AS FSM_ACCOUNT_FLEX_FIELD_1__C, CAST(SUBSTR(FSM_AE_SEQUENCE_1__C,1,10000) AS VARCHAR(10000)) AS FSM_AE_SEQUENCE_1__C, CAST(SUBSTR(FSM_ACCOUNT_FLEX_FIELD_2__C,1,10000) AS VARCHAR(10000)) AS FSM_ACCOUNT_FLEX_FIELD_2__C, CAST(SUBSTR(PE_ACCOUNTTEAMMEMBER_RECORDID__C,1,10000) AS VARCHAR(10000)) AS PE_ACCOUNTTEAMMEMBER_RECORDID__C, CAST(SUBSTR(FSM_CASE_TAG_2_DEFINITION__C,1,10000) AS VARCHAR(10000)) AS FSM_CASE_TAG_2_DEFINITION__C, CAST(SUBSTR(DIMS_STATUS_CODE__C,1,10000) AS VARCHAR(10000)) AS DIMS_STATUS_CODE__C, CAST(SUBSTR(ORACLE_BUSINESS_UNIT__C,1,10000) AS VARCHAR(10000)) AS ORACLE_BUSINESS_UNIT__C, CAST(SUBSTR(ORACLE_ACCOUNT_NAME__C,1,10000) AS VARCHAR(10000)) AS ORACLE_ACCOUNT_NAME__C, CAST(SUBSTR(FSM_SITE_TAG_3__C,1,10000) AS VARCHAR(10000)) AS FSM_SITE_TAG_3__C, CAST(SUBSTR(FSM_SITE_TAG_2__C,1,10000) AS VARCHAR(10000)) AS FSM_SITE_TAG_2__C, CAST(SUBSTR(FSM_ACCOUNT_FLEX_FIELD_DATE_TIME_1__C,1,10000) AS VARCHAR(10000)) AS FSM_ACCOUNT_FLEX_FIELD_DATE_TIME_1__C, CAST(SUBSTR(FSM_ORACLE_ACCOUNT_NAME__C,1,10000) AS VARCHAR(10000)) AS FSM_ORACLE_ACCOUNT_NAME__C, CAST(SUBSTR(FSM_ACCOUNT_FLEX_NUM_1__C,1,10000) AS VARCHAR(10000)) AS FSM_ACCOUNT_FLEX_NUM_1__C, CAST(SUBSTR(FSM_AE_SEQUENCE_4__C,1,10000) AS VARCHAR(10000)) AS FSM_AE_SEQUENCE_4__C, CAST(SUBSTR(FSM_ACCOUNT_FLEX_FIELD_DATE_TIME_3__C,1,10000) AS VARCHAR(10000)) AS FSM_ACCOUNT_FLEX_FIELD_DATE_TIME_3__C, CAST(SUBSTR(FSM_ACCOUNT_FLEX_FIELD_5__C,1,10000) AS VARCHAR(10000)) AS FSM_ACCOUNT_FLEX_FIELD_5__C, CAST(SUBSTR(FSM_ACCOUNT_FLEX_FIELD_7__C,1,10000) AS VARCHAR(10000)) AS FSM_ACCOUNT_FLEX_FIELD_7__C, CAST(SUBSTR(PREVIOUS_PROGRAM_EXECUTIVE_PE__C,1,10000) AS VARCHAR(10000)) AS PREVIOUS_PROGRAM_EXECUTIVE_PE__C, CAST(SUBSTR(FSM_ACCOUNT_FLEX_FIELD_6__C,1,10000) AS VARCHAR(10000)) AS FSM_ACCOUNT_FLEX_FIELD_6__C, CAST(SUBSTR(FSM_ACCOUNT_FLEX_FIELD_DATE_TIME_4__C,1,10000) AS VARCHAR(10000)) AS FSM_ACCOUNT_FLEX_FIELD_DATE_TIME_4__C, CAST(SUBSTR(FSM_ACCOUNT_FLEX_FIELD_DATE_TIME_2__C,1,10000) AS VARCHAR(10000)) AS FSM_ACCOUNT_FLEX_FIELD_DATE_TIME_2__C, CAST(SUBSTR(FSM_ACCOUNT_FLEX_FIELD_8__C,1,10000) AS VARCHAR(10000)) AS FSM_ACCOUNT_FLEX_FIELD_8__C, CAST(SUBSTR(FSM_ACCOUNT_FLEX_FIELD_4__C,1,10000) AS VARCHAR(10000)) AS FSM_ACCOUNT_FLEX_FIELD_4__C, CAST(SUBSTR(SVC_REGION_DISTRICT__C,1,10000) AS VARCHAR(10000)) AS SVC_REGION_DISTRICT__C, CAST(SUBSTR(SVC_AE__C,1,10000) AS VARCHAR(10000)) AS SVC_AE__C, CAST(SUBSTR(PREVIOUS_SVC_AE__C,1,10000) AS VARCHAR(10000)) AS PREVIOUS_SVC_AE__C, CAST(SUBSTR(SVC_AE_ACCOUNTTEAMMEMBER_RECORDID__C,1,10000) AS VARCHAR(10000)) AS SVC_AE_ACCOUNTTEAMMEMBER_RECORDID__C, CAST(SUBSTR(FSM_AE_SEQUENCE_5__C,1,10000) AS VARCHAR(10000)) AS FSM_AE_SEQUENCE_5__C, CAST(SUBSTR(FSM_SITE_TAG_1__C,1,10000) AS VARCHAR(10000)) AS FSM_SITE_TAG_1__C, CAST(SUBSTR(FSM_CASE_TAG_7_DEFINITION__C,1,10000) AS VARCHAR(10000)) AS FSM_CASE_TAG_7_DEFINITION__C, CAST(SUBSTR(FSM_CASE_TAG_5_DEFINITION__C,1,10000) AS VARCHAR(10000)) AS FSM_CASE_TAG_5_DEFINITION__C, CAST(SUBSTR(FSM_CASE_TAG_6_DEFINITION__C,1,10000) AS VARCHAR(10000)) AS FSM_CASE_TAG_6_DEFINITION__C, CAST(SUBSTR(AE_REGION_VERTICAL__C,1,10000) AS VARCHAR(10000)) AS AE_REGION_VERTICAL__C'"
      ]
     },
     "execution_count": 86,
     "metadata": {},
     "output_type": "execute_result"
    }
   ],
   "source": [
    "columns_str"
   ]
  },
  {
   "cell_type": "code",
   "execution_count": 63,
   "metadata": {},
   "outputs": [],
   "source": [
    "# append the final result to something like \"CREATE OR REPLACE VIEW {db_name}.{schema_name}}.{table_name}_V AS SELECT {columns_str} FROM {db_name}.{schema_name}.{table_name};\"\n",
    "final_query:str = f\"CREATE OR REPLACE VIEW {db_name}.{schema_name}.{table_name}_V AS SELECT {columns_str} FROM {db_name}.{schema_name}.{table_name};\""
   ]
  },
  {
   "cell_type": "code",
   "execution_count": 64,
   "metadata": {},
   "outputs": [
    {
     "data": {
      "text/plain": [
       "'CREATE OR REPLACE VIEW STITCH.SALESFORCEFSL3.ACCOUNT_V AS SELECT ABM_TARGET_ACCOUNT__C AS ABM_TARGET_ACCOUNT__C, CAST(SUBSTR(ACCOUNTNUMBER,1,10000) AS VARCHAR(10000)) AS ACCOUNTNUMBER, ACCOUNT_ISACTIVE_CURRENT_FY__C AS ACCOUNT_ISACTIVE_CURRENT_FY__C, ACCOUNT_ISACTIVE_CURRENT_PREVIOUS_FY__C AS ACCOUNT_ISACTIVE_CURRENT_PREVIOUS_FY__C, ACCOUNT_ISACTIVE_LAST_12_MONTHS__C AS ACCOUNT_ISACTIVE_LAST_12_MONTHS__C, CAST(SUBSTR(ACCOUNT_OWNER_ROLE__C,1,10000) AS VARCHAR(10000)) AS ACCOUNT_OWNER_ROLE__C, ACCOUNT_PLAN_COUNT__C AS ACCOUNT_PLAN_COUNT__C, CAST(SUBSTR(ACCOUNT_RECORD_ID__C,1,10000) AS VARCHAR(10000)) AS ACCOUNT_RECORD_ID__C, ACCOUNT_REGION__C AS ACCOUNT_REGION__C, CAST(SUBSTR(AM_IS_ME__C,1,10000) AS VARCHAR(10000)) AS AM_IS_ME__C, CAST(SUBSTR(BILLINGCITY,1,10000) AS VARCHAR(10000)) AS BILLINGCITY, CAST(SUBSTR(BILLINGCOUNTRY,1,10000) AS VARCHAR(10000)) AS BILLINGCOUNTRY, CAST(SUBSTR(BILLINGCOUNTRYCODE,1,10000) AS VARCHAR(10000)) AS BILLINGCOUNTRYCODE, CAST(SUBSTR(BILLINGGEOCODEACCURACY,1,10000) AS VARCHAR(10000)) AS BILLINGGEOCODEACCURACY, BILLINGLATITUDE AS BILLINGLATITUDE, BILLINGLONGITUDE AS BILLINGLONGITUDE, CAST(SUBSTR(BILLINGPOSTALCODE,1,10000) AS VARCHAR(10000)) AS BILLINGPOSTALCODE, CAST(SUBSTR(BILLINGSTATE,1,10000) AS VARCHAR(10000)) AS BILLINGSTATE, CAST(SUBSTR(BILLINGSTATECODE,1,10000) AS VARCHAR(10000)) AS BILLINGSTATECODE, CAST(SUBSTR(BILLINGSTREET,1,10000) AS VARCHAR(10000)) AS BILLINGSTREET, C1000__C AS C1000__C, CAST(SUBSTR(CE_IS_ME__C,1,10000) AS VARCHAR(10000)) AS CE_IS_ME__C, CLOSED_WON_SVC__C AS CLOSED_WON_SVC__C, COMPETITIVE_LANDSCAPE_WITH_ACCOUNT_TEAMS__C AS COMPETITIVE_LANDSCAPE_WITH_ACCOUNT_TEAMS__C, COUNT__C AS COUNT__C, CAST(SUBSTR(CPM_REGION__C,1,10000) AS VARCHAR(10000)) AS CPM_REGION__C, CAST(SUBSTR(CREATEDBYID,1,10000) AS VARCHAR(10000)) AS CREATEDBYID, CREATEDDATE AS CREATEDDATE, CAST(SUBSTR(CREDIT_STATUS__C,1,10000) AS VARCHAR(10000)) AS CREDIT_STATUS__C, CAST(SUBSTR(CREDIT_TIER__C,1,10000) AS VARCHAR(10000)) AS CREDIT_TIER__C, CAST(SUBSTR(CURRENCYISOCODE,1,10000) AS VARCHAR(10000)) AS CURRENCYISOCODE, CAST(SUBSTR(CUSTOMER_NAME__C,1,10000) AS VARCHAR(10000)) AS CUSTOMER_NAME__C, CAST(SUBSTR(CUSTOMER_NUMBER__C,1,10000) AS VARCHAR(10000)) AS CUSTOMER_NUMBER__C, CAST(SUBSTR(DIMS_CUSTOMER__C,1,10000) AS VARCHAR(10000)) AS DIMS_CUSTOMER__C, DPS_MIGRATION_ACCOUNT__C AS DPS_MIGRATION_ACCOUNT__C, END_CLIENT_REQUIRED__C AS END_CLIENT_REQUIRED__C, EXCLUDE_FROM_WIN_LOSS__C AS EXCLUDE_FROM_WIN_LOSS__C, EXISTING_CLIENT_PMO__C AS EXISTING_CLIENT_PMO__C, GEO_CODES__C AS GEO_CODES__C, HOPPERBLUE_ACCOUNT__C AS HOPPERBLUE_ACCOUNT__C, CAST(SUBSTR(HW_SPECIALIST_IS_ME__C,1,10000) AS VARCHAR(10000)) AS HW_SPECIALIST_IS_ME__C, CAST(SUBSTR(HYPERION_ACCOUNT_NUMBER__C,1,10000) AS VARCHAR(10000)) AS HYPERION_ACCOUNT_NUMBER__C, CAST(SUBSTR(ID,1,10000) AS VARCHAR(10000)) AS ID, CAST(SUBSTR(INDUSTRY,1,10000) AS VARCHAR(10000)) AS INDUSTRY, INTL_SUBCONTRACTOR__C AS INTL_SUBCONTRACTOR__C, ISCUSTOMERPORTAL AS ISCUSTOMERPORTAL, ISDELETED AS ISDELETED, ISPARTNER AS ISPARTNER, LASTACTIVITYDATE AS LASTACTIVITYDATE, CAST(SUBSTR(LASTMODIFIEDBYID,1,10000) AS VARCHAR(10000)) AS LASTMODIFIEDBYID, LASTMODIFIEDDATE AS LASTMODIFIEDDATE, LD_USE_DNB_OPTIMIZE__C AS LD_USE_DNB_OPTIMIZE__C, MOST_RECENT_OPPORTUNITY_CREATE_DATE__C AS MOST_RECENT_OPPORTUNITY_CREATE_DATE__C, MY_REGION_ACC_SALES_REGION_REPORT_ONLY__C AS MY_REGION_ACC_SALES_REGION_REPORT_ONLY__C, CAST(SUBSTR(NAME,1,10000) AS VARCHAR(10000)) AS NAME, CAST(SUBSTR(NPS_ACCOUNT_CATEGORY__C,1,10000) AS VARCHAR(10000)) AS NPS_ACCOUNT_CATEGORY__C, CAST(SUBSTR(NPS_ACCOUNT__C,1,10000) AS VARCHAR(10000)) AS NPS_ACCOUNT__C, NPS_MANAGER_FILTER__C AS NPS_MANAGER_FILTER__C, NUMBER_OF_CONTACTS__C AS NUMBER_OF_CONTACTS__C, NUMBER_OPPORTUNITIES__C AS NUMBER_OPPORTUNITIES__C, OD_PERKS_PROGRAM_TARGET__C AS OD_PERKS_PROGRAM_TARGET__C, OPEN_NEW_ORDERS__C AS OPEN_NEW_ORDERS__C, OPEN_OPPORTUNTIES__C AS OPEN_OPPORTUNTIES__C, CAST(SUBSTR(OPERATINGHOURSID,1,10000) AS VARCHAR(10000)) AS OPERATINGHOURSID, CAST(SUBSTR(ORACLE_ACCOUNT_NUMBER__C,1,10000) AS VARCHAR(10000)) AS ORACLE_ACCOUNT_NUMBER__C, CAST(SUBSTR(ORACLE_CC_SALESPERSON1__C,1,10000) AS VARCHAR(10000)) AS ORACLE_CC_SALESPERSON1__C, CAST(SUBSTR(ORACLE_CC_SALESPERSON2__C,1,10000) AS VARCHAR(10000)) AS ORACLE_CC_SALESPERSON2__C, CAST(SUBSTR(ORACLE_COUNTY__C,1,10000) AS VARCHAR(10000)) AS ORACLE_COUNTY__C, CAST(SUBSTR(ORACLE_CUSTOMER_GROUP__C,1,10000) AS VARCHAR(10000)) AS ORACLE_CUSTOMER_GROUP__C, CAST(SUBSTR(ORACLE_CUSTOMER_STATUS__C,1,10000) AS VARCHAR(10000)) AS ORACLE_CUSTOMER_STATUS__C, ORACLE_EFFECTIVE_END_DATE__C AS ORACLE_EFFECTIVE_END_DATE__C, ORACLE_EFFECTIVE_START_DATE__C AS ORACLE_EFFECTIVE_START_DATE__C, CAST(SUBSTR(ORACLE_SITE_NAME__C,1,10000) AS VARCHAR(10000)) AS ORACLE_SITE_NAME__C, CAST(SUBSTR(ORACLE_SITE_NUMBER__C,1,10000) AS VARCHAR(10000)) AS ORACLE_SITE_NUMBER__C, CAST(SUBSTR(ORACLE_SITE_USE_NUMBER__C,1,10000) AS VARCHAR(10000)) AS ORACLE_SITE_USE_NUMBER__C, CAST(SUBSTR(ORACLE_SITE_USE__C,1,10000) AS VARCHAR(10000)) AS ORACLE_SITE_USE__C, CAST(SUBSTR(ORACLE_STATUS__C,1,10000) AS VARCHAR(10000)) AS ORACLE_STATUS__C, CAST(SUBSTR(OWNERID,1,10000) AS VARCHAR(10000)) AS OWNERID, CAST(SUBSTR(PARENTID,1,10000) AS VARCHAR(10000)) AS PARENTID, CAST(SUBSTR(PARENT_ACCOUNT_CUSTOMER_NUMBER__C,1,10000) AS VARCHAR(10000)) AS PARENT_ACCOUNT_CUSTOMER_NUMBER__C, PBCC_TIER_II_INACTIVE_TARGET__C AS PBCC_TIER_II_INACTIVE_TARGET__C, CAST(SUBSTR(PHONE,1,10000) AS VARCHAR(10000)) AS PHONE, CAST(SUBSTR(PHOTOURL,1,10000) AS VARCHAR(10000)) AS PHOTOURL, CAST(SUBSTR(PROGRAM_EXECUTIVE_PE__C,1,10000) AS VARCHAR(10000)) AS PROGRAM_EXECUTIVE_PE__C, PSE_ID__C AS PSE_ID__C, CAST(SUBSTR(RECORDTYPEID,1,10000) AS VARCHAR(10000)) AS RECORDTYPEID, CAST(SUBSTR(REGION_VERTICAL__C,1,10000) AS VARCHAR(10000)) AS REGION_VERTICAL__C, SENT_TO_OD_SVC__C AS SENT_TO_OD_SVC__C, CAST(SUBSTR(SVC_ACCOUNT_CATEGORY__C,1,10000) AS VARCHAR(10000)) AS SVC_ACCOUNT_CATEGORY__C, CAST(SUBSTR(SVC_AE_IS_ME__C,1,10000) AS VARCHAR(10000)) AS SVC_AE_IS_ME__C, CAST(SUBSTR(SVC_ISR__C,1,10000) AS VARCHAR(10000)) AS SVC_ISR__C, CAST(SUBSTR(SVC_NEW_LOGO_YEAR__C,1,10000) AS VARCHAR(10000)) AS SVC_NEW_LOGO_YEAR__C, SYSTEMMODSTAMP AS SYSTEMMODSTAMP, TOP_100_ACCOUNTS__C AS TOP_100_ACCOUNTS__C, TOP_10_ACCOUNTS__C AS TOP_10_ACCOUNTS__C, TOP_25_ACCOUNTS__C AS TOP_25_ACCOUNTS__C, TOP_50_ACCOUNTS__C AS TOP_50_ACCOUNTS__C, CAST(SUBSTR(TYPE,1,10000) AS VARCHAR(10000)) AS TYPE, CAST(SUBSTR(ULTIMATE_PARENT_NAME__C,1,10000) AS VARCHAR(10000)) AS ULTIMATE_PARENT_NAME__C, CAST(SUBSTR(VERTEX_TAX_AREA_ID__C,1,10000) AS VARCHAR(10000)) AS VERTEX_TAX_AREA_ID__C, CAST(SUBSTR(VERTICAL__C,1,10000) AS VARCHAR(10000)) AS VERTICAL__C, CAST(SUBSTR(WEBSITE,1,10000) AS VARCHAR(10000)) AS WEBSITE, _SDC_BATCHED_AT AS _SDC_BATCHED_AT, _SDC_EXTRACTED_AT AS _SDC_EXTRACTED_AT, _SDC_RECEIVED_AT AS _SDC_RECEIVED_AT, _SDC_SEQUENCE AS _SDC_SEQUENCE, _SDC_TABLE_VERSION AS _SDC_TABLE_VERSION, LASTREFERENCEDDATE AS LASTREFERENCEDDATE, LASTVIEWEDDATE AS LASTVIEWEDDATE FROM STITCH.SALESFORCEFSL3.ACCOUNT;'"
      ]
     },
     "execution_count": 64,
     "metadata": {},
     "output_type": "execute_result"
    }
   ],
   "source": [
    "final_query"
   ]
  },
  {
   "cell_type": "code",
   "execution_count": 66,
   "metadata": {},
   "outputs": [
    {
     "data": {
      "text/plain": [
       "[Row(status='View ACCOUNT_V successfully created.')]"
      ]
     },
     "execution_count": 66,
     "metadata": {},
     "output_type": "execute_result"
    }
   ],
   "source": [
    "session.sql(final_query).collect()"
   ]
  },
  {
   "cell_type": "markdown",
   "metadata": {},
   "source": [
    "# All tables"
   ]
  },
  {
   "cell_type": "code",
   "execution_count": 21,
   "metadata": {},
   "outputs": [
    {
     "name": "stdout",
     "output_type": "stream",
     "text": [
      "ACCOUNT\n",
      "ACCOUNTCONTACTRELATION\n",
      "ASSET\n",
      "ASSIGNEDRESOURCE\n",
      "ATTACHMENT\n",
      "CASE\n",
      "CASEARTICLE\n",
      "CASECOMMENT\n",
      "CONTACT\n",
      "CONTRACTLINEITEM\n",
      "ENTITLEMENT\n",
      "FSM_AUTO_ENTITLEMENT_MATRIX__C\n",
      "FSM_BILLING_SCHEDULE__C\n",
      "FSM_CODE_REPOSITORY__C\n",
      "FSM_CUSTOMER_MODEL__C\n",
      "FSM_ENTITLEMENT_SERVICE_ACTIVITY__C\n",
      "FSM_ESR_CONFIG_MASTER__C\n",
      "FSM_ESR_INTERFACE_FLAG__C\n",
      "FSM_ESR_MAPPING__C\n",
      "FSM_SERVICE_ACTIVITY__C\n",
      "HOLIDAY\n",
      "LOCATION\n",
      "OPERATINGHOURS\n",
      "OPERATINGHOURSHOLIDAY\n",
      "PRICEBOOK2\n",
      "PRICEBOOKENTRY\n",
      "PRODUCT2\n",
      "PRODUCTITEM\n",
      "PRODUCTREQUEST\n",
      "SERVICEAPPOINTMENT\n",
      "SERVICECONTRACT\n",
      "SERVICERESOURCE\n",
      "SERVICETERRITORY\n",
      "SERVICETERRITORYMEMBER\n",
      "WORKORDER\n",
      "WORKORDERLINEITEM\n"
     ]
    }
   ],
   "source": [
    "database:str = 'STITCH'\n",
    "\n",
    "for schema in ['SALESFORCEFSL3']:\n",
    "    result = session.sql(f\"SHOW TABLES IN STITCH.{schema}\".format(schema)).collect()\n",
    "    #[row.as_dict() for row in result]\n",
    "    df = pd.DataFrame(result)\n",
    "    tables:list = df['name'].to_list()\n",
    "    for table in tables:\n",
    "        if table != '_SDC_REJECTED':\n",
    "            print(table)\n",
    "            #create_view_query:str = f\"CALL ACCOUNTADMIN_MGMT.UTILITIES.CREATE_DYNAMIC_SALESFORCE_VIEW('{database}', '{schema}', '{table}');\".format(database, schema, table)\n",
    "            #session.sql(create_view_query).collect()\n"
   ]
  },
  {
   "cell_type": "code",
   "execution_count": 69,
   "metadata": {},
   "outputs": [],
   "source": [
    "session.close()"
   ]
  },
  {
   "cell_type": "code",
   "execution_count": null,
   "metadata": {},
   "outputs": [],
   "source": []
  }
 ],
 "metadata": {
  "kernelspec": {
   "display_name": "snowpark",
   "language": "python",
   "name": "python3"
  },
  "language_info": {
   "codemirror_mode": {
    "name": "ipython",
    "version": 3
   },
   "file_extension": ".py",
   "mimetype": "text/x-python",
   "name": "python",
   "nbconvert_exporter": "python",
   "pygments_lexer": "ipython3",
   "version": "3.10.12"
  },
  "orig_nbformat": 4
 },
 "nbformat": 4,
 "nbformat_minor": 2
}
