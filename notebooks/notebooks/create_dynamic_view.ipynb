{
 "cells": [
  {
   "cell_type": "code",
   "execution_count": null,
   "metadata": {},
   "outputs": [],
   "source": [
    "import pandas as pd\n",
    "import numpy as np\n",
    "from snowflake.snowpark.session import Session\n",
    "from snowflake.snowpark.functions import udf, avg, col\n",
    "from snowflake.snowpark.types import IntegerType, FloatType, StringType, BooleanType\n",
    "from snowflake.snowpark.files import SnowflakeFile\n",
    "import sys\n",
    "sys.path.append('..')\n",
    "from credentials import Credentials"
   ]
  },
  {
   "cell_type": "code",
   "execution_count": null,
   "metadata": {},
   "outputs": [],
   "source": [
    "# Setting pandas options\n",
    "pd.set_option('display.max_rows', None)\n",
    "pd.set_option('display.max_columns', None)"
   ]
  },
  {
   "cell_type": "code",
   "execution_count": null,
   "metadata": {},
   "outputs": [],
   "source": [
    "cred = Credentials()\n",
    "session = Session.builder.configs(cred.__dict__).create()"
   ]
  },
  {
   "cell_type": "code",
   "execution_count": null,
   "metadata": {},
   "outputs": [],
   "source": [
    "session.use_role(\"SYSADMIN\")\n",
    "session.use_database(\"STITCH\")\n",
    "session.use_warehouse(\"ACCOUNTADMIN_MGMT\")\n",
    "session.use_schema(\"SALESFORCEFSL3\")"
   ]
  },
  {
   "cell_type": "markdown",
   "metadata": {},
   "source": [
    "# Indiviual Table "
   ]
  },
  {
   "cell_type": "code",
   "execution_count": null,
   "metadata": {},
   "outputs": [],
   "source": [
    "# Getting name of the table\n",
    "db_name = 'STITCH'\n",
    "schema_name = 'SALESFORCEFSL3'\n",
    "table_name:str = 'GROUP'"
   ]
  },
  {
   "cell_type": "code",
   "execution_count": null,
   "metadata": {},
   "outputs": [],
   "source": [
    "table_view_mapping = session.sql(f\"SELECT * FROM ACCOUNTADMIN_MGMT.UTILITIES.SALESFORCE_TABLE_VIEW_MAPPING WHERE NAME_SALESFORCE_ENVIRONMENT = '{schema_name}' AND NAME_SALESFORCE_TABLE_ORIGINAL = '{table_name}'\".format(schema_name, table_name)).collect()\n",
    "table_view_mapping_dic = [row.asDict() for row in table_view_mapping][0]\n",
    "table_name = table_view_mapping_dic['NAME_SALESFORCE_TABLE_ORIGINAL']\n",
    "table_for_desc_name = table_view_mapping_dic['NAME_SNOWFLAKE_RESERVED_WORD']\n",
    "view_name = table_view_mapping_dic['NAME_SALESFORCE_VIEW_ALIAS']"
   ]
  },
  {
   "cell_type": "code",
   "execution_count": null,
   "metadata": {},
   "outputs": [],
   "source": [
    "print(db_name, schema_name, table_name, table_for_desc_name, view_name)"
   ]
  },
  {
   "cell_type": "code",
   "execution_count": null,
   "metadata": {},
   "outputs": [],
   "source": [
    "result_describe_table = [row.as_dict() for row in session.sql(f\"DESCRIBE TABLE {db_name}.{schema_name}.{table_for_desc_name};\".format(db_name, schema_name, table_for_desc_name)).collect()]"
   ]
  },
  {
   "cell_type": "code",
   "execution_count": null,
   "metadata": {},
   "outputs": [],
   "source": [
    "df_describe_table = pd.DataFrame(result_describe_table)\n",
    "df_describe_table.drop(columns=['null?', 'default','primary key', 'unique key',\n",
    "       'check', 'expression', 'comment', 'policy name'], inplace=True)"
   ]
  },
  {
   "cell_type": "code",
   "execution_count": null,
   "metadata": {},
   "outputs": [],
   "source": [
    "df_describe_table.head(10)"
   ]
  },
  {
   "cell_type": "markdown",
   "metadata": {},
   "source": [
    "## Mixing with Mapping table"
   ]
  },
  {
   "cell_type": "code",
   "execution_count": null,
   "metadata": {},
   "outputs": [],
   "source": [
    "result_salesforce_mapping = [row.as_dict() for row in session.sql(f\"SELECT NAME_SALESFORCE_ATTRIBUTE, NAME_ALIAS FROM ACCOUNTADMIN_MGMT.UTILITIES.SALESFORCE_MAPPING WHERE NAME_SALESFORCE_OBJECT = '{table_name}'\".format()).collect()]\n",
    "df_salesforce_mapping = pd.DataFrame(result_salesforce_mapping)"
   ]
  },
  {
   "cell_type": "code",
   "execution_count": null,
   "metadata": {},
   "outputs": [],
   "source": [
    "df_salesforce_mapping"
   ]
  },
  {
   "cell_type": "code",
   "execution_count": null,
   "metadata": {},
   "outputs": [],
   "source": [
    "if df_salesforce_mapping.empty:\n",
    "\tfinal_df = df_describe_table\n",
    "\tfinal_df['NAME_ALIAS'] = final_df['name']\n",
    "else:\n",
    "\tfinal_df = pd.merge(df_describe_table, df_salesforce_mapping, left_on='name', right_on='NAME_SALESFORCE_ATTRIBUTE', how='left')\n",
    "\tfinal_df['NAME_ALIAS'] = final_df.apply(lambda x: x['name'] if pd.isna(x['NAME_ALIAS']) else x['NAME_ALIAS'], axis=1)\n"
   ]
  },
  {
   "cell_type": "code",
   "execution_count": null,
   "metadata": {},
   "outputs": [],
   "source": [
    "final_df"
   ]
  },
  {
   "cell_type": "code",
   "execution_count": null,
   "metadata": {},
   "outputs": [],
   "source": [
    "# a lambda function that creates a new column called 'name_new' if the type is like VARCHAR then add a \"000\" to the origial name else just add the original name\n",
    "# df['name_new'] = df.apply(lambda x: x['name'] + '000' if isinstance(x['type'], str) and x['type'].find('VARCHAR') != -1 else x['name'], axis=1)"
   ]
  },
  {
   "cell_type": "markdown",
   "metadata": {},
   "source": [
    "## Doing transformation"
   ]
  },
  {
   "cell_type": "code",
   "execution_count": null,
   "metadata": {},
   "outputs": [],
   "source": [
    "def transform_name(name, type, name_alias):\n",
    "    if isinstance(type, str) and 'VARCHAR' in type:\n",
    "        #return name + '0007'\n",
    "        return f\"CAST(SUBSTR({name},1,10000) AS VARCHAR(10000)) AS {name_alias}\".format(name, name_alias)\n",
    "    else:\n",
    "        return f\"{name} AS {name_alias}\".format(name, name_alias)\n",
    "\n",
    "# apply the transform_name function to create a new column called 'name_new'\n",
    "final_df['name_new'] = final_df.apply(lambda x: transform_name(x['name'], x['type'], x['NAME_ALIAS']), axis=1)"
   ]
  },
  {
   "cell_type": "code",
   "execution_count": null,
   "metadata": {},
   "outputs": [],
   "source": [
    "\n",
    "#df[['name','type','name_new']].head(200)\n",
    "column_list:list = final_df['name_new'].to_list()"
   ]
  },
  {
   "cell_type": "code",
   "execution_count": null,
   "metadata": {},
   "outputs": [],
   "source": [
    "columns_str:str = ', '.join(column_list)"
   ]
  },
  {
   "cell_type": "code",
   "execution_count": null,
   "metadata": {},
   "outputs": [],
   "source": [
    "columns_str"
   ]
  },
  {
   "cell_type": "code",
   "execution_count": null,
   "metadata": {},
   "outputs": [],
   "source": [
    "# append the final result to something like \"CREATE OR REPLACE VIEW {db_name}.{schema_name}}.{table_name}_V AS SELECT {columns_str} FROM {db_name}.{schema_name}.{table_name};\"\n",
    "final_query:str = f\"CREATE OR REPLACE VIEW {db_name}.{schema_name}.{view_name} AS SELECT {columns_str} FROM {db_name}.{schema_name}.{table_for_desc_name};\""
   ]
  },
  {
   "cell_type": "code",
   "execution_count": null,
   "metadata": {},
   "outputs": [],
   "source": [
    "final_query"
   ]
  },
  {
   "cell_type": "code",
   "execution_count": null,
   "metadata": {},
   "outputs": [],
   "source": [
    "session.sql(final_query).collect()"
   ]
  },
  {
   "cell_type": "markdown",
   "metadata": {},
   "source": [
    "# All tables"
   ]
  },
  {
   "cell_type": "code",
   "execution_count": null,
   "metadata": {},
   "outputs": [],
   "source": [
    "database:str = 'STITCH'\n",
    "\n",
    "for schema in ['SALESFORCEFSL3']:\n",
    "    result = session.sql(f\"SHOW TABLES IN STITCH.{schema}\".format(schema)).collect()\n",
    "    #[row.as_dict() for row in result]\n",
    "    df = pd.DataFrame(result)\n",
    "    tables:list = df['name'].to_list()\n",
    "    for table in tables:\n",
    "        if table not in ['_SDC_REJECTED']:\n",
    "            print(table)\n",
    "            create_view_query:str = f\"CALL ACCOUNTADMIN_MGMT.UTILITIES.CREATE_DYNAMIC_SALESFORCE_VIEW('{database}', '{schema}', '{table}');\".format(database, schema, table)\n",
    "            session.sql(create_view_query).collect()\n"
   ]
  },
  {
   "cell_type": "code",
   "execution_count": null,
   "metadata": {},
   "outputs": [],
   "source": [
    "session.close()"
   ]
  },
  {
   "cell_type": "code",
   "execution_count": null,
   "metadata": {},
   "outputs": [],
   "source": []
  }
 ],
 "metadata": {
  "kernelspec": {
   "display_name": "snowpark",
   "language": "python",
   "name": "python3"
  },
  "language_info": {
   "codemirror_mode": {
    "name": "ipython",
    "version": 3
   },
   "file_extension": ".py",
   "mimetype": "text/x-python",
   "name": "python",
   "nbconvert_exporter": "python",
   "pygments_lexer": "ipython3",
   "version": "3.10.12"
  },
  "orig_nbformat": 4
 },
 "nbformat": 4,
 "nbformat_minor": 2
}
