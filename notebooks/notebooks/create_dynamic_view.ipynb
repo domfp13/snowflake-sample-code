{
 "cells": [
  {
   "cell_type": "code",
   "execution_count": 1,
   "metadata": {},
   "outputs": [],
   "source": [
    "import pandas as pd\n",
    "from snowflake.snowpark.session import Session\n",
    "from snowflake.snowpark.functions import udf, avg, col\n",
    "from snowflake.snowpark.types import IntegerType, FloatType, StringType, BooleanType\n",
    "from snowflake.snowpark.files import SnowflakeFile\n",
    "import sys\n",
    "sys.path.append('..')\n",
    "from credentials import Credentials"
   ]
  },
  {
   "cell_type": "code",
   "execution_count": null,
   "metadata": {},
   "outputs": [],
   "source": [
    "# Setting pandas options\n",
    "pd.set_option('display.max_rows', None)\n",
    "pd.set_option('display.max_columns', None)"
   ]
  },
  {
   "cell_type": "code",
   "execution_count": 2,
   "metadata": {},
   "outputs": [],
   "source": [
    "cred = Credentials()\n",
    "session = Session.builder.configs(cred.__dict__).create()"
   ]
  },
  {
   "cell_type": "code",
   "execution_count": 5,
   "metadata": {},
   "outputs": [],
   "source": [
    "session.use_role(\"SYSADMIN\")\n",
    "session.use_database(\"STITCH\")\n",
    "session.use_warehouse(\"ACCOUNTADMIN_MGMT\")\n",
    "session.use_schema(\"SALESFORCEFSL3\")"
   ]
  },
  {
   "cell_type": "code",
   "execution_count": 6,
   "metadata": {},
   "outputs": [],
   "source": [
    "# Getting name of the table\n",
    "db_name = 'STITCH'\n",
    "schema_name = 'SALESFORCEFSL3'\n",
    "table_name:str = 'ACCOUNT'"
   ]
  },
  {
   "cell_type": "code",
   "execution_count": 8,
   "metadata": {},
   "outputs": [],
   "source": [
    "result = session.sql(f\"DESCRIBE TABLE {db_name}.{schema_name}.{table_name};\".format(db_name, schema_name, table_name)).collect()"
   ]
  },
  {
   "cell_type": "code",
   "execution_count": 14,
   "metadata": {},
   "outputs": [],
   "source": [
    "# convert all the row elements to dictionaries\n",
    "result = [row.as_dict() for row in result]"
   ]
  },
  {
   "cell_type": "code",
   "execution_count": 15,
   "metadata": {},
   "outputs": [],
   "source": [
    "df = pd.DataFrame(result)"
   ]
  },
  {
   "cell_type": "code",
   "execution_count": 16,
   "metadata": {},
   "outputs": [
    {
     "data": {
      "text/html": [
       "<div>\n",
       "<style scoped>\n",
       "    .dataframe tbody tr th:only-of-type {\n",
       "        vertical-align: middle;\n",
       "    }\n",
       "\n",
       "    .dataframe tbody tr th {\n",
       "        vertical-align: top;\n",
       "    }\n",
       "\n",
       "    .dataframe thead th {\n",
       "        text-align: right;\n",
       "    }\n",
       "</style>\n",
       "<table border=\"1\" class=\"dataframe\">\n",
       "  <thead>\n",
       "    <tr style=\"text-align: right;\">\n",
       "      <th></th>\n",
       "      <th>name</th>\n",
       "      <th>type</th>\n",
       "      <th>kind</th>\n",
       "      <th>null?</th>\n",
       "      <th>default</th>\n",
       "      <th>primary key</th>\n",
       "      <th>unique key</th>\n",
       "      <th>check</th>\n",
       "      <th>expression</th>\n",
       "      <th>comment</th>\n",
       "      <th>policy name</th>\n",
       "    </tr>\n",
       "  </thead>\n",
       "  <tbody>\n",
       "    <tr>\n",
       "      <th>0</th>\n",
       "      <td>ABM_TARGET_ACCOUNT__C</td>\n",
       "      <td>BOOLEAN</td>\n",
       "      <td>COLUMN</td>\n",
       "      <td>Y</td>\n",
       "      <td>None</td>\n",
       "      <td>N</td>\n",
       "      <td>N</td>\n",
       "      <td>None</td>\n",
       "      <td>None</td>\n",
       "      <td>None</td>\n",
       "      <td>None</td>\n",
       "    </tr>\n",
       "    <tr>\n",
       "      <th>1</th>\n",
       "      <td>ACCOUNTNUMBER</td>\n",
       "      <td>VARCHAR(16777216)</td>\n",
       "      <td>COLUMN</td>\n",
       "      <td>Y</td>\n",
       "      <td>None</td>\n",
       "      <td>N</td>\n",
       "      <td>N</td>\n",
       "      <td>None</td>\n",
       "      <td>None</td>\n",
       "      <td>None</td>\n",
       "      <td>None</td>\n",
       "    </tr>\n",
       "    <tr>\n",
       "      <th>2</th>\n",
       "      <td>ACCOUNT_ISACTIVE_CURRENT_FY__C</td>\n",
       "      <td>BOOLEAN</td>\n",
       "      <td>COLUMN</td>\n",
       "      <td>Y</td>\n",
       "      <td>None</td>\n",
       "      <td>N</td>\n",
       "      <td>N</td>\n",
       "      <td>None</td>\n",
       "      <td>None</td>\n",
       "      <td>None</td>\n",
       "      <td>None</td>\n",
       "    </tr>\n",
       "    <tr>\n",
       "      <th>3</th>\n",
       "      <td>ACCOUNT_ISACTIVE_CURRENT_PREVIOUS_FY__C</td>\n",
       "      <td>BOOLEAN</td>\n",
       "      <td>COLUMN</td>\n",
       "      <td>Y</td>\n",
       "      <td>None</td>\n",
       "      <td>N</td>\n",
       "      <td>N</td>\n",
       "      <td>None</td>\n",
       "      <td>None</td>\n",
       "      <td>None</td>\n",
       "      <td>None</td>\n",
       "    </tr>\n",
       "    <tr>\n",
       "      <th>4</th>\n",
       "      <td>ACCOUNT_ISACTIVE_LAST_12_MONTHS__C</td>\n",
       "      <td>BOOLEAN</td>\n",
       "      <td>COLUMN</td>\n",
       "      <td>Y</td>\n",
       "      <td>None</td>\n",
       "      <td>N</td>\n",
       "      <td>N</td>\n",
       "      <td>None</td>\n",
       "      <td>None</td>\n",
       "      <td>None</td>\n",
       "      <td>None</td>\n",
       "    </tr>\n",
       "    <tr>\n",
       "      <th>...</th>\n",
       "      <td>...</td>\n",
       "      <td>...</td>\n",
       "      <td>...</td>\n",
       "      <td>...</td>\n",
       "      <td>...</td>\n",
       "      <td>...</td>\n",
       "      <td>...</td>\n",
       "      <td>...</td>\n",
       "      <td>...</td>\n",
       "      <td>...</td>\n",
       "      <td>...</td>\n",
       "    </tr>\n",
       "    <tr>\n",
       "      <th>104</th>\n",
       "      <td>_SDC_RECEIVED_AT</td>\n",
       "      <td>TIMESTAMP_TZ(9)</td>\n",
       "      <td>COLUMN</td>\n",
       "      <td>Y</td>\n",
       "      <td>None</td>\n",
       "      <td>N</td>\n",
       "      <td>N</td>\n",
       "      <td>None</td>\n",
       "      <td>None</td>\n",
       "      <td>None</td>\n",
       "      <td>None</td>\n",
       "    </tr>\n",
       "    <tr>\n",
       "      <th>105</th>\n",
       "      <td>_SDC_SEQUENCE</td>\n",
       "      <td>NUMBER(38,0)</td>\n",
       "      <td>COLUMN</td>\n",
       "      <td>Y</td>\n",
       "      <td>None</td>\n",
       "      <td>N</td>\n",
       "      <td>N</td>\n",
       "      <td>None</td>\n",
       "      <td>None</td>\n",
       "      <td>None</td>\n",
       "      <td>None</td>\n",
       "    </tr>\n",
       "    <tr>\n",
       "      <th>106</th>\n",
       "      <td>_SDC_TABLE_VERSION</td>\n",
       "      <td>NUMBER(38,0)</td>\n",
       "      <td>COLUMN</td>\n",
       "      <td>Y</td>\n",
       "      <td>None</td>\n",
       "      <td>N</td>\n",
       "      <td>N</td>\n",
       "      <td>None</td>\n",
       "      <td>None</td>\n",
       "      <td>None</td>\n",
       "      <td>None</td>\n",
       "    </tr>\n",
       "    <tr>\n",
       "      <th>107</th>\n",
       "      <td>LASTREFERENCEDDATE</td>\n",
       "      <td>TIMESTAMP_TZ(9)</td>\n",
       "      <td>COLUMN</td>\n",
       "      <td>Y</td>\n",
       "      <td>None</td>\n",
       "      <td>N</td>\n",
       "      <td>N</td>\n",
       "      <td>None</td>\n",
       "      <td>None</td>\n",
       "      <td>None</td>\n",
       "      <td>None</td>\n",
       "    </tr>\n",
       "    <tr>\n",
       "      <th>108</th>\n",
       "      <td>LASTVIEWEDDATE</td>\n",
       "      <td>TIMESTAMP_TZ(9)</td>\n",
       "      <td>COLUMN</td>\n",
       "      <td>Y</td>\n",
       "      <td>None</td>\n",
       "      <td>N</td>\n",
       "      <td>N</td>\n",
       "      <td>None</td>\n",
       "      <td>None</td>\n",
       "      <td>None</td>\n",
       "      <td>None</td>\n",
       "    </tr>\n",
       "  </tbody>\n",
       "</table>\n",
       "<p>109 rows × 11 columns</p>\n",
       "</div>"
      ],
      "text/plain": [
       "                                        name               type    kind null?  \\\n",
       "0                      ABM_TARGET_ACCOUNT__C            BOOLEAN  COLUMN     Y   \n",
       "1                              ACCOUNTNUMBER  VARCHAR(16777216)  COLUMN     Y   \n",
       "2             ACCOUNT_ISACTIVE_CURRENT_FY__C            BOOLEAN  COLUMN     Y   \n",
       "3    ACCOUNT_ISACTIVE_CURRENT_PREVIOUS_FY__C            BOOLEAN  COLUMN     Y   \n",
       "4         ACCOUNT_ISACTIVE_LAST_12_MONTHS__C            BOOLEAN  COLUMN     Y   \n",
       "..                                       ...                ...     ...   ...   \n",
       "104                         _SDC_RECEIVED_AT    TIMESTAMP_TZ(9)  COLUMN     Y   \n",
       "105                            _SDC_SEQUENCE       NUMBER(38,0)  COLUMN     Y   \n",
       "106                       _SDC_TABLE_VERSION       NUMBER(38,0)  COLUMN     Y   \n",
       "107                       LASTREFERENCEDDATE    TIMESTAMP_TZ(9)  COLUMN     Y   \n",
       "108                           LASTVIEWEDDATE    TIMESTAMP_TZ(9)  COLUMN     Y   \n",
       "\n",
       "    default primary key unique key check expression comment policy name  \n",
       "0      None           N          N  None       None    None        None  \n",
       "1      None           N          N  None       None    None        None  \n",
       "2      None           N          N  None       None    None        None  \n",
       "3      None           N          N  None       None    None        None  \n",
       "4      None           N          N  None       None    None        None  \n",
       "..      ...         ...        ...   ...        ...     ...         ...  \n",
       "104    None           N          N  None       None    None        None  \n",
       "105    None           N          N  None       None    None        None  \n",
       "106    None           N          N  None       None    None        None  \n",
       "107    None           N          N  None       None    None        None  \n",
       "108    None           N          N  None       None    None        None  \n",
       "\n",
       "[109 rows x 11 columns]"
      ]
     },
     "execution_count": 16,
     "metadata": {},
     "output_type": "execute_result"
    }
   ],
   "source": [
    "df"
   ]
  },
  {
   "cell_type": "code",
   "execution_count": null,
   "metadata": {},
   "outputs": [],
   "source": [
    "# a lambda function that creates a new column called 'name_new' if the type is like VARCHAR then add a \"000\" to the origial name else just add the original name\n",
    "# df['name_new'] = df.apply(lambda x: x['name'] + '000' if isinstance(x['type'], str) and x['type'].find('VARCHAR') != -1 else x['name'], axis=1)"
   ]
  },
  {
   "cell_type": "code",
   "execution_count": 55,
   "metadata": {},
   "outputs": [],
   "source": [
    "def transform_name(name, type):\n",
    "    if isinstance(type, str) and 'VARCHAR' in type:\n",
    "        #return name + '0007'\n",
    "        return f\"CAST(SUBSTR({name},1,10000) AS VARCHAR(10000)) AS {name}\".format(name)\n",
    "    else:\n",
    "        return f\"{name} AS {name}\".format(name)\n",
    "\n",
    "# apply the transform_name function to create a new column called 'name_new'\n",
    "df['name_new'] = df.apply(lambda x: transform_name(x['name'], x['type']), axis=1)"
   ]
  },
  {
   "cell_type": "code",
   "execution_count": 59,
   "metadata": {},
   "outputs": [],
   "source": [
    "\n",
    "#df[['name','type','name_new']].head(200)\n",
    "column_list:list = df['name_new'].to_list()"
   ]
  },
  {
   "cell_type": "code",
   "execution_count": 61,
   "metadata": {},
   "outputs": [],
   "source": [
    "columns_str:str = ', '.join(column_list)"
   ]
  },
  {
   "cell_type": "code",
   "execution_count": 62,
   "metadata": {},
   "outputs": [
    {
     "data": {
      "text/plain": [
       "'ABM_TARGET_ACCOUNT__C AS ABM_TARGET_ACCOUNT__C, CAST(SUBSTR(ACCOUNTNUMBER,1,10000) AS VARCHAR(10000)) AS ACCOUNTNUMBER, ACCOUNT_ISACTIVE_CURRENT_FY__C AS ACCOUNT_ISACTIVE_CURRENT_FY__C, ACCOUNT_ISACTIVE_CURRENT_PREVIOUS_FY__C AS ACCOUNT_ISACTIVE_CURRENT_PREVIOUS_FY__C, ACCOUNT_ISACTIVE_LAST_12_MONTHS__C AS ACCOUNT_ISACTIVE_LAST_12_MONTHS__C, CAST(SUBSTR(ACCOUNT_OWNER_ROLE__C,1,10000) AS VARCHAR(10000)) AS ACCOUNT_OWNER_ROLE__C, ACCOUNT_PLAN_COUNT__C AS ACCOUNT_PLAN_COUNT__C, CAST(SUBSTR(ACCOUNT_RECORD_ID__C,1,10000) AS VARCHAR(10000)) AS ACCOUNT_RECORD_ID__C, ACCOUNT_REGION__C AS ACCOUNT_REGION__C, CAST(SUBSTR(AM_IS_ME__C,1,10000) AS VARCHAR(10000)) AS AM_IS_ME__C, CAST(SUBSTR(BILLINGCITY,1,10000) AS VARCHAR(10000)) AS BILLINGCITY, CAST(SUBSTR(BILLINGCOUNTRY,1,10000) AS VARCHAR(10000)) AS BILLINGCOUNTRY, CAST(SUBSTR(BILLINGCOUNTRYCODE,1,10000) AS VARCHAR(10000)) AS BILLINGCOUNTRYCODE, CAST(SUBSTR(BILLINGGEOCODEACCURACY,1,10000) AS VARCHAR(10000)) AS BILLINGGEOCODEACCURACY, BILLINGLATITUDE AS BILLINGLATITUDE, BILLINGLONGITUDE AS BILLINGLONGITUDE, CAST(SUBSTR(BILLINGPOSTALCODE,1,10000) AS VARCHAR(10000)) AS BILLINGPOSTALCODE, CAST(SUBSTR(BILLINGSTATE,1,10000) AS VARCHAR(10000)) AS BILLINGSTATE, CAST(SUBSTR(BILLINGSTATECODE,1,10000) AS VARCHAR(10000)) AS BILLINGSTATECODE, CAST(SUBSTR(BILLINGSTREET,1,10000) AS VARCHAR(10000)) AS BILLINGSTREET, C1000__C AS C1000__C, CAST(SUBSTR(CE_IS_ME__C,1,10000) AS VARCHAR(10000)) AS CE_IS_ME__C, CLOSED_WON_SVC__C AS CLOSED_WON_SVC__C, COMPETITIVE_LANDSCAPE_WITH_ACCOUNT_TEAMS__C AS COMPETITIVE_LANDSCAPE_WITH_ACCOUNT_TEAMS__C, COUNT__C AS COUNT__C, CAST(SUBSTR(CPM_REGION__C,1,10000) AS VARCHAR(10000)) AS CPM_REGION__C, CAST(SUBSTR(CREATEDBYID,1,10000) AS VARCHAR(10000)) AS CREATEDBYID, CREATEDDATE AS CREATEDDATE, CAST(SUBSTR(CREDIT_STATUS__C,1,10000) AS VARCHAR(10000)) AS CREDIT_STATUS__C, CAST(SUBSTR(CREDIT_TIER__C,1,10000) AS VARCHAR(10000)) AS CREDIT_TIER__C, CAST(SUBSTR(CURRENCYISOCODE,1,10000) AS VARCHAR(10000)) AS CURRENCYISOCODE, CAST(SUBSTR(CUSTOMER_NAME__C,1,10000) AS VARCHAR(10000)) AS CUSTOMER_NAME__C, CAST(SUBSTR(CUSTOMER_NUMBER__C,1,10000) AS VARCHAR(10000)) AS CUSTOMER_NUMBER__C, CAST(SUBSTR(DIMS_CUSTOMER__C,1,10000) AS VARCHAR(10000)) AS DIMS_CUSTOMER__C, DPS_MIGRATION_ACCOUNT__C AS DPS_MIGRATION_ACCOUNT__C, END_CLIENT_REQUIRED__C AS END_CLIENT_REQUIRED__C, EXCLUDE_FROM_WIN_LOSS__C AS EXCLUDE_FROM_WIN_LOSS__C, EXISTING_CLIENT_PMO__C AS EXISTING_CLIENT_PMO__C, GEO_CODES__C AS GEO_CODES__C, HOPPERBLUE_ACCOUNT__C AS HOPPERBLUE_ACCOUNT__C, CAST(SUBSTR(HW_SPECIALIST_IS_ME__C,1,10000) AS VARCHAR(10000)) AS HW_SPECIALIST_IS_ME__C, CAST(SUBSTR(HYPERION_ACCOUNT_NUMBER__C,1,10000) AS VARCHAR(10000)) AS HYPERION_ACCOUNT_NUMBER__C, CAST(SUBSTR(ID,1,10000) AS VARCHAR(10000)) AS ID, CAST(SUBSTR(INDUSTRY,1,10000) AS VARCHAR(10000)) AS INDUSTRY, INTL_SUBCONTRACTOR__C AS INTL_SUBCONTRACTOR__C, ISCUSTOMERPORTAL AS ISCUSTOMERPORTAL, ISDELETED AS ISDELETED, ISPARTNER AS ISPARTNER, LASTACTIVITYDATE AS LASTACTIVITYDATE, CAST(SUBSTR(LASTMODIFIEDBYID,1,10000) AS VARCHAR(10000)) AS LASTMODIFIEDBYID, LASTMODIFIEDDATE AS LASTMODIFIEDDATE, LD_USE_DNB_OPTIMIZE__C AS LD_USE_DNB_OPTIMIZE__C, MOST_RECENT_OPPORTUNITY_CREATE_DATE__C AS MOST_RECENT_OPPORTUNITY_CREATE_DATE__C, MY_REGION_ACC_SALES_REGION_REPORT_ONLY__C AS MY_REGION_ACC_SALES_REGION_REPORT_ONLY__C, CAST(SUBSTR(NAME,1,10000) AS VARCHAR(10000)) AS NAME, CAST(SUBSTR(NPS_ACCOUNT_CATEGORY__C,1,10000) AS VARCHAR(10000)) AS NPS_ACCOUNT_CATEGORY__C, CAST(SUBSTR(NPS_ACCOUNT__C,1,10000) AS VARCHAR(10000)) AS NPS_ACCOUNT__C, NPS_MANAGER_FILTER__C AS NPS_MANAGER_FILTER__C, NUMBER_OF_CONTACTS__C AS NUMBER_OF_CONTACTS__C, NUMBER_OPPORTUNITIES__C AS NUMBER_OPPORTUNITIES__C, OD_PERKS_PROGRAM_TARGET__C AS OD_PERKS_PROGRAM_TARGET__C, OPEN_NEW_ORDERS__C AS OPEN_NEW_ORDERS__C, OPEN_OPPORTUNTIES__C AS OPEN_OPPORTUNTIES__C, CAST(SUBSTR(OPERATINGHOURSID,1,10000) AS VARCHAR(10000)) AS OPERATINGHOURSID, CAST(SUBSTR(ORACLE_ACCOUNT_NUMBER__C,1,10000) AS VARCHAR(10000)) AS ORACLE_ACCOUNT_NUMBER__C, CAST(SUBSTR(ORACLE_CC_SALESPERSON1__C,1,10000) AS VARCHAR(10000)) AS ORACLE_CC_SALESPERSON1__C, CAST(SUBSTR(ORACLE_CC_SALESPERSON2__C,1,10000) AS VARCHAR(10000)) AS ORACLE_CC_SALESPERSON2__C, CAST(SUBSTR(ORACLE_COUNTY__C,1,10000) AS VARCHAR(10000)) AS ORACLE_COUNTY__C, CAST(SUBSTR(ORACLE_CUSTOMER_GROUP__C,1,10000) AS VARCHAR(10000)) AS ORACLE_CUSTOMER_GROUP__C, CAST(SUBSTR(ORACLE_CUSTOMER_STATUS__C,1,10000) AS VARCHAR(10000)) AS ORACLE_CUSTOMER_STATUS__C, ORACLE_EFFECTIVE_END_DATE__C AS ORACLE_EFFECTIVE_END_DATE__C, ORACLE_EFFECTIVE_START_DATE__C AS ORACLE_EFFECTIVE_START_DATE__C, CAST(SUBSTR(ORACLE_SITE_NAME__C,1,10000) AS VARCHAR(10000)) AS ORACLE_SITE_NAME__C, CAST(SUBSTR(ORACLE_SITE_NUMBER__C,1,10000) AS VARCHAR(10000)) AS ORACLE_SITE_NUMBER__C, CAST(SUBSTR(ORACLE_SITE_USE_NUMBER__C,1,10000) AS VARCHAR(10000)) AS ORACLE_SITE_USE_NUMBER__C, CAST(SUBSTR(ORACLE_SITE_USE__C,1,10000) AS VARCHAR(10000)) AS ORACLE_SITE_USE__C, CAST(SUBSTR(ORACLE_STATUS__C,1,10000) AS VARCHAR(10000)) AS ORACLE_STATUS__C, CAST(SUBSTR(OWNERID,1,10000) AS VARCHAR(10000)) AS OWNERID, CAST(SUBSTR(PARENTID,1,10000) AS VARCHAR(10000)) AS PARENTID, CAST(SUBSTR(PARENT_ACCOUNT_CUSTOMER_NUMBER__C,1,10000) AS VARCHAR(10000)) AS PARENT_ACCOUNT_CUSTOMER_NUMBER__C, PBCC_TIER_II_INACTIVE_TARGET__C AS PBCC_TIER_II_INACTIVE_TARGET__C, CAST(SUBSTR(PHONE,1,10000) AS VARCHAR(10000)) AS PHONE, CAST(SUBSTR(PHOTOURL,1,10000) AS VARCHAR(10000)) AS PHOTOURL, CAST(SUBSTR(PROGRAM_EXECUTIVE_PE__C,1,10000) AS VARCHAR(10000)) AS PROGRAM_EXECUTIVE_PE__C, PSE_ID__C AS PSE_ID__C, CAST(SUBSTR(RECORDTYPEID,1,10000) AS VARCHAR(10000)) AS RECORDTYPEID, CAST(SUBSTR(REGION_VERTICAL__C,1,10000) AS VARCHAR(10000)) AS REGION_VERTICAL__C, SENT_TO_OD_SVC__C AS SENT_TO_OD_SVC__C, CAST(SUBSTR(SVC_ACCOUNT_CATEGORY__C,1,10000) AS VARCHAR(10000)) AS SVC_ACCOUNT_CATEGORY__C, CAST(SUBSTR(SVC_AE_IS_ME__C,1,10000) AS VARCHAR(10000)) AS SVC_AE_IS_ME__C, CAST(SUBSTR(SVC_ISR__C,1,10000) AS VARCHAR(10000)) AS SVC_ISR__C, CAST(SUBSTR(SVC_NEW_LOGO_YEAR__C,1,10000) AS VARCHAR(10000)) AS SVC_NEW_LOGO_YEAR__C, SYSTEMMODSTAMP AS SYSTEMMODSTAMP, TOP_100_ACCOUNTS__C AS TOP_100_ACCOUNTS__C, TOP_10_ACCOUNTS__C AS TOP_10_ACCOUNTS__C, TOP_25_ACCOUNTS__C AS TOP_25_ACCOUNTS__C, TOP_50_ACCOUNTS__C AS TOP_50_ACCOUNTS__C, CAST(SUBSTR(TYPE,1,10000) AS VARCHAR(10000)) AS TYPE, CAST(SUBSTR(ULTIMATE_PARENT_NAME__C,1,10000) AS VARCHAR(10000)) AS ULTIMATE_PARENT_NAME__C, CAST(SUBSTR(VERTEX_TAX_AREA_ID__C,1,10000) AS VARCHAR(10000)) AS VERTEX_TAX_AREA_ID__C, CAST(SUBSTR(VERTICAL__C,1,10000) AS VARCHAR(10000)) AS VERTICAL__C, CAST(SUBSTR(WEBSITE,1,10000) AS VARCHAR(10000)) AS WEBSITE, _SDC_BATCHED_AT AS _SDC_BATCHED_AT, _SDC_EXTRACTED_AT AS _SDC_EXTRACTED_AT, _SDC_RECEIVED_AT AS _SDC_RECEIVED_AT, _SDC_SEQUENCE AS _SDC_SEQUENCE, _SDC_TABLE_VERSION AS _SDC_TABLE_VERSION, LASTREFERENCEDDATE AS LASTREFERENCEDDATE, LASTVIEWEDDATE AS LASTVIEWEDDATE'"
      ]
     },
     "execution_count": 62,
     "metadata": {},
     "output_type": "execute_result"
    }
   ],
   "source": [
    "columns_str"
   ]
  },
  {
   "cell_type": "code",
   "execution_count": 63,
   "metadata": {},
   "outputs": [],
   "source": [
    "# append the final result to something like \"CREATE OR REPLACE VIEW {db_name}.{schema_name}}.{table_name}_V AS SELECT {columns_str} FROM {db_name}.{schema_name}.{table_name};\"\n",
    "final_query:str = f\"CREATE OR REPLACE VIEW {db_name}.{schema_name}.{table_name}_V AS SELECT {columns_str} FROM {db_name}.{schema_name}.{table_name};\""
   ]
  },
  {
   "cell_type": "code",
   "execution_count": 64,
   "metadata": {},
   "outputs": [
    {
     "data": {
      "text/plain": [
       "'CREATE OR REPLACE VIEW STITCH.SALESFORCEFSL3.ACCOUNT_V AS SELECT ABM_TARGET_ACCOUNT__C AS ABM_TARGET_ACCOUNT__C, CAST(SUBSTR(ACCOUNTNUMBER,1,10000) AS VARCHAR(10000)) AS ACCOUNTNUMBER, ACCOUNT_ISACTIVE_CURRENT_FY__C AS ACCOUNT_ISACTIVE_CURRENT_FY__C, ACCOUNT_ISACTIVE_CURRENT_PREVIOUS_FY__C AS ACCOUNT_ISACTIVE_CURRENT_PREVIOUS_FY__C, ACCOUNT_ISACTIVE_LAST_12_MONTHS__C AS ACCOUNT_ISACTIVE_LAST_12_MONTHS__C, CAST(SUBSTR(ACCOUNT_OWNER_ROLE__C,1,10000) AS VARCHAR(10000)) AS ACCOUNT_OWNER_ROLE__C, ACCOUNT_PLAN_COUNT__C AS ACCOUNT_PLAN_COUNT__C, CAST(SUBSTR(ACCOUNT_RECORD_ID__C,1,10000) AS VARCHAR(10000)) AS ACCOUNT_RECORD_ID__C, ACCOUNT_REGION__C AS ACCOUNT_REGION__C, CAST(SUBSTR(AM_IS_ME__C,1,10000) AS VARCHAR(10000)) AS AM_IS_ME__C, CAST(SUBSTR(BILLINGCITY,1,10000) AS VARCHAR(10000)) AS BILLINGCITY, CAST(SUBSTR(BILLINGCOUNTRY,1,10000) AS VARCHAR(10000)) AS BILLINGCOUNTRY, CAST(SUBSTR(BILLINGCOUNTRYCODE,1,10000) AS VARCHAR(10000)) AS BILLINGCOUNTRYCODE, CAST(SUBSTR(BILLINGGEOCODEACCURACY,1,10000) AS VARCHAR(10000)) AS BILLINGGEOCODEACCURACY, BILLINGLATITUDE AS BILLINGLATITUDE, BILLINGLONGITUDE AS BILLINGLONGITUDE, CAST(SUBSTR(BILLINGPOSTALCODE,1,10000) AS VARCHAR(10000)) AS BILLINGPOSTALCODE, CAST(SUBSTR(BILLINGSTATE,1,10000) AS VARCHAR(10000)) AS BILLINGSTATE, CAST(SUBSTR(BILLINGSTATECODE,1,10000) AS VARCHAR(10000)) AS BILLINGSTATECODE, CAST(SUBSTR(BILLINGSTREET,1,10000) AS VARCHAR(10000)) AS BILLINGSTREET, C1000__C AS C1000__C, CAST(SUBSTR(CE_IS_ME__C,1,10000) AS VARCHAR(10000)) AS CE_IS_ME__C, CLOSED_WON_SVC__C AS CLOSED_WON_SVC__C, COMPETITIVE_LANDSCAPE_WITH_ACCOUNT_TEAMS__C AS COMPETITIVE_LANDSCAPE_WITH_ACCOUNT_TEAMS__C, COUNT__C AS COUNT__C, CAST(SUBSTR(CPM_REGION__C,1,10000) AS VARCHAR(10000)) AS CPM_REGION__C, CAST(SUBSTR(CREATEDBYID,1,10000) AS VARCHAR(10000)) AS CREATEDBYID, CREATEDDATE AS CREATEDDATE, CAST(SUBSTR(CREDIT_STATUS__C,1,10000) AS VARCHAR(10000)) AS CREDIT_STATUS__C, CAST(SUBSTR(CREDIT_TIER__C,1,10000) AS VARCHAR(10000)) AS CREDIT_TIER__C, CAST(SUBSTR(CURRENCYISOCODE,1,10000) AS VARCHAR(10000)) AS CURRENCYISOCODE, CAST(SUBSTR(CUSTOMER_NAME__C,1,10000) AS VARCHAR(10000)) AS CUSTOMER_NAME__C, CAST(SUBSTR(CUSTOMER_NUMBER__C,1,10000) AS VARCHAR(10000)) AS CUSTOMER_NUMBER__C, CAST(SUBSTR(DIMS_CUSTOMER__C,1,10000) AS VARCHAR(10000)) AS DIMS_CUSTOMER__C, DPS_MIGRATION_ACCOUNT__C AS DPS_MIGRATION_ACCOUNT__C, END_CLIENT_REQUIRED__C AS END_CLIENT_REQUIRED__C, EXCLUDE_FROM_WIN_LOSS__C AS EXCLUDE_FROM_WIN_LOSS__C, EXISTING_CLIENT_PMO__C AS EXISTING_CLIENT_PMO__C, GEO_CODES__C AS GEO_CODES__C, HOPPERBLUE_ACCOUNT__C AS HOPPERBLUE_ACCOUNT__C, CAST(SUBSTR(HW_SPECIALIST_IS_ME__C,1,10000) AS VARCHAR(10000)) AS HW_SPECIALIST_IS_ME__C, CAST(SUBSTR(HYPERION_ACCOUNT_NUMBER__C,1,10000) AS VARCHAR(10000)) AS HYPERION_ACCOUNT_NUMBER__C, CAST(SUBSTR(ID,1,10000) AS VARCHAR(10000)) AS ID, CAST(SUBSTR(INDUSTRY,1,10000) AS VARCHAR(10000)) AS INDUSTRY, INTL_SUBCONTRACTOR__C AS INTL_SUBCONTRACTOR__C, ISCUSTOMERPORTAL AS ISCUSTOMERPORTAL, ISDELETED AS ISDELETED, ISPARTNER AS ISPARTNER, LASTACTIVITYDATE AS LASTACTIVITYDATE, CAST(SUBSTR(LASTMODIFIEDBYID,1,10000) AS VARCHAR(10000)) AS LASTMODIFIEDBYID, LASTMODIFIEDDATE AS LASTMODIFIEDDATE, LD_USE_DNB_OPTIMIZE__C AS LD_USE_DNB_OPTIMIZE__C, MOST_RECENT_OPPORTUNITY_CREATE_DATE__C AS MOST_RECENT_OPPORTUNITY_CREATE_DATE__C, MY_REGION_ACC_SALES_REGION_REPORT_ONLY__C AS MY_REGION_ACC_SALES_REGION_REPORT_ONLY__C, CAST(SUBSTR(NAME,1,10000) AS VARCHAR(10000)) AS NAME, CAST(SUBSTR(NPS_ACCOUNT_CATEGORY__C,1,10000) AS VARCHAR(10000)) AS NPS_ACCOUNT_CATEGORY__C, CAST(SUBSTR(NPS_ACCOUNT__C,1,10000) AS VARCHAR(10000)) AS NPS_ACCOUNT__C, NPS_MANAGER_FILTER__C AS NPS_MANAGER_FILTER__C, NUMBER_OF_CONTACTS__C AS NUMBER_OF_CONTACTS__C, NUMBER_OPPORTUNITIES__C AS NUMBER_OPPORTUNITIES__C, OD_PERKS_PROGRAM_TARGET__C AS OD_PERKS_PROGRAM_TARGET__C, OPEN_NEW_ORDERS__C AS OPEN_NEW_ORDERS__C, OPEN_OPPORTUNTIES__C AS OPEN_OPPORTUNTIES__C, CAST(SUBSTR(OPERATINGHOURSID,1,10000) AS VARCHAR(10000)) AS OPERATINGHOURSID, CAST(SUBSTR(ORACLE_ACCOUNT_NUMBER__C,1,10000) AS VARCHAR(10000)) AS ORACLE_ACCOUNT_NUMBER__C, CAST(SUBSTR(ORACLE_CC_SALESPERSON1__C,1,10000) AS VARCHAR(10000)) AS ORACLE_CC_SALESPERSON1__C, CAST(SUBSTR(ORACLE_CC_SALESPERSON2__C,1,10000) AS VARCHAR(10000)) AS ORACLE_CC_SALESPERSON2__C, CAST(SUBSTR(ORACLE_COUNTY__C,1,10000) AS VARCHAR(10000)) AS ORACLE_COUNTY__C, CAST(SUBSTR(ORACLE_CUSTOMER_GROUP__C,1,10000) AS VARCHAR(10000)) AS ORACLE_CUSTOMER_GROUP__C, CAST(SUBSTR(ORACLE_CUSTOMER_STATUS__C,1,10000) AS VARCHAR(10000)) AS ORACLE_CUSTOMER_STATUS__C, ORACLE_EFFECTIVE_END_DATE__C AS ORACLE_EFFECTIVE_END_DATE__C, ORACLE_EFFECTIVE_START_DATE__C AS ORACLE_EFFECTIVE_START_DATE__C, CAST(SUBSTR(ORACLE_SITE_NAME__C,1,10000) AS VARCHAR(10000)) AS ORACLE_SITE_NAME__C, CAST(SUBSTR(ORACLE_SITE_NUMBER__C,1,10000) AS VARCHAR(10000)) AS ORACLE_SITE_NUMBER__C, CAST(SUBSTR(ORACLE_SITE_USE_NUMBER__C,1,10000) AS VARCHAR(10000)) AS ORACLE_SITE_USE_NUMBER__C, CAST(SUBSTR(ORACLE_SITE_USE__C,1,10000) AS VARCHAR(10000)) AS ORACLE_SITE_USE__C, CAST(SUBSTR(ORACLE_STATUS__C,1,10000) AS VARCHAR(10000)) AS ORACLE_STATUS__C, CAST(SUBSTR(OWNERID,1,10000) AS VARCHAR(10000)) AS OWNERID, CAST(SUBSTR(PARENTID,1,10000) AS VARCHAR(10000)) AS PARENTID, CAST(SUBSTR(PARENT_ACCOUNT_CUSTOMER_NUMBER__C,1,10000) AS VARCHAR(10000)) AS PARENT_ACCOUNT_CUSTOMER_NUMBER__C, PBCC_TIER_II_INACTIVE_TARGET__C AS PBCC_TIER_II_INACTIVE_TARGET__C, CAST(SUBSTR(PHONE,1,10000) AS VARCHAR(10000)) AS PHONE, CAST(SUBSTR(PHOTOURL,1,10000) AS VARCHAR(10000)) AS PHOTOURL, CAST(SUBSTR(PROGRAM_EXECUTIVE_PE__C,1,10000) AS VARCHAR(10000)) AS PROGRAM_EXECUTIVE_PE__C, PSE_ID__C AS PSE_ID__C, CAST(SUBSTR(RECORDTYPEID,1,10000) AS VARCHAR(10000)) AS RECORDTYPEID, CAST(SUBSTR(REGION_VERTICAL__C,1,10000) AS VARCHAR(10000)) AS REGION_VERTICAL__C, SENT_TO_OD_SVC__C AS SENT_TO_OD_SVC__C, CAST(SUBSTR(SVC_ACCOUNT_CATEGORY__C,1,10000) AS VARCHAR(10000)) AS SVC_ACCOUNT_CATEGORY__C, CAST(SUBSTR(SVC_AE_IS_ME__C,1,10000) AS VARCHAR(10000)) AS SVC_AE_IS_ME__C, CAST(SUBSTR(SVC_ISR__C,1,10000) AS VARCHAR(10000)) AS SVC_ISR__C, CAST(SUBSTR(SVC_NEW_LOGO_YEAR__C,1,10000) AS VARCHAR(10000)) AS SVC_NEW_LOGO_YEAR__C, SYSTEMMODSTAMP AS SYSTEMMODSTAMP, TOP_100_ACCOUNTS__C AS TOP_100_ACCOUNTS__C, TOP_10_ACCOUNTS__C AS TOP_10_ACCOUNTS__C, TOP_25_ACCOUNTS__C AS TOP_25_ACCOUNTS__C, TOP_50_ACCOUNTS__C AS TOP_50_ACCOUNTS__C, CAST(SUBSTR(TYPE,1,10000) AS VARCHAR(10000)) AS TYPE, CAST(SUBSTR(ULTIMATE_PARENT_NAME__C,1,10000) AS VARCHAR(10000)) AS ULTIMATE_PARENT_NAME__C, CAST(SUBSTR(VERTEX_TAX_AREA_ID__C,1,10000) AS VARCHAR(10000)) AS VERTEX_TAX_AREA_ID__C, CAST(SUBSTR(VERTICAL__C,1,10000) AS VARCHAR(10000)) AS VERTICAL__C, CAST(SUBSTR(WEBSITE,1,10000) AS VARCHAR(10000)) AS WEBSITE, _SDC_BATCHED_AT AS _SDC_BATCHED_AT, _SDC_EXTRACTED_AT AS _SDC_EXTRACTED_AT, _SDC_RECEIVED_AT AS _SDC_RECEIVED_AT, _SDC_SEQUENCE AS _SDC_SEQUENCE, _SDC_TABLE_VERSION AS _SDC_TABLE_VERSION, LASTREFERENCEDDATE AS LASTREFERENCEDDATE, LASTVIEWEDDATE AS LASTVIEWEDDATE FROM STITCH.SALESFORCEFSL3.ACCOUNT;'"
      ]
     },
     "execution_count": 64,
     "metadata": {},
     "output_type": "execute_result"
    }
   ],
   "source": [
    "final_query"
   ]
  },
  {
   "cell_type": "code",
   "execution_count": 66,
   "metadata": {},
   "outputs": [
    {
     "data": {
      "text/plain": [
       "[Row(status='View ACCOUNT_V successfully created.')]"
      ]
     },
     "execution_count": 66,
     "metadata": {},
     "output_type": "execute_result"
    }
   ],
   "source": [
    "session.sql(final_query).collect()"
   ]
  },
  {
   "cell_type": "code",
   "execution_count": null,
   "metadata": {},
   "outputs": [],
   "source": []
  }
 ],
 "metadata": {
  "kernelspec": {
   "display_name": "snowpark",
   "language": "python",
   "name": "python3"
  },
  "language_info": {
   "codemirror_mode": {
    "name": "ipython",
    "version": 3
   },
   "file_extension": ".py",
   "mimetype": "text/x-python",
   "name": "python",
   "nbconvert_exporter": "python",
   "pygments_lexer": "ipython3",
   "version": "3.10.12"
  },
  "orig_nbformat": 4
 },
 "nbformat": 4,
 "nbformat_minor": 2
}
