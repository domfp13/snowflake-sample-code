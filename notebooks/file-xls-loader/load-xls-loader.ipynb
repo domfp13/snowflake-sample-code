{
 "cells": [
  {
   "cell_type": "code",
   "execution_count": null,
   "metadata": {},
   "outputs": [],
   "source": [
    "import pandas as pd\n",
    "from snowflake.snowpark.session import Session\n",
    "from snowflake.snowpark.functions import udf, avg, col\n",
    "from snowflake.snowpark.types import IntegerType, FloatType, StringType, BooleanType\n",
    "from snowflake.snowpark.files import SnowflakeFile\n",
    "import sys\n",
    "sys.path.append('..')\n",
    "from credentials import Credentials"
   ]
  },
  {
   "cell_type": "code",
   "execution_count": null,
   "metadata": {},
   "outputs": [],
   "source": [
    "cred = Credentials()\n",
    "session = Session.builder.configs(cred.__dict__).create()"
   ]
  },
  {
   "cell_type": "code",
   "execution_count": null,
   "metadata": {},
   "outputs": [],
   "source": [
    "session.use_role(\"SYSADMIN\")\n",
    "session.use_database(\"NOTEBOOKS\")\n",
    "session.use_warehouse(\"NOTEBOOKS\")\n",
    "session.use_schema(\"PUBLIC\")"
   ]
  },
  {
   "cell_type": "code",
   "execution_count": null,
   "metadata": {},
   "outputs": [],
   "source": [
    "class FileFormat:\n",
    "\tdef __init__(self, order_date:str, allocation_date:str, so_number:str, so_line:str, cust_po:str, end_user_po:str, account_rep:str, p_line:str, td_pn:str, manuf_pn:str):\n",
    "\t\tself.order_date = order_date\n",
    "\t\tself.allocation_date = allocation_date\n",
    "\t\tself.so_number = so_number\n",
    "\t\tself.so_line = so_line\n",
    "\t\tself.cust_po = cust_po\n",
    "\t\tself.end_user_po = end_user_po\n",
    "\t\tself.account_rep = account_rep\n",
    "\t\tself.p_line = p_line\n",
    "\t\tself.td_pn = td_pn\n",
    "\n",
    "\t@staticmethod\n",
    "\tdef keys():\n",
    "\t\treturn ['order_date', 'allocation_date', 'so_number', 'so_line', 'cust_po', 'end_user_po', 'account_rep', 'p_line', 'td_pn', 'manuf_pn']\n",
    "\n",
    "\tdef values(self):\n",
    "\t\treturn self.__dict__\n",
    "\t\n",
    "\tdef __del__(self):\n",
    "\t\t\"This (Magic/Dunder) method deletes the object from memory\"\n",
    "\t\tpass"
   ]
  },
  {
   "cell_type": "code",
   "execution_count": null,
   "metadata": {},
   "outputs": [],
   "source": [
    "import xlrd\n",
    "from datetime import datetime\n",
    "\n",
    "def read_first_workbook_from_excel(file_path):\n",
    "    with open(file_path, 'rb') as file:\n",
    "        binary_data = file.read()\n",
    "    \n",
    "    workbook = xlrd.open_workbook(file_contents=binary_data, on_demand=True)\n",
    "    \n",
    "    worksheet = workbook.sheet_by_index(0)\n",
    "\n",
    "    data = []\n",
    "    \n",
    "    for row in range(1, worksheet.nrows):\n",
    "\n",
    "        order_date = worksheet.cell(row, 0).value\n",
    "        if order_date == '':\n",
    "            order_date = None\n",
    "        else:\n",
    "            order_date = datetime(*xlrd.xldate_as_tuple(order_date, workbook.datemode)).strftime('%Y-%m-%d')\n",
    "        \n",
    "        allocation_date = worksheet.cell(row, 1).value\n",
    "        if allocation_date == '':\n",
    "            allocation_date = None\n",
    "        else:\n",
    "            allocation_date = datetime(*xlrd.xldate_as_tuple(allocation_date, workbook.datemode)).strftime('%Y-%m-%d')\n",
    "        \n",
    "        file_row = FileFormat(\n",
    "            order_date = order_date,\n",
    "            allocation_date = allocation_date,\n",
    "            so_number = worksheet.cell(row, 2).value,\n",
    "            so_line = worksheet.cell(row, 3).value,\n",
    "            cust_po = worksheet.cell(row, 4).value,\n",
    "            end_user_po = worksheet.cell(row, 5).value,\n",
    "            account_rep = worksheet.cell(row, 6).value,\n",
    "            p_line = worksheet.cell(row, 7).value,\n",
    "            td_pn = worksheet.cell(row, 8).value,\n",
    "            manuf_pn = worksheet.cell(row, 9).value\n",
    "        )\n",
    "        \n",
    "        data.append(file_row.values())\n",
    "    \n",
    "    df = pd.DataFrame(data, columns=FileFormat.keys()).astype(str)\n",
    "\n",
    "    return df\n",
    "    \n",
    "# Example usage:\n",
    "file_path = './testing.xls'\n",
    "df = read_first_workbook_from_excel(file_path)\n"
   ]
  },
  {
   "cell_type": "code",
   "execution_count": null,
   "metadata": {},
   "outputs": [],
   "source": [
    "df"
   ]
  },
  {
   "cell_type": "code",
   "execution_count": null,
   "metadata": {},
   "outputs": [],
   "source": [
    "session.close()"
   ]
  },
  {
   "cell_type": "code",
   "execution_count": null,
   "metadata": {},
   "outputs": [],
   "source": []
  }
 ],
 "metadata": {
  "kernelspec": {
   "display_name": "Python 3 (ipykernel)",
   "language": "python",
   "name": "python3"
  },
  "language_info": {
   "codemirror_mode": {
    "name": "ipython",
    "version": 3
   },
   "file_extension": ".py",
   "mimetype": "text/x-python",
   "name": "python",
   "nbconvert_exporter": "python",
   "pygments_lexer": "ipython3",
   "version": "3.10.12"
  },
  "orig_nbformat": 4
 },
 "nbformat": 4,
 "nbformat_minor": 2
}
