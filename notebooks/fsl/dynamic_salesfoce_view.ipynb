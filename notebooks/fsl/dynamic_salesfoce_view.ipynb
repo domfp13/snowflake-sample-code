{
 "cells": [
  {
   "cell_type": "markdown",
   "metadata": {},
   "source": [
    "# Importing libs"
   ]
  },
  {
   "cell_type": "code",
   "execution_count": 35,
   "metadata": {},
   "outputs": [],
   "source": [
    "import pandas as pd\n",
    "import numpy as np\n",
    "from snowflake.snowpark.session import Session\n",
    "from snowflake.snowpark.functions import udf, avg, col\n",
    "from snowflake.snowpark.types import IntegerType, FloatType, StringType, BooleanType\n",
    "from snowflake.snowpark.files import SnowflakeFile\n",
    "import sys\n",
    "sys.path.append('..')\n",
    "from credentials import Credentials"
   ]
  },
  {
   "cell_type": "code",
   "execution_count": 36,
   "metadata": {},
   "outputs": [],
   "source": [
    "cred = Credentials()\n",
    "session = Session.builder.configs(cred.__dict__).create()"
   ]
  },
  {
   "cell_type": "code",
   "execution_count": 37,
   "metadata": {},
   "outputs": [],
   "source": [
    "session.use_role(\"SYSADMIN\")\n",
    "session.use_database(\"ACCOUNTADMIN_MGMT\")\n",
    "session.use_warehouse(\"ACCOUNTADMIN_MGMT\")\n",
    "session.use_schema(\"UTILITIES\")"
   ]
  },
  {
   "cell_type": "markdown",
   "metadata": {},
   "source": [
    "# Selecting from Mapping"
   ]
  },
  {
   "cell_type": "markdown",
   "metadata": {},
   "source": [
    "## Individual table"
   ]
  },
  {
   "cell_type": "code",
   "execution_count": null,
   "metadata": {},
   "outputs": [],
   "source": [
    "# Getting name of the table\n",
    "db_name = 'STITCH'\n",
    "schema_name = 'SALESFORCEQASIT'\n",
    "table_name:str = 'ACCOUNT'"
   ]
  },
  {
   "cell_type": "code",
   "execution_count": null,
   "metadata": {},
   "outputs": [],
   "source": [
    "table_view_mapping = session.sql(f\"SELECT * FROM ACCOUNTADMIN_MGMT.UTILITIES.SALESFORCE_TABLE_VIEW_MAPPING WHERE NAME_SALESFORCE_ENVIRONMENT = '{schema_name}' AND NAME_SALESFORCE_TABLE_ORIGINAL = '{table_name}'\".format(schema_name, table_name)).collect()\n",
    "table_view_mapping_dic = [row.asDict() for row in table_view_mapping][0]\n",
    "table_name = table_view_mapping_dic['NAME_SALESFORCE_TABLE_ORIGINAL']\n",
    "table_for_desc_name = table_view_mapping_dic['NAME_SNOWFLAKE_RESERVED_WORD']\n",
    "view_name = table_view_mapping_dic['NAME_SALESFORCE_VIEW_ALIAS']"
   ]
  },
  {
   "cell_type": "code",
   "execution_count": null,
   "metadata": {},
   "outputs": [],
   "source": [
    "result_describe_table = [row.as_dict() for row in session.sql(f\"DESCRIBE TABLE {db_name}.{schema_name}.{table_for_desc_name};\".format(db_name, schema_name, table_for_desc_name)).collect()]"
   ]
  },
  {
   "cell_type": "code",
   "execution_count": null,
   "metadata": {},
   "outputs": [],
   "source": [
    "df_describe_table = pd.DataFrame(result_describe_table)\n",
    "df_describe_table.drop(columns=['null?', 'default','primary key', 'unique key',\n",
    "       'check', 'expression', 'comment', 'policy name'], inplace=True)"
   ]
  },
  {
   "cell_type": "code",
   "execution_count": null,
   "metadata": {},
   "outputs": [],
   "source": [
    "df_describe_table.head(10)"
   ]
  },
  {
   "cell_type": "markdown",
   "metadata": {},
   "source": [
    "## Stored Procedure sp_create_salesforce_views"
   ]
  },
  {
   "cell_type": "code",
   "execution_count": null,
   "metadata": {},
   "outputs": [],
   "source": [
    "def transform_name(name, type, name_alias):\n",
    "    if isinstance(type, str) and 'VARCHAR' in type:\n",
    "        #return name + '0007'\n",
    "        return f\"CAST(SUBSTR({name},1,10000) AS VARCHAR(10000)) AS {name_alias}\".format(name, name_alias)\n",
    "    else:\n",
    "        return f\"{name} AS {name_alias}\".format(name, name_alias)"
   ]
  },
  {
   "cell_type": "code",
   "execution_count": null,
   "metadata": {},
   "outputs": [],
   "source": [
    "def sp_create_salesforce_views(session: Session, db_name: str, schema_name: str, table_name: str) -> str:\n",
    "\t# Getting name of the table\n",
    "\ttable_view_mapping = session.sql(f\"SELECT * FROM ACCOUNTADMIN_MGMT.UTILITIES.SALESFORCE_TABLE_VIEW_MAPPING WHERE NAME_SALESFORCE_ENVIRONMENT = '{schema_name}' AND NAME_SALESFORCE_TABLE_ORIGINAL = '{table_name}'\".format(schema_name, table_name)).collect()\n",
    "\ttable_view_mapping_dic = [row.asDict() for row in table_view_mapping][0]\n",
    "\ttable_name = table_view_mapping_dic['NAME_SALESFORCE_TABLE_ORIGINAL']\n",
    "\ttable_for_desc_name = table_view_mapping_dic['NAME_SNOWFLAKE_RESERVED_WORD']\n",
    "\tview_name = table_view_mapping_dic['NAME_SALESFORCE_VIEW_ALIAS']\n",
    "\t\n",
    "\t# Getting description of the table\n",
    "\tresult_describe_table = [row.as_dict() for row in session.sql(f\"DESCRIBE TABLE {db_name}.{schema_name}.{table_for_desc_name};\".format(db_name, schema_name, table_for_desc_name)).collect()]\n",
    "\n",
    "\t# Removing unnecessary columns\n",
    "\tdf_describe_table = pd.DataFrame(result_describe_table)\n",
    "\tdf_describe_table.drop(columns=['null?', 'default','primary key', 'unique key',\n",
    "       'check', 'expression', 'comment', 'policy name'], inplace=True)\n",
    "\t\n",
    "\t# Mixing with Mapping Table\n",
    "\tresult_salesforce_mapping = [row.as_dict() for row in session.sql(f\"SELECT NAME_SALESFORCE_ATTRIBUTE, NAME_ALIAS FROM ACCOUNTADMIN_MGMT.UTILITIES.SALESFORCE_MAPPING WHERE NAME_SALESFORCE_OBJECT = '{table_name}'\".format()).collect()]\n",
    "\tdf_salesforce_mapping = pd.DataFrame(result_salesforce_mapping)\n",
    "\n",
    "\tif df_salesforce_mapping.empty:\n",
    "\t\tfinal_df = df_describe_table\n",
    "\t\tfinal_df['NAME_ALIAS'] = final_df['name']\n",
    "\telse:\n",
    "\t\tfinal_df = pd.merge(df_describe_table, df_salesforce_mapping, left_on='name', right_on='NAME_SALESFORCE_ATTRIBUTE', how='left')\n",
    "\t\tfinal_df['NAME_ALIAS'] = final_df.apply(lambda x: x['name'] if pd.isna(x['NAME_ALIAS']) else x['NAME_ALIAS'], axis=1)\n",
    "\n",
    "\t# apply the transform_name function to create a new column called 'name_new'\n",
    "\tfinal_df['name_new'] = final_df.apply(lambda x: transform_name(x['name'], x['type'], x['NAME_ALIAS']), axis=1)\n",
    "\n",
    "\tcolumn_list:list = final_df['name_new'].to_list()\n",
    "\n",
    "\tcolumns_str:str = ', '.join(column_list)\n",
    "\n",
    "\t# append the final result to something like \"CREATE OR REPLACE VIEW {db_name}.{schema_name}}.{table_name}_V AS SELECT {columns_str} FROM {db_name}.{schema_name}.{table_name};\"\n",
    "\tfinal_query:str = f\"CREATE OR REPLACE VIEW {db_name}.{schema_name}.{view_name} AS SELECT {columns_str} FROM {db_name}.{schema_name}.{table_for_desc_name};\"\n",
    "\t\n",
    "\tsession.sql(final_query).collect()\n",
    "\n",
    "\treturn \"SUCCESS\""
   ]
  },
  {
   "cell_type": "code",
   "execution_count": null,
   "metadata": {},
   "outputs": [],
   "source": [
    "# Getting name of the table\n",
    "db_name = 'STITCH'\n",
    "schema_name = 'SALESFORCEFSL3'\n",
    "table_name:str = 'GROUP'"
   ]
  },
  {
   "cell_type": "code",
   "execution_count": null,
   "metadata": {},
   "outputs": [],
   "source": [
    "sp_create_salesforce_views(session, db_name, schema_name, table_name)"
   ]
  },
  {
   "cell_type": "markdown",
   "metadata": {},
   "source": [
    "## Register sp_create_salesforce_views"
   ]
  },
  {
   "cell_type": "code",
   "execution_count": null,
   "metadata": {},
   "outputs": [],
   "source": [
    "session.sproc.register(\n",
    "\tfunc=sp_create_salesforce_views,\n",
    "\tname=\"sp_create_salesforce_views\",\n",
    "\tpackages=[\"snowflake-snowpark-python\", \"pandas\", \"numpy\"],\n",
    "\tis_permanent=True,\n",
    "\tstage_location=\"@ACCOUNTADMIN_MGMT.UTILITIES.ACCOUNTADMIN_MGMT_STAGE\",\n",
    "\tsource_code_display = False,\n",
    "\texecute_as = 'caller',\n",
    "\treplace=True\n",
    ")"
   ]
  },
  {
   "cell_type": "code",
   "execution_count": null,
   "metadata": {},
   "outputs": [],
   "source": [
    "session.call(\"sp_create_salesforce_views\", db_name, schema_name, table_name)"
   ]
  },
  {
   "cell_type": "markdown",
   "metadata": {},
   "source": [
    "# All Tables"
   ]
  },
  {
   "cell_type": "code",
   "execution_count": null,
   "metadata": {},
   "outputs": [],
   "source": [
    "#'SALESFORCEQASIT','SALESFORCEFSL3'"
   ]
  },
  {
   "cell_type": "code",
   "execution_count": 44,
   "metadata": {},
   "outputs": [],
   "source": [
    "def sp_run_dynamic_salesforce_views(session: Session) -> str:\n",
    "    database:str = 'STITCH'\n",
    "\n",
    "    for schema in ['SALESFORCEQASIT']:\n",
    "        print(f'------->{schema}'.format(schema))\n",
    "        result = session.sql(f\"SHOW TABLES IN STITCH.{schema}\".format(schema)).collect()\n",
    "        df = pd.DataFrame(result)\n",
    "        tables:list = df['name'].to_list()\n",
    "        for table in tables:\n",
    "            if table not in ['_SDC_REJECTED']:\n",
    "                print(table)\n",
    "                session.call(\"sp_create_salesforce_views\", database, schema, table)\n",
    "    \n",
    "    return \"SUCCESS\""
   ]
  },
  {
   "cell_type": "code",
   "execution_count": 45,
   "metadata": {},
   "outputs": [
    {
     "name": "stdout",
     "output_type": "stream",
     "text": [
      "------->SALESFORCEQASIT\n",
      "ACCOUNT\n",
      "ACCOUNTCONTACTRELATION\n",
      "ASSET\n",
      "ASSIGNEDRESOURCE\n",
      "ATTACHMENT\n",
      "BUNDLE_SECTION__C\n",
      "BUYERGROUP\n",
      "BUYERGROUPMEMBER\n",
      "CASE\n",
      "CASEARTICLE\n",
      "CASECOMMENT\n",
      "COMMERCEENTITLEMENTBUYERGROUP\n",
      "COMMERCEENTITLEMENTPOLICY\n",
      "COMMERCEENTITLEMENTPRODUCT\n",
      "CONTACT\n",
      "CONTRACTLINEITEM\n",
      "ENTITLEMENT\n",
      "FSM_AUTO_ENTITLEMENT_MATRIX__C\n",
      "FSM_BILLING_SCHEDULE__C\n",
      "FSM_CASE_CONSOLIDATED_COMMENT__C\n",
      "FSM_CODE_REPOSITORY__C\n",
      "FSM_ENTITLEMENT_SERVICE_ACTIVITY__C\n",
      "FSM_ESR_CONFIG_MASTER__C\n",
      "FSM_ESR_INTERFACE_FLAG__C\n",
      "FSM_ESR_MAPPING__C\n",
      "FSM_PROJECT_AND_TRANSITION__C\n",
      "FSM_REPORTING_TAG__C\n",
      "FSM_SERVICE_ACTIVITY__C\n",
      "GROUP\n",
      "HOLIDAY\n",
      "LOCATION\n",
      "OPERATINGHOURS\n",
      "PRICEBOOK2\n",
      "PRICEBOOKENTRY\n",
      "PRODUCT2\n",
      "PRODUCTCATEGORY\n",
      "PRODUCTCATEGORYPRODUCT\n",
      "PRODUCTITEM\n",
      "PRODUCTREQUEST\n",
      "PRODUCT_GROUP__C\n",
      "PRODUCT_OPTION__C\n",
      "SERVICEAPPOINTMENT\n",
      "SERVICECONTRACT\n",
      "SERVICERESOURCE\n",
      "SERVICETERRITORY\n",
      "SERVICETERRITORYMEMBER\n",
      "USER\n",
      "WORKORDER\n",
      "WORKORDERLINEITEM\n"
     ]
    },
    {
     "data": {
      "text/plain": [
       "'SUCCESS'"
      ]
     },
     "execution_count": 45,
     "metadata": {},
     "output_type": "execute_result"
    }
   ],
   "source": [
    "sp_run_dynamic_salesforce_views(session=session)"
   ]
  },
  {
   "cell_type": "markdown",
   "metadata": {},
   "source": [
    "# Multiple processing"
   ]
  },
  {
   "cell_type": "code",
   "execution_count": 52,
   "metadata": {},
   "outputs": [],
   "source": [
    "import multiprocessing as mp\n",
    "\n",
    "def process_table(database, schema, table):\n",
    "    if table not in ['_SDC_REJECTED']:\n",
    "        print(table)\n",
    "        session.call(\"sp_create_salesforce_views\", database, schema, table)\n",
    "\n",
    "def sp_run_dynamic_salesforce_views(session: Session) -> str:\n",
    "    database:str = 'STITCH'\n",
    "\n",
    "    for schema in ['SALESFORCEQASIT']:\n",
    "        print(f'------->{schema}'.format(schema))\n",
    "        result = session.sql(f\"SHOW TABLES IN STITCH.{schema}\".format(schema)).collect()\n",
    "        df = pd.DataFrame(result)\n",
    "        tables:list = df['name'].to_list()\n",
    "        pool = mp.Pool(processes=4)\n",
    "        for table in tables:\n",
    "            pool.apply_async(process_table, args=(database, schema, table))\n",
    "        pool.close()\n",
    "        pool.join()\n",
    "    \n",
    "    return \"SUCCESS\""
   ]
  },
  {
   "cell_type": "code",
   "execution_count": 53,
   "metadata": {},
   "outputs": [
    {
     "name": "stdout",
     "output_type": "stream",
     "text": [
      "------->SALESFORCEQASIT\n",
      "ACCOUNTCONTACTRELATIONASSETASSIGNEDRESOURCE\n",
      "ACCOUNT\n",
      "\n",
      "\n",
      "ATTACHMENT\n",
      "BUNDLE_SECTION__C\n",
      "BUYERGROUP\n",
      "BUYERGROUPMEMBER\n",
      "CASE\n",
      "CASEARTICLE\n",
      "CASECOMMENT\n",
      "COMMERCEENTITLEMENTBUYERGROUP\n",
      "COMMERCEENTITLEMENTPOLICY\n",
      "COMMERCEENTITLEMENTPRODUCT\n",
      "CONTACT\n",
      "CONTRACTLINEITEM\n",
      "ENTITLEMENT\n",
      "FSM_AUTO_ENTITLEMENT_MATRIX__C\n",
      "FSM_BILLING_SCHEDULE__C\n",
      "FSM_CASE_CONSOLIDATED_COMMENT__C\n",
      "FSM_CODE_REPOSITORY__C\n",
      "FSM_ENTITLEMENT_SERVICE_ACTIVITY__C\n",
      "FSM_ESR_CONFIG_MASTER__C\n",
      "FSM_ESR_INTERFACE_FLAG__C\n",
      "FSM_ESR_MAPPING__C\n",
      "FSM_PROJECT_AND_TRANSITION__C\n",
      "FSM_REPORTING_TAG__C\n",
      "FSM_SERVICE_ACTIVITY__C\n",
      "GROUP\n",
      "HOLIDAY\n",
      "LOCATION\n",
      "OPERATINGHOURS\n",
      "PRICEBOOK2\n",
      "PRICEBOOKENTRY\n",
      "PRODUCT2\n",
      "PRODUCTCATEGORY\n",
      "PRODUCTCATEGORYPRODUCT\n",
      "PRODUCTITEM\n",
      "PRODUCTREQUEST\n",
      "PRODUCT_GROUP__C\n",
      "PRODUCT_OPTION__C\n",
      "SERVICEAPPOINTMENT\n",
      "SERVICECONTRACT\n",
      "SERVICERESOURCE\n",
      "SERVICETERRITORY\n",
      "SERVICETERRITORYMEMBER\n",
      "USER\n",
      "WORKORDER\n",
      "WORKORDERLINEITEM\n"
     ]
    },
    {
     "data": {
      "text/plain": [
       "'SUCCESS'"
      ]
     },
     "execution_count": 53,
     "metadata": {},
     "output_type": "execute_result"
    }
   ],
   "source": [
    "sp_run_dynamic_salesforce_views(session=session)"
   ]
  },
  {
   "cell_type": "markdown",
   "metadata": {},
   "source": [
    "# Creating stored procedure"
   ]
  },
  {
   "cell_type": "code",
   "execution_count": null,
   "metadata": {},
   "outputs": [],
   "source": [
    "session.sproc.register(\n",
    "\tfunc=sp_run_dynamic_salesforce_views,\n",
    "\tname=\"sp_run_dynamic_salesforce_views\",\n",
    "\tpackages=[\"snowflake-snowpark-python\", \"pandas\", \"numpy\"],\n",
    "\tis_permanent=True,\n",
    "\tstage_location=\"@ACCOUNTADMIN_MGMT.UTILITIES.ACCOUNTADMIN_MGMT_STAGE\",\n",
    "\tsource_code_display = False,\n",
    "\texecute_as = 'caller',\n",
    "\treplace=True\n",
    ")"
   ]
  },
  {
   "cell_type": "code",
   "execution_count": null,
   "metadata": {},
   "outputs": [],
   "source": [
    "session.call(\"sp_run_dynamic_salesforce_views\")"
   ]
  },
  {
   "cell_type": "markdown",
   "metadata": {},
   "source": [
    "## Creating Task"
   ]
  },
  {
   "cell_type": "code",
   "execution_count": 27,
   "metadata": {},
   "outputs": [],
   "source": [
    "session.use_role(\"SYSADMIN\")\n",
    "session.use_database(\"ACCOUNTADMIN_MGMT\")\n",
    "session.use_warehouse(\"ACCOUNTADMIN_MGMT\")\n",
    "session.use_schema(\"UTILITIES\")"
   ]
  },
  {
   "cell_type": "code",
   "execution_count": 28,
   "metadata": {},
   "outputs": [],
   "source": [
    "task_run_dynamic_salesforce_views = \"\"\"\n",
    "CREATE OR REPLACE TASK ACCOUNTADMIN_MGMT.UTILITIES.TASK_RUN_DYNAMIC_SALESFORCE_VIEWS\n",
    "    WAREHOUSE = 'ACCOUNTADMIN_MGMT'\n",
    "    SCHEDULE = 'USING CRON 0 */5 * * * CET'\n",
    "    ALLOW_OVERLAPPING_EXECUTION = FALSE\n",
    "    COMMENT = 'Run dynamic salesforce views'\n",
    "AS\n",
    "        CALL ACCOUNTADMIN_MGMT.UTILITIES.SP_RUN_DYNAMIC_SALESFORCE_VIEWS();\n",
    "\"\"\""
   ]
  },
  {
   "cell_type": "code",
   "execution_count": 29,
   "metadata": {},
   "outputs": [
    {
     "data": {
      "text/plain": [
       "[Row(status='Task TASK_RUN_DYNAMIC_SALESFORCE_VIEWS successfully created.')]"
      ]
     },
     "execution_count": 29,
     "metadata": {},
     "output_type": "execute_result"
    }
   ],
   "source": [
    "session.sql(task_run_dynamic_salesforce_views).collect()"
   ]
  },
  {
   "cell_type": "code",
   "execution_count": 30,
   "metadata": {},
   "outputs": [
    {
     "data": {
      "text/plain": [
       "[Row(status='Statement executed successfully.')]"
      ]
     },
     "execution_count": 30,
     "metadata": {},
     "output_type": "execute_result"
    }
   ],
   "source": [
    "session.sql(\"ALTER TASK ACCOUNTADMIN_MGMT.UTILITIES.TASK_RUN_DYNAMIC_SALESFORCE_VIEWS RESUME;\").collect()"
   ]
  },
  {
   "cell_type": "code",
   "execution_count": null,
   "metadata": {},
   "outputs": [],
   "source": [
    "session.sql(\"EXECUTE TASK ACCOUNTADMIN_MGMT.UTILITIES.TASK_RUN_DYNAMIC_SALESFORCE_VIEWS;\").collect()"
   ]
  },
  {
   "cell_type": "code",
   "execution_count": null,
   "metadata": {},
   "outputs": [],
   "source": [
    "session.close()"
   ]
  },
  {
   "cell_type": "code",
   "execution_count": null,
   "metadata": {},
   "outputs": [],
   "source": []
  }
 ],
 "metadata": {
  "kernelspec": {
   "display_name": "snowpark",
   "language": "python",
   "name": "python3"
  },
  "language_info": {
   "codemirror_mode": {
    "name": "ipython",
    "version": 3
   },
   "file_extension": ".py",
   "mimetype": "text/x-python",
   "name": "python",
   "nbconvert_exporter": "python",
   "pygments_lexer": "ipython3",
   "version": "3.10.12"
  },
  "orig_nbformat": 4
 },
 "nbformat": 4,
 "nbformat_minor": 2
}
