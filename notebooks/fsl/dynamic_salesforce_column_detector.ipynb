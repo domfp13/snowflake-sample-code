{
 "cells": [
  {
   "cell_type": "markdown",
   "metadata": {},
   "source": [
    "# Coding"
   ]
  },
  {
   "cell_type": "code",
   "execution_count": 51,
   "metadata": {},
   "outputs": [],
   "source": [
    "import pandas as pd\n",
    "import numpy as np\n",
    "from snowflake.snowpark.session import Session\n",
    "from snowflake.snowpark.functions import udf, avg, col\n",
    "from snowflake.snowpark.types import IntegerType, FloatType, StringType, BooleanType\n",
    "from snowflake.snowpark.files import SnowflakeFile\n",
    "import sys\n",
    "import logging\n",
    "sys.path.append('..')\n",
    "from credentials import Credentials"
   ]
  },
  {
   "cell_type": "code",
   "execution_count": 52,
   "metadata": {},
   "outputs": [],
   "source": [
    "cred = Credentials()\n",
    "session = Session.builder.configs(cred.__dict__).create()"
   ]
  },
  {
   "cell_type": "code",
   "execution_count": 53,
   "metadata": {},
   "outputs": [],
   "source": [
    "session.use_role(\"SYSADMIN\")\n",
    "session.use_database(\"ACCOUNTADMIN_MGMT\")\n",
    "session.use_warehouse(\"ACCOUNTADMIN_MGMT\")\n",
    "session.use_schema(\"UTILITIES\")"
   ]
  },
  {
   "cell_type": "code",
   "execution_count": 54,
   "metadata": {},
   "outputs": [],
   "source": [
    "def get_tables_with_missing_columns_in_mapping(session: Session, schema_name:str) -> list:\n",
    "\t\"\"\"\n",
    "        Args:\n",
    "            schema_name: schema name\n",
    "        Returns:\n",
    "            list of tables with missing columns in salesforce column mapping table\n",
    "    \"\"\"\n",
    "\tmissing_columns_table_list = session.sql(f\"\"\"SELECT DISTINCT A.TABLE_NAME\n",
    "FROM (\n",
    "    SELECT C.TABLE_NAME, C.COLUMN_NAME\n",
    "    FROM STITCH.INFORMATION_SCHEMA.COLUMNS AS C\n",
    "    INNER JOIN (\n",
    "        SELECT TABLE_SCHEMA, TABLE_NAME FROM STITCH.INFORMATION_SCHEMA.TABLES WHERE TABLE_SCHEMA = '{schema_name}' AND TABLE_TYPE = 'BASE TABLE' AND TABLE_NAME != '_SDC_REJECTED'\n",
    "    ) AS T\n",
    "    ON C.TABLE_SCHEMA = T.TABLE_SCHEMA AND C.TABLE_NAME = T.TABLE_NAME\n",
    "    WHERE C.TABLE_SCHEMA = '{schema_name}'\n",
    ") AS A\n",
    "LEFT JOIN (\n",
    "    SELECT NAME_SALESFORCE_OBJECT, NAME_SALESFORCE_ATTRIBUTE\n",
    "    FROM ACCOUNTADMIN_MGMT.UTILITIES.SALESFORCE_COLUMN_MAPPING\n",
    ") AS B\n",
    "ON A.TABLE_NAME = B.NAME_SALESFORCE_OBJECT AND A.COLUMN_NAME = B.NAME_SALESFORCE_ATTRIBUTE\n",
    "WHERE B.NAME_SALESFORCE_ATTRIBUTE IS NULL;\"\"\".format(schema_name)).collect()\n",
    "\tif missing_columns_table_list:\n",
    "\t\t# return list of values from result set\n",
    "\t\treturn [row.asDict().get('TABLE_NAME') for row in missing_columns_table_list]\n",
    "\telse:\n",
    "\t\treturn []"
   ]
  },
  {
   "cell_type": "code",
   "execution_count": 56,
   "metadata": {},
   "outputs": [
    {
     "data": {
      "text/plain": [
       "['TIMESHEETENTRY', 'WORKORDER', 'SERVICEAPPOINTMENT']"
      ]
     },
     "execution_count": 56,
     "metadata": {},
     "output_type": "execute_result"
    }
   ],
   "source": [
    "# Testing function\n",
    "get_tables_with_missing_columns_in_mapping(session=session, schema_name='SALESFORCEQASIT')"
   ]
  },
  {
   "cell_type": "code",
   "execution_count": 62,
   "metadata": {},
   "outputs": [],
   "source": [
    "def get_columns_from_tables_with_missing_columns(session: Session, schema_name:str, table_name:str) -> list:\n",
    "\t\"\"\"\n",
    "\t\tArgs:\n",
    "\t\t\tschema_name: schema name\n",
    "\t\t\ttable_name: table name\n",
    "\t\tReturns:\n",
    "\t\t\tlist of columns from tables with missing columns in salesforce column mapping table\n",
    "\t\"\"\"\n",
    "\t\n",
    "\tcolumns_from_missing_columns_table_list = session.sql(f\"\"\"SELECT A.COLUMN_NAME, LEN(A.COLUMN_NAME) AS COLUMN_NAME_LENGTH\n",
    "FROM (\n",
    "    SELECT COLUMN_NAME\n",
    "    FROM STITCH.INFORMATION_SCHEMA.COLUMNS\n",
    "    WHERE TABLE_SCHEMA = 'SALESFORCEQASIT'\n",
    "      AND TABLE_NAME = '{table_name}'\n",
    ") AS A\n",
    "LEFT JOIN (\n",
    "    SELECT NAME_SALESFORCE_ATTRIBUTE\n",
    "    FROM ACCOUNTADMIN_MGMT.UTILITIES.SALESFORCE_COLUMN_MAPPING\n",
    "    WHERE NAME_SALESFORCE_OBJECT = '{table_name}'\n",
    ") AS B\n",
    "ON A.COLUMN_NAME = B.NAME_SALESFORCE_ATTRIBUTE\n",
    "WHERE B.NAME_SALESFORCE_ATTRIBUTE IS NULL\n",
    "ORDER BY 2 DESC;\"\"\".format(table_name)).collect()\n",
    "\treturn [row.asDict() for row in columns_from_missing_columns_table_list]"
   ]
  },
  {
   "cell_type": "code",
   "execution_count": 64,
   "metadata": {},
   "outputs": [
    {
     "data": {
      "text/plain": [
       "[{'COLUMN_NAME': 'FSM_PREVENT_STATUS_CHANGE_TO_CANCEL_FLAG__C',\n",
       "  'COLUMN_NAME_LENGTH': 43}]"
      ]
     },
     "execution_count": 64,
     "metadata": {},
     "output_type": "execute_result"
    }
   ],
   "source": [
    "# Testing function\n",
    "get_columns_from_tables_with_missing_columns(session=session, schema_name='SALESFORCEQASIT', table_name='SERVICEAPPOINTMENT')"
   ]
  },
  {
   "cell_type": "code",
   "execution_count": 65,
   "metadata": {},
   "outputs": [],
   "source": [
    "def insert_large_columns_into_table(session: Session, table_name:str, column_name:str, column_name_length:int) -> None:\n",
    "\t\"\"\"\n",
    "\t\tArgs:\n",
    "\t\t\ttable_name: table name\n",
    "\t\t\tcolumn_name: column name\n",
    "\t\tReturns:\n",
    "\t\t\tNone\n",
    "\t\"\"\"\n",
    "\tsession.sql(f\"\"\"MERGE INTO ACCOUNTADMIN_MGMT.UTILITIES.SALESFORCE_LARGE_COLUMN_MAPPING AS TARGET USING (\n",
    "    \t\t\t\tSELECT '{table_name}' AS TABLE_NAME, '{column_name}' AS COLUMN_NAME, {column_name_length} AS COLUMN_NAME_LENGTH\n",
    "\t\t\t\t\t) AS SOURCE ON TARGET.TABLE_NAME = SOURCE.TABLE_NAME AND TARGET.COLUMN_NAME = SOURCE.COLUMN_NAME\n",
    "\t\t\t\t\tWHEN MATCHED THEN UPDATE SET TARGET.COLUMN_NAME_LENGTH = SOURCE.COLUMN_NAME_LENGTH\n",
    "\t\t\t\t\tWHEN NOT MATCHED THEN INSERT (TABLE_NAME, COLUMN_NAME, COLUMN_NAME_LENGTH) VALUES (SOURCE.TABLE_NAME, SOURCE.COLUMN_NAME, SOURCE.COLUMN_NAME_LENGTH);\n",
    "\t\t\t\t\t\"\"\".format(table_name, column_name)).collect()"
   ]
  },
  {
   "cell_type": "code",
   "execution_count": null,
   "metadata": {},
   "outputs": [],
   "source": [
    "# Testing function\n",
    "# insert_large_columns_into_table(session=session, table_name='SERVICEAPPOINTMENT', column_name='FSM_PREVENT_STATUS_CHANGE_TO_CANCEL_FLAG__C', column_name_length=43)"
   ]
  },
  {
   "cell_type": "code",
   "execution_count": 66,
   "metadata": {},
   "outputs": [],
   "source": [
    "def insert_small_columns_into_table(session: Session, table_name:str, column_name:str) -> None:\n",
    "\t\"\"\"\n",
    "\t\tArgs:\n",
    "\t\t\ttable_name: table name\n",
    "\t\t\tcolumn_name: column name\n",
    "\t\tReturns:\n",
    "\t\t\tNone\n",
    "\t\"\"\"\n",
    "\tsession.sql(f\"\"\"INSERT INTO ACCOUNTADMIN_MGMT.UTILITIES.SALESFORCE_COLUMN_MAPPING (NAME_SALESFORCE_OBJECT, NAME_SALESFORCE_ATTRIBUTE, NAME_ALIAS) \n",
    "\t\t\t \t\tVALUES ('{table_name}','{column_name}','{column_name}');\"\"\".format(table_name, column_name)).collect()"
   ]
  },
  {
   "cell_type": "code",
   "execution_count": 67,
   "metadata": {},
   "outputs": [],
   "source": [
    "def send_notification_email(session: Session) -> None:\n",
    "\t\"\"\"\n",
    "\t\tArgs:\n",
    "\t\t\tNone\n",
    "\t\tReturns:\n",
    "\t\t\tNone\n",
    "\t\"\"\"\n",
    "\tsession.sql(f\"\"\"CALL SYSTEM$SEND_EMAIL('NOTIFICATION_INTEGRATION_ADMIN','luis.fuentes@compucom.com',\n",
    "    'SALESFORCE REPLICATION: Large Column Detected',\n",
    "    'Please check the following table for large columns: ACCOUNTADMIN_MGMT.UTILITIES.SALESFORCE_LARGE_COLUMN_MAPPING');\"\"\").collect()\n"
   ]
  },
  {
   "cell_type": "code",
   "execution_count": 70,
   "metadata": {},
   "outputs": [],
   "source": [
    "def sp_dynamic_salesforce_column_detector(session: Session) -> str:\n",
    "\tfor schema_name in ['SALESFORCEQASIT']:\n",
    "\t\tprint(f\"->{schema_name}\")\n",
    "\t\t# Getting tables with missing columns\n",
    "\t\ttables_with_missing_columns_in_mapping:list = get_tables_with_missing_columns_in_mapping(session=session,schema_name=schema_name)\n",
    "\t\t\n",
    "\t\t# if empty list then no missing columns, exist function with success message\n",
    "\t\tif not tables_with_missing_columns_in_mapping:\n",
    "\t\t\treturn \"No missing columns in salesforce column mapping table\"\n",
    "\t\t\n",
    "\t\tlist_of_table_names:str = []\n",
    "\t\t\n",
    "\t\t# if not empty list then get tables from tables list with missing columns\n",
    "\t\tfor table_name in tables_with_missing_columns_in_mapping:\n",
    "\t\t\tprint(f\"--->{table_name}\")\n",
    "\t\t\t# Getting columns from tables with missing columns\n",
    "\t\t\tcolumns_from_tables_with_missing_columns:list = get_columns_from_tables_with_missing_columns(session=session, schema_name=schema_name, table_name=table_name)\n",
    "\t\t\t# Transform list of dictionaries to pandas DataFrame\n",
    "\t\t\tcolumns_from_tables_with_missing_columns_df:pd.DataFrame = pd.DataFrame(columns_from_tables_with_missing_columns)\n",
    "\t\t\t# Convert 'COLUMN_NAME_LENGTH' to int\n",
    "\t\t\tcolumns_from_tables_with_missing_columns_df['COLUMN_NAME_LENGTH'] = columns_from_tables_with_missing_columns_df['COLUMN_NAME_LENGTH'].astype(int)\n",
    "\t\t\t\n",
    "\t\t\t# CASE 1: Getting columns with length greater than 30\n",
    "\t\t\tcolumns_from_tables_with_missing_columns_list_tuples:list = list(columns_from_tables_with_missing_columns_df[columns_from_tables_with_missing_columns_df['COLUMN_NAME_LENGTH'] > 30].itertuples(index=False, name=None))\n",
    "\t\t\t# Inserting large columns into table\n",
    "\t\t\tfor column_name, column_name_length in columns_from_tables_with_missing_columns_list_tuples:\n",
    "\t\t\t\tinsert_large_columns_into_table(session=session, table_name=table_name, column_name=column_name, column_name_length=column_name_length)\n",
    "\t\t\t\tlist_of_table_names.append(table_name)\n",
    "\t\t\t\t\n",
    "\t\t\t# CASE 2: Getting columns with length less than 30\n",
    "\t\t\tcolumns_from_tables_with_missing_columns_list_tuples:list = list(columns_from_tables_with_missing_columns_df[columns_from_tables_with_missing_columns_df['COLUMN_NAME_LENGTH'] <= 30].itertuples(index=False, name=None))\n",
    "\t\t\t# Inserting small columns into table\n",
    "\t\t\tfor column_name, column_name_length in columns_from_tables_with_missing_columns_list_tuples:\n",
    "\t\t\t\tinsert_small_columns_into_table(session=session, table_name=table_name, column_name=column_name)\n",
    "\t\t\t\n",
    "\t\t# if list of table names is not empty then send notification email\n",
    "\t\tif list_of_table_names:\n",
    "\t\t\tsend_notification_email(session=session)\n",
    "\t\t\treturn f\"Missing columns in salesforce column mapping table for tables: {list_of_table_names}\"\n"
   ]
  },
  {
   "cell_type": "code",
   "execution_count": 71,
   "metadata": {},
   "outputs": [
    {
     "name": "stdout",
     "output_type": "stream",
     "text": [
      "->SALESFORCEQASIT\n",
      "--->TIMESHEETENTRY\n",
      "--->WORKORDER\n",
      "--->SERVICEAPPOINTMENT\n"
     ]
    },
    {
     "data": {
      "text/plain": [
       "\"Missing columns in salesforce column mapping table for tables: ['TIMESHEETENTRY', 'WORKORDER', 'SERVICEAPPOINTMENT']\""
      ]
     },
     "execution_count": 71,
     "metadata": {},
     "output_type": "execute_result"
    }
   ],
   "source": [
    "sp_dynamic_salesforce_column_detector(session=session)"
   ]
  },
  {
   "cell_type": "markdown",
   "metadata": {},
   "source": [
    "# Register procedure"
   ]
  },
  {
   "cell_type": "code",
   "execution_count": 72,
   "metadata": {},
   "outputs": [
    {
     "data": {
      "text/plain": [
       "<snowflake.snowpark.stored_procedure.StoredProcedure at 0xffff36fa37c0>"
      ]
     },
     "execution_count": 72,
     "metadata": {},
     "output_type": "execute_result"
    }
   ],
   "source": [
    "session.sproc.register(\n",
    "\tfunc = sp_dynamic_salesforce_column_detector,\n",
    "\tname = \"sp_dynamic_salesforce_column_detector\",\n",
    "\tpackages = [\"snowflake-snowpark-python\", \"pandas\", \"numpy\"],\n",
    "\tis_permanent = True,\n",
    "\tstage_location = \"@ACCOUNTADMIN_MGMT.UTILITIES.ACCOUNTADMIN_MGMT_STAGE\",\n",
    "\tsource_code_display = False,\n",
    "\texecute_as = 'caller',\n",
    "\treplace=True\n",
    ")"
   ]
  },
  {
   "cell_type": "code",
   "execution_count": 73,
   "metadata": {},
   "outputs": [
    {
     "data": {
      "text/plain": [
       "\"Missing columns in salesforce column mapping table for tables: ['TIMESHEETENTRY', 'WORKORDER', 'SERVICEAPPOINTMENT']\""
      ]
     },
     "execution_count": 73,
     "metadata": {},
     "output_type": "execute_result"
    }
   ],
   "source": [
    "# Calling stored Procedure\n",
    "session.call(\"sp_dynamic_salesforce_column_detector\")"
   ]
  },
  {
   "cell_type": "markdown",
   "metadata": {},
   "source": [
    "# Creating Task"
   ]
  },
  {
   "cell_type": "code",
   "execution_count": 74,
   "metadata": {},
   "outputs": [],
   "source": [
    "session.use_role(\"SYSADMIN\")\n",
    "session.use_database(\"ACCOUNTADMIN_MGMT\")\n",
    "session.use_warehouse(\"ACCOUNTADMIN_MGMT\")\n",
    "session.use_schema(\"UTILITIES\")"
   ]
  },
  {
   "cell_type": "code",
   "execution_count": 75,
   "metadata": {},
   "outputs": [],
   "source": [
    "task_run_dynamic_salesforce_column_detector = \"\"\"\n",
    "CREATE OR REPLACE TASK ACCOUNTADMIN_MGMT.UTILITIES.TASK_RUN_DYNAMIC_SALESFORCE_COLUMN_DETECTOR\n",
    "    WAREHOUSE = 'ACCOUNTADMIN_MGMT'\n",
    "    SCHEDULE = 'USING CRON 0 */5 * * * CET'\n",
    "    ALLOW_OVERLAPPING_EXECUTION = FALSE\n",
    "    COMMENT = 'Run dynamic selesforce_column_detector stored procedure every 5 hours'\n",
    "AS\n",
    "        CALL ACCOUNTADMIN_MGMT.UTILITIES.SP_DYNAMIC_SALESFORCE_COLUMN_DETECTOR();\n",
    "\"\"\""
   ]
  },
  {
   "cell_type": "code",
   "execution_count": 76,
   "metadata": {},
   "outputs": [
    {
     "data": {
      "text/plain": [
       "[Row(status='Task TASK_RUN_DYNAMIC_SALESFORCE_COLUMN_DETECTOR successfully created.')]"
      ]
     },
     "execution_count": 76,
     "metadata": {},
     "output_type": "execute_result"
    }
   ],
   "source": [
    "session.sql(task_run_dynamic_salesforce_column_detector).collect()"
   ]
  },
  {
   "cell_type": "code",
   "execution_count": 81,
   "metadata": {},
   "outputs": [
    {
     "data": {
      "text/plain": [
       "[Row(status='Statement executed successfully.')]"
      ]
     },
     "execution_count": 81,
     "metadata": {},
     "output_type": "execute_result"
    }
   ],
   "source": [
    "session.sql(\"ALTER TASK ACCOUNTADMIN_MGMT.UTILITIES.TASK_RUN_DYNAMIC_SALESFORCE_COLUMN_DETECTOR RESUME;\").collect()"
   ]
  },
  {
   "cell_type": "code",
   "execution_count": 47,
   "metadata": {},
   "outputs": [],
   "source": [
    "session.close()"
   ]
  },
  {
   "cell_type": "code",
   "execution_count": null,
   "metadata": {},
   "outputs": [],
   "source": []
  }
 ],
 "metadata": {
  "kernelspec": {
   "display_name": "base",
   "language": "python",
   "name": "python3"
  },
  "language_info": {
   "codemirror_mode": {
    "name": "ipython",
    "version": 3
   },
   "file_extension": ".py",
   "mimetype": "text/x-python",
   "name": "python",
   "nbconvert_exporter": "python",
   "pygments_lexer": "ipython3",
   "version": "3.10.9"
  }
 },
 "nbformat": 4,
 "nbformat_minor": 2
}
