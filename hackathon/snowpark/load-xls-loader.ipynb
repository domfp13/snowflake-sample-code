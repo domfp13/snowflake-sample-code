{
 "cells": [
  {
   "cell_type": "code",
   "execution_count": 2,
   "metadata": {},
   "outputs": [
    {
     "ename": "ModuleNotFoundError",
     "evalue": "No module named 'snowflake'",
     "output_type": "error",
     "traceback": [
      "\u001b[0;31m---------------------------------------------------------------------------\u001b[0m",
      "\u001b[0;31mModuleNotFoundError\u001b[0m                       Traceback (most recent call last)",
      "\u001b[1;32m/workspaces/snowflake-sample-code/hackathon/snowpark/load-xls-loader.ipynb Cell 1\u001b[0m line \u001b[0;36m2\n\u001b[1;32m      <a href='vscode-notebook-cell://dev-container%2B7b22686f737450617468223a222f55736572732f65706c6174612f446576656c6f7065722f706572736f6e616c2f736e6f77666c616b652d73616d706c652d636f6465222c226c6f63616c446f636b6572223a66616c73652c2273657474696e6773223a7b22636f6e74657874223a226465736b746f702d6c696e7578227d2c22636f6e66696746696c65223a7b22246d6964223a312c22667350617468223a222f55736572732f65706c6174612f446576656c6f7065722f706572736f6e616c2f736e6f77666c616b652d73616d706c652d636f64652f2e646576636f6e7461696e65722f646576636f6e7461696e65722e6a736f6e222c2265787465726e616c223a2266696c653a2f2f2f55736572732f65706c6174612f446576656c6f7065722f706572736f6e616c2f736e6f77666c616b652d73616d706c652d636f64652f2e646576636f6e7461696e65722f646576636f6e7461696e65722e6a736f6e222c2270617468223a222f55736572732f65706c6174612f446576656c6f7065722f706572736f6e616c2f736e6f77666c616b652d73616d706c652d636f64652f2e646576636f6e7461696e65722f646576636f6e7461696e65722e6a736f6e222c22736368656d65223a2266696c65227d7d/workspaces/snowflake-sample-code/hackathon/snowpark/load-xls-loader.ipynb#W0sdnNjb2RlLXJlbW90ZQ%3D%3D?line=0'>1</a>\u001b[0m \u001b[39mimport\u001b[39;00m \u001b[39mpandas\u001b[39;00m \u001b[39mas\u001b[39;00m \u001b[39mpd\u001b[39;00m\n\u001b[0;32m----> <a href='vscode-notebook-cell://dev-container%2B7b22686f737450617468223a222f55736572732f65706c6174612f446576656c6f7065722f706572736f6e616c2f736e6f77666c616b652d73616d706c652d636f6465222c226c6f63616c446f636b6572223a66616c73652c2273657474696e6773223a7b22636f6e74657874223a226465736b746f702d6c696e7578227d2c22636f6e66696746696c65223a7b22246d6964223a312c22667350617468223a222f55736572732f65706c6174612f446576656c6f7065722f706572736f6e616c2f736e6f77666c616b652d73616d706c652d636f64652f2e646576636f6e7461696e65722f646576636f6e7461696e65722e6a736f6e222c2265787465726e616c223a2266696c653a2f2f2f55736572732f65706c6174612f446576656c6f7065722f706572736f6e616c2f736e6f77666c616b652d73616d706c652d636f64652f2e646576636f6e7461696e65722f646576636f6e7461696e65722e6a736f6e222c2270617468223a222f55736572732f65706c6174612f446576656c6f7065722f706572736f6e616c2f736e6f77666c616b652d73616d706c652d636f64652f2e646576636f6e7461696e65722f646576636f6e7461696e65722e6a736f6e222c22736368656d65223a2266696c65227d7d/workspaces/snowflake-sample-code/hackathon/snowpark/load-xls-loader.ipynb#W0sdnNjb2RlLXJlbW90ZQ%3D%3D?line=1'>2</a>\u001b[0m \u001b[39mfrom\u001b[39;00m \u001b[39msnowflake\u001b[39;00m\u001b[39m.\u001b[39;00m\u001b[39msnowpark\u001b[39;00m\u001b[39m.\u001b[39;00m\u001b[39msession\u001b[39;00m \u001b[39mimport\u001b[39;00m Session\n\u001b[1;32m      <a href='vscode-notebook-cell://dev-container%2B7b22686f737450617468223a222f55736572732f65706c6174612f446576656c6f7065722f706572736f6e616c2f736e6f77666c616b652d73616d706c652d636f6465222c226c6f63616c446f636b6572223a66616c73652c2273657474696e6773223a7b22636f6e74657874223a226465736b746f702d6c696e7578227d2c22636f6e66696746696c65223a7b22246d6964223a312c22667350617468223a222f55736572732f65706c6174612f446576656c6f7065722f706572736f6e616c2f736e6f77666c616b652d73616d706c652d636f64652f2e646576636f6e7461696e65722f646576636f6e7461696e65722e6a736f6e222c2265787465726e616c223a2266696c653a2f2f2f55736572732f65706c6174612f446576656c6f7065722f706572736f6e616c2f736e6f77666c616b652d73616d706c652d636f64652f2e646576636f6e7461696e65722f646576636f6e7461696e65722e6a736f6e222c2270617468223a222f55736572732f65706c6174612f446576656c6f7065722f706572736f6e616c2f736e6f77666c616b652d73616d706c652d636f64652f2e646576636f6e7461696e65722f646576636f6e7461696e65722e6a736f6e222c22736368656d65223a2266696c65227d7d/workspaces/snowflake-sample-code/hackathon/snowpark/load-xls-loader.ipynb#W0sdnNjb2RlLXJlbW90ZQ%3D%3D?line=2'>3</a>\u001b[0m \u001b[39mfrom\u001b[39;00m \u001b[39msnowflake\u001b[39;00m\u001b[39m.\u001b[39;00m\u001b[39msnowpark\u001b[39;00m\u001b[39m.\u001b[39;00m\u001b[39mfunctions\u001b[39;00m \u001b[39mimport\u001b[39;00m udf, avg, col\n\u001b[1;32m      <a href='vscode-notebook-cell://dev-container%2B7b22686f737450617468223a222f55736572732f65706c6174612f446576656c6f7065722f706572736f6e616c2f736e6f77666c616b652d73616d706c652d636f6465222c226c6f63616c446f636b6572223a66616c73652c2273657474696e6773223a7b22636f6e74657874223a226465736b746f702d6c696e7578227d2c22636f6e66696746696c65223a7b22246d6964223a312c22667350617468223a222f55736572732f65706c6174612f446576656c6f7065722f706572736f6e616c2f736e6f77666c616b652d73616d706c652d636f64652f2e646576636f6e7461696e65722f646576636f6e7461696e65722e6a736f6e222c2265787465726e616c223a2266696c653a2f2f2f55736572732f65706c6174612f446576656c6f7065722f706572736f6e616c2f736e6f77666c616b652d73616d706c652d636f64652f2e646576636f6e7461696e65722f646576636f6e7461696e65722e6a736f6e222c2270617468223a222f55736572732f65706c6174612f446576656c6f7065722f706572736f6e616c2f736e6f77666c616b652d73616d706c652d636f64652f2e646576636f6e7461696e65722f646576636f6e7461696e65722e6a736f6e222c22736368656d65223a2266696c65227d7d/workspaces/snowflake-sample-code/hackathon/snowpark/load-xls-loader.ipynb#W0sdnNjb2RlLXJlbW90ZQ%3D%3D?line=3'>4</a>\u001b[0m \u001b[39mfrom\u001b[39;00m \u001b[39msnowflake\u001b[39;00m\u001b[39m.\u001b[39;00m\u001b[39msnowpark\u001b[39;00m\u001b[39m.\u001b[39;00m\u001b[39mtypes\u001b[39;00m \u001b[39mimport\u001b[39;00m IntegerType, FloatType, StringType, BooleanType\n",
      "\u001b[0;31mModuleNotFoundError\u001b[0m: No module named 'snowflake'"
     ]
    }
   ],
   "source": [
    "import pandas as pd\n",
    "from snowflake.snowpark.session import Session\n",
    "from snowflake.snowpark.functions import udf, avg, col\n",
    "from snowflake.snowpark.types import IntegerType, FloatType, StringType, BooleanType\n",
    "from snowflake.snowpark.files import SnowflakeFile\n",
    "import sys\n",
    "sys.path.append('..')\n",
    "from credentials import Credentials"
   ]
  },
  {
   "cell_type": "code",
   "execution_count": null,
   "metadata": {},
   "outputs": [],
   "source": [
    "cred = Credentials()\n",
    "session = Session.builder.configs(cred.__dict__).create()"
   ]
  },
  {
   "cell_type": "code",
   "execution_count": null,
   "metadata": {},
   "outputs": [],
   "source": [
    "session.use_role(\"SYSADMIN\")\n",
    "session.use_database(\"HACKATHON\")\n",
    "session.use_warehouse(\"HACKATHON_VW\")\n",
    "session.use_schema(\"PUBLIC\")"
   ]
  },
  {
   "cell_type": "code",
   "execution_count": null,
   "metadata": {},
   "outputs": [],
   "source": [
    "class FileFormat:\n",
    "\tdef __init__(self, order_date:str, allocation_date:str, so_number:str, so_line:str, cust_po:str, end_user_po:str, account_rep:str, p_line:str, td_pn:str, manuf_pn:str):\n",
    "\t\tself.order_date = order_date\n",
    "\t\tself.allocation_date = allocation_date\n",
    "\t\tself.so_number = so_number\n",
    "\t\tself.so_line = so_line\n",
    "\t\tself.cust_po = cust_po\n",
    "\t\tself.end_user_po = end_user_po\n",
    "\t\tself.account_rep = account_rep\n",
    "\t\tself.p_line = p_line\n",
    "\t\tself.td_pn = td_pn\n",
    "\n",
    "\t@staticmethod\n",
    "\tdef keys():\n",
    "\t\treturn ['order_date', 'allocation_date', 'so_number', 'so_line', 'cust_po', 'end_user_po', 'account_rep', 'p_line', 'td_pn', 'manuf_pn']\n",
    "\n",
    "\tdef values(self):\n",
    "\t\treturn self.__dict__\n",
    "\t\n",
    "\tdef __del__(self):\n",
    "\t\t\"This (Magic/Dunder) method deletes the object from memory\"\n",
    "\t\tpass"
   ]
  },
  {
   "cell_type": "code",
   "execution_count": null,
   "metadata": {},
   "outputs": [],
   "source": [
    "import xlrd\n",
    "from datetime import datetime\n",
    "\n",
    "def read_first_workbook_from_excel(file_path):\n",
    "    with open(file_path, 'rb') as file:\n",
    "        binary_data = file.read()\n",
    "    \n",
    "    workbook = xlrd.open_workbook(file_contents=binary_data, on_demand=True)\n",
    "    \n",
    "    worksheet = workbook.sheet_by_index(0)\n",
    "\n",
    "    data = []\n",
    "    \n",
    "    for row in range(1, worksheet.nrows):\n",
    "\n",
    "        order_date = worksheet.cell(row, 0).value\n",
    "        if order_date == '':\n",
    "            order_date = None\n",
    "        else:\n",
    "            order_date = datetime(*xlrd.xldate_as_tuple(order_date, workbook.datemode)).strftime('%Y-%m-%d')\n",
    "        \n",
    "        allocation_date = worksheet.cell(row, 1).value\n",
    "        if allocation_date == '':\n",
    "            allocation_date = None\n",
    "        else:\n",
    "            allocation_date = datetime(*xlrd.xldate_as_tuple(allocation_date, workbook.datemode)).strftime('%Y-%m-%d')\n",
    "        \n",
    "        file_row = FileFormat(\n",
    "            order_date = order_date,\n",
    "            allocation_date = allocation_date,\n",
    "            so_number = worksheet.cell(row, 2).value,\n",
    "            so_line = worksheet.cell(row, 3).value,\n",
    "            cust_po = worksheet.cell(row, 4).value,\n",
    "            end_user_po = worksheet.cell(row, 5).value,\n",
    "            account_rep = worksheet.cell(row, 6).value,\n",
    "            p_line = worksheet.cell(row, 7).value,\n",
    "            td_pn = worksheet.cell(row, 8).value,\n",
    "            manuf_pn = worksheet.cell(row, 9).value\n",
    "        )\n",
    "        \n",
    "        data.append(file_row.values())\n",
    "    \n",
    "    df = pd.DataFrame(data, columns=FileFormat.keys()).astype(str)\n",
    "\n",
    "    return df\n",
    "    \n",
    "# Example usage:\n",
    "file_path = './testing.xls'\n",
    "df = read_first_workbook_from_excel(file_path)\n"
   ]
  },
  {
   "cell_type": "code",
   "execution_count": null,
   "metadata": {},
   "outputs": [],
   "source": [
    "df"
   ]
  },
  {
   "cell_type": "code",
   "execution_count": null,
   "metadata": {},
   "outputs": [],
   "source": [
    "session.close()"
   ]
  },
  {
   "cell_type": "code",
   "execution_count": null,
   "metadata": {},
   "outputs": [],
   "source": []
  }
 ],
 "metadata": {
  "kernelspec": {
   "display_name": "Python 3 (ipykernel)",
   "language": "python",
   "name": "python3"
  },
  "language_info": {
   "codemirror_mode": {
    "name": "ipython",
    "version": 3
   },
   "file_extension": ".py",
   "mimetype": "text/x-python",
   "name": "python",
   "nbconvert_exporter": "python",
   "pygments_lexer": "ipython3",
   "version": "3.11.5"
  },
  "orig_nbformat": 4
 },
 "nbformat": 4,
 "nbformat_minor": 2
}
